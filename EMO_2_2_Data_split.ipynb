{
  "nbformat": 4,
  "nbformat_minor": 0,
  "metadata": {
    "colab": {
      "name": "EMO_2.2 Data split.ipynb",
      "provenance": [],
      "authorship_tag": "ABX9TyOwowolrXGhpFtyxJJlelgq",
      "include_colab_link": true
    },
    "kernelspec": {
      "name": "python3",
      "display_name": "Python 3"
    }
  },
  "cells": [
    {
      "cell_type": "markdown",
      "metadata": {
        "id": "view-in-github",
        "colab_type": "text"
      },
      "source": [
        "<a href=\"https://colab.research.google.com/github/ParkSomin23/Voice_EmotionDetection/blob/master/EMO_2_2_Data_split.ipynb\" target=\"_parent\"><img src=\"https://colab.research.google.com/assets/colab-badge.svg\" alt=\"Open In Colab\"/></a>"
      ]
    },
    {
      "cell_type": "code",
      "metadata": {
        "id": "NBUxzTAq9sXH",
        "colab_type": "code",
        "colab": {}
      },
      "source": [
        "from sklearn import preprocessing\n",
        "from keras.utils import np_utils, to_categorical\n",
        "from sklearn.preprocessing import LabelEncoder\n",
        "import pickle\n",
        "\n",
        "import librosa\n",
        "import librosa.display\n",
        "import IPython.display as ipd\n",
        "\n",
        "import numpy as np\n",
        "import matplotlib.pyplot as plt\n",
        "from matplotlib.pyplot import specgram\n",
        "\n",
        "import pandas as pd\n",
        "import glob\n",
        "from sklearn.metrics import confusion_matrix\n",
        "\n",
        "import os\n",
        "import sys\n",
        "\n",
        "from tqdm import tqdm, tqdm_pandas"
      ],
      "execution_count": null,
      "outputs": []
    },
    {
      "cell_type": "code",
      "metadata": {
        "id": "cmgXKMVF9vue",
        "colab_type": "code",
        "colab": {
          "base_uri": "https://localhost:8080/",
          "height": 122
        },
        "outputId": "b197e0ae-a23d-4ef3-dca5-ff93b1941dd5"
      },
      "source": [
        "from google.colab import drive\n",
        "drive.mount('/gdrive', force_remount=True)"
      ],
      "execution_count": null,
      "outputs": [
        {
          "output_type": "stream",
          "text": [
            "Go to this URL in a browser: https://accounts.google.com/o/oauth2/auth?client_id=947318989803-6bn6qk8qdgf4n4g3pfee6491hc0brc4i.apps.googleusercontent.com&redirect_uri=urn%3aietf%3awg%3aoauth%3a2.0%3aoob&response_type=code&scope=email%20https%3a%2f%2fwww.googleapis.com%2fauth%2fdocs.test%20https%3a%2f%2fwww.googleapis.com%2fauth%2fdrive%20https%3a%2f%2fwww.googleapis.com%2fauth%2fdrive.photos.readonly%20https%3a%2f%2fwww.googleapis.com%2fauth%2fpeopleapi.readonly\n",
            "\n",
            "Enter your authorization code:\n",
            "··········\n",
            "Mounted at /gdrive\n"
          ],
          "name": "stdout"
        }
      ]
    },
    {
      "cell_type": "code",
      "metadata": {
        "id": "Kb1uJA1-9oG1",
        "colab_type": "code",
        "colab": {}
      },
      "source": [
        "def prepare_data(df, n, aug, mfcc):\n",
        "    X = np.empty(shape=(df.shape[0], n, 216, 1))\n",
        "    input_length = sampling_rate * audio_duration\n",
        "    \n",
        "    cnt = 0\n",
        "    for fname in tqdm(df.path):\n",
        "\n",
        "        file_path = fname\n",
        "        data, _ = librosa.load(file_path, sr=sampling_rate\n",
        "                               ,res_type=\"kaiser_fast\"\n",
        "                               ,duration=2.5\n",
        "                               ,offset=0.5\n",
        "                              )\n",
        "\n",
        "        # Random offset / Padding\n",
        "        if len(data) > input_length:\n",
        "            max_offset = len(data) - input_length\n",
        "            offset = np.random.randint(max_offset)\n",
        "            data = data[offset:(input_length+offset)]\n",
        "        else:\n",
        "            if input_length > len(data):\n",
        "                max_offset = input_length - len(data)\n",
        "                offset = np.random.randint(max_offset)\n",
        "            else:\n",
        "                offset = 0\n",
        "            data = np.pad(data, (offset, int(input_length) - len(data) - offset), \"constant\")\n",
        "\n",
        "        # Augmentation? \n",
        "        if aug == 1:\n",
        "            data = speedNpitch(data)\n",
        "        \n",
        "        # which feature?\n",
        "        if mfcc == 1:\n",
        "            # MFCC extraction \n",
        "            MFCC = librosa.feature.mfcc(data, sr=sampling_rate, n_mfcc=n_mfcc) # (n_mfcc, time?)\n",
        "            MFCC = np.expand_dims(MFCC, axis=-1) # (n_mfcc, time?, 1)\n",
        "            X[cnt,] = MFCC # (file_num, n_mfcc, time?, 1)\n",
        "            \n",
        "        else:\n",
        "            # Log-melspectogram\n",
        "            melspec = librosa.feature.melspectrogram(data, n_mels = n_melspec)   \n",
        "            logspec = librosa.amplitude_to_db(melspec)\n",
        "            logspec = np.expand_dims(logspec, axis=-1)\n",
        "            X[cnt,] = logspec\n",
        "            \n",
        "        cnt += 1\n",
        "\n",
        "        #print(X.shape)\n",
        "    \n",
        "    return X"
      ],
      "execution_count": null,
      "outputs": []
    },
    {
      "cell_type": "code",
      "metadata": {
        "id": "VHFgPODR95Sv",
        "colab_type": "code",
        "colab": {
          "base_uri": "https://localhost:8080/",
          "height": 419
        },
        "outputId": "0614a4e5-d621-404b-9ea3-79f59392c9bd"
      },
      "source": [
        "ref = pd.read_csv(\"/gdrive/My Drive/dataset_3.csv\")\n",
        "ref"
      ],
      "execution_count": null,
      "outputs": [
        {
          "output_type": "execute_result",
          "data": {
            "text/html": [
              "<div>\n",
              "<style scoped>\n",
              "    .dataframe tbody tr th:only-of-type {\n",
              "        vertical-align: middle;\n",
              "    }\n",
              "\n",
              "    .dataframe tbody tr th {\n",
              "        vertical-align: top;\n",
              "    }\n",
              "\n",
              "    .dataframe thead th {\n",
              "        text-align: right;\n",
              "    }\n",
              "</style>\n",
              "<table border=\"1\" class=\"dataframe\">\n",
              "  <thead>\n",
              "    <tr style=\"text-align: right;\">\n",
              "      <th></th>\n",
              "      <th>Unnamed: 0</th>\n",
              "      <th>labels</th>\n",
              "      <th>source</th>\n",
              "      <th>path</th>\n",
              "    </tr>\n",
              "  </thead>\n",
              "  <tbody>\n",
              "    <tr>\n",
              "      <th>0</th>\n",
              "      <td>0</td>\n",
              "      <td>male_neutral</td>\n",
              "      <td>SAVEE</td>\n",
              "      <td>/gdrive/My Drive/SAVEE/DC_n11.wav</td>\n",
              "    </tr>\n",
              "    <tr>\n",
              "      <th>1</th>\n",
              "      <td>1</td>\n",
              "      <td>male_angry</td>\n",
              "      <td>SAVEE</td>\n",
              "      <td>/gdrive/My Drive/SAVEE/DC_a12.wav</td>\n",
              "    </tr>\n",
              "    <tr>\n",
              "      <th>2</th>\n",
              "      <td>2</td>\n",
              "      <td>male_fear</td>\n",
              "      <td>SAVEE</td>\n",
              "      <td>/gdrive/My Drive/SAVEE/JE_f04.wav</td>\n",
              "    </tr>\n",
              "    <tr>\n",
              "      <th>3</th>\n",
              "      <td>3</td>\n",
              "      <td>male_disgust</td>\n",
              "      <td>SAVEE</td>\n",
              "      <td>/gdrive/My Drive/SAVEE/JK_d15.wav</td>\n",
              "    </tr>\n",
              "    <tr>\n",
              "      <th>4</th>\n",
              "      <td>4</td>\n",
              "      <td>male_happy</td>\n",
              "      <td>SAVEE</td>\n",
              "      <td>/gdrive/My Drive/SAVEE/DC_h14.wav</td>\n",
              "    </tr>\n",
              "    <tr>\n",
              "      <th>...</th>\n",
              "      <td>...</td>\n",
              "      <td>...</td>\n",
              "      <td>...</td>\n",
              "      <td>...</td>\n",
              "    </tr>\n",
              "    <tr>\n",
              "      <th>4519</th>\n",
              "      <td>4519</td>\n",
              "      <td>female_sad</td>\n",
              "      <td>TESS</td>\n",
              "      <td>/gdrive/My Drive/TESS/TESS Toronto emotional s...</td>\n",
              "    </tr>\n",
              "    <tr>\n",
              "      <th>4520</th>\n",
              "      <td>4520</td>\n",
              "      <td>female_sad</td>\n",
              "      <td>TESS</td>\n",
              "      <td>/gdrive/My Drive/TESS/TESS Toronto emotional s...</td>\n",
              "    </tr>\n",
              "    <tr>\n",
              "      <th>4521</th>\n",
              "      <td>4521</td>\n",
              "      <td>female_sad</td>\n",
              "      <td>TESS</td>\n",
              "      <td>/gdrive/My Drive/TESS/TESS Toronto emotional s...</td>\n",
              "    </tr>\n",
              "    <tr>\n",
              "      <th>4522</th>\n",
              "      <td>4522</td>\n",
              "      <td>female_sad</td>\n",
              "      <td>TESS</td>\n",
              "      <td>/gdrive/My Drive/TESS/TESS Toronto emotional s...</td>\n",
              "    </tr>\n",
              "    <tr>\n",
              "      <th>4523</th>\n",
              "      <td>4523</td>\n",
              "      <td>female_sad</td>\n",
              "      <td>TESS</td>\n",
              "      <td>/gdrive/My Drive/TESS/TESS Toronto emotional s...</td>\n",
              "    </tr>\n",
              "  </tbody>\n",
              "</table>\n",
              "<p>4524 rows × 4 columns</p>\n",
              "</div>"
            ],
            "text/plain": [
              "      Unnamed: 0  ...                                               path\n",
              "0              0  ...                  /gdrive/My Drive/SAVEE/DC_n11.wav\n",
              "1              1  ...                  /gdrive/My Drive/SAVEE/DC_a12.wav\n",
              "2              2  ...                  /gdrive/My Drive/SAVEE/JE_f04.wav\n",
              "3              3  ...                  /gdrive/My Drive/SAVEE/JK_d15.wav\n",
              "4              4  ...                  /gdrive/My Drive/SAVEE/DC_h14.wav\n",
              "...          ...  ...                                                ...\n",
              "4519        4519  ...  /gdrive/My Drive/TESS/TESS Toronto emotional s...\n",
              "4520        4520  ...  /gdrive/My Drive/TESS/TESS Toronto emotional s...\n",
              "4521        4521  ...  /gdrive/My Drive/TESS/TESS Toronto emotional s...\n",
              "4522        4522  ...  /gdrive/My Drive/TESS/TESS Toronto emotional s...\n",
              "4523        4523  ...  /gdrive/My Drive/TESS/TESS Toronto emotional s...\n",
              "\n",
              "[4524 rows x 4 columns]"
            ]
          },
          "metadata": {
            "tags": []
          },
          "execution_count": 5
        }
      ]
    },
    {
      "cell_type": "code",
      "metadata": {
        "id": "rNswowss-GTX",
        "colab_type": "code",
        "colab": {
          "base_uri": "https://localhost:8080/",
          "height": 34
        },
        "outputId": "feb37236-30e9-49a5-bea6-982d961aa0d3"
      },
      "source": [
        "sampling_rate= 44100\n",
        "audio_duration=2.5\n",
        "n_mfcc = 30\n",
        "mfcc = prepare_data(ref, n = n_mfcc, aug = 0, mfcc = 1)\n",
        "\n",
        "import pickle\n",
        "with open(\"/gdrive/My Drive/mfcc.pkl\", 'wb') as f:\n",
        "    pickle.dump(mfcc, f)"
      ],
      "execution_count": null,
      "outputs": [
        {
          "output_type": "stream",
          "text": [
            "100%|██████████| 4524/4524 [31:32<00:00,  2.39it/s]\n"
          ],
          "name": "stderr"
        }
      ]
    },
    {
      "cell_type": "code",
      "metadata": {
        "id": "UFqbow0YGf7c",
        "colab_type": "code",
        "colab": {
          "base_uri": "https://localhost:8080/",
          "height": 419
        },
        "outputId": "d9c37e48-d209-43c0-a5ef-25dd00e85114"
      },
      "source": [
        "c_ref = pd.read_csv(\"/gdrive/My Drive/dataset_crema_2.csv\")\n",
        "c = c_ref.drop(7062)\n",
        "c"
      ],
      "execution_count": null,
      "outputs": [
        {
          "output_type": "execute_result",
          "data": {
            "text/html": [
              "<div>\n",
              "<style scoped>\n",
              "    .dataframe tbody tr th:only-of-type {\n",
              "        vertical-align: middle;\n",
              "    }\n",
              "\n",
              "    .dataframe tbody tr th {\n",
              "        vertical-align: top;\n",
              "    }\n",
              "\n",
              "    .dataframe thead th {\n",
              "        text-align: right;\n",
              "    }\n",
              "</style>\n",
              "<table border=\"1\" class=\"dataframe\">\n",
              "  <thead>\n",
              "    <tr style=\"text-align: right;\">\n",
              "      <th></th>\n",
              "      <th>Unnamed: 0</th>\n",
              "      <th>labels</th>\n",
              "      <th>source</th>\n",
              "      <th>path</th>\n",
              "    </tr>\n",
              "  </thead>\n",
              "  <tbody>\n",
              "    <tr>\n",
              "      <th>0</th>\n",
              "      <td>4524</td>\n",
              "      <td>male_angry</td>\n",
              "      <td>CREMA</td>\n",
              "      <td>/gdrive/My Drive/CREMA-D/1001_DFA_ANG_XX.wav</td>\n",
              "    </tr>\n",
              "    <tr>\n",
              "      <th>1</th>\n",
              "      <td>4525</td>\n",
              "      <td>male_disgust</td>\n",
              "      <td>CREMA</td>\n",
              "      <td>/gdrive/My Drive/CREMA-D/1001_DFA_DIS_XX.wav</td>\n",
              "    </tr>\n",
              "    <tr>\n",
              "      <th>2</th>\n",
              "      <td>4526</td>\n",
              "      <td>male_fear</td>\n",
              "      <td>CREMA</td>\n",
              "      <td>/gdrive/My Drive/CREMA-D/1001_DFA_FEA_XX.wav</td>\n",
              "    </tr>\n",
              "    <tr>\n",
              "      <th>3</th>\n",
              "      <td>4527</td>\n",
              "      <td>male_happy</td>\n",
              "      <td>CREMA</td>\n",
              "      <td>/gdrive/My Drive/CREMA-D/1001_DFA_HAP_XX.wav</td>\n",
              "    </tr>\n",
              "    <tr>\n",
              "      <th>4</th>\n",
              "      <td>4528</td>\n",
              "      <td>male_neutral</td>\n",
              "      <td>CREMA</td>\n",
              "      <td>/gdrive/My Drive/CREMA-D/1001_DFA_NEU_XX.wav</td>\n",
              "    </tr>\n",
              "    <tr>\n",
              "      <th>...</th>\n",
              "      <td>...</td>\n",
              "      <td>...</td>\n",
              "      <td>...</td>\n",
              "      <td>...</td>\n",
              "    </tr>\n",
              "    <tr>\n",
              "      <th>7057</th>\n",
              "      <td>11581</td>\n",
              "      <td>male_fear</td>\n",
              "      <td>CREMA</td>\n",
              "      <td>/gdrive/My Drive/CREMA-D/1087_IOM_FEA_XX.wav</td>\n",
              "    </tr>\n",
              "    <tr>\n",
              "      <th>7058</th>\n",
              "      <td>11582</td>\n",
              "      <td>male_happy</td>\n",
              "      <td>CREMA</td>\n",
              "      <td>/gdrive/My Drive/CREMA-D/1087_IOM_HAP_XX.wav</td>\n",
              "    </tr>\n",
              "    <tr>\n",
              "      <th>7059</th>\n",
              "      <td>11583</td>\n",
              "      <td>male_neutral</td>\n",
              "      <td>CREMA</td>\n",
              "      <td>/gdrive/My Drive/CREMA-D/1087_IOM_NEU_XX.wav</td>\n",
              "    </tr>\n",
              "    <tr>\n",
              "      <th>7060</th>\n",
              "      <td>11584</td>\n",
              "      <td>male_sad</td>\n",
              "      <td>CREMA</td>\n",
              "      <td>/gdrive/My Drive/CREMA-D/1087_IOM_SAD_XX.wav</td>\n",
              "    </tr>\n",
              "    <tr>\n",
              "      <th>7061</th>\n",
              "      <td>11585</td>\n",
              "      <td>male_angry</td>\n",
              "      <td>CREMA</td>\n",
              "      <td>/gdrive/My Drive/CREMA-D/1087_ITH_ANG_XX.wav</td>\n",
              "    </tr>\n",
              "  </tbody>\n",
              "</table>\n",
              "<p>7062 rows × 4 columns</p>\n",
              "</div>"
            ],
            "text/plain": [
              "      Unnamed: 0  ...                                          path\n",
              "0           4524  ...  /gdrive/My Drive/CREMA-D/1001_DFA_ANG_XX.wav\n",
              "1           4525  ...  /gdrive/My Drive/CREMA-D/1001_DFA_DIS_XX.wav\n",
              "2           4526  ...  /gdrive/My Drive/CREMA-D/1001_DFA_FEA_XX.wav\n",
              "3           4527  ...  /gdrive/My Drive/CREMA-D/1001_DFA_HAP_XX.wav\n",
              "4           4528  ...  /gdrive/My Drive/CREMA-D/1001_DFA_NEU_XX.wav\n",
              "...          ...  ...                                           ...\n",
              "7057       11581  ...  /gdrive/My Drive/CREMA-D/1087_IOM_FEA_XX.wav\n",
              "7058       11582  ...  /gdrive/My Drive/CREMA-D/1087_IOM_HAP_XX.wav\n",
              "7059       11583  ...  /gdrive/My Drive/CREMA-D/1087_IOM_NEU_XX.wav\n",
              "7060       11584  ...  /gdrive/My Drive/CREMA-D/1087_IOM_SAD_XX.wav\n",
              "7061       11585  ...  /gdrive/My Drive/CREMA-D/1087_ITH_ANG_XX.wav\n",
              "\n",
              "[7062 rows x 4 columns]"
            ]
          },
          "metadata": {
            "tags": []
          },
          "execution_count": 6
        }
      ]
    },
    {
      "cell_type": "code",
      "metadata": {
        "id": "VsDRzDEXHO3k",
        "colab_type": "code",
        "colab": {
          "base_uri": "https://localhost:8080/",
          "height": 34
        },
        "outputId": "8cb18ea7-acc0-4527-ecf5-35a4d4c58f2c"
      },
      "source": [
        "sampling_rate= 44100\n",
        "audio_duration=2.5\n",
        "n_mfcc = 30\n",
        "mfcc_c = prepare_data(c, n = n_mfcc, aug = 0, mfcc = 1)\n",
        "\n",
        "import pickle\n",
        "with open(\"/gdrive/My Drive/mfcc_c_2.pkl\", 'wb') as f:\n",
        "    pickle.dump(mfcc_c, f)"
      ],
      "execution_count": null,
      "outputs": [
        {
          "output_type": "stream",
          "text": [
            "100%|██████████| 7062/7062 [35:21<00:00,  3.33it/s]\n"
          ],
          "name": "stderr"
        }
      ]
    },
    {
      "cell_type": "code",
      "metadata": {
        "id": "9_hxChG2vc-A",
        "colab_type": "code",
        "colab": {
          "base_uri": "https://localhost:8080/",
          "height": 34
        },
        "outputId": "95b1ab30-49a5-4e2f-dbf2-68dae1075a02"
      },
      "source": [
        "with open(\"/gdrive/My Drive/mfcc_c_2.pkl\", 'rb') as f:\n",
        "    d = pickle.load(f)\n",
        "\n",
        "d.shape"
      ],
      "execution_count": null,
      "outputs": [
        {
          "output_type": "execute_result",
          "data": {
            "text/plain": [
              "(7062, 30, 216, 1)"
            ]
          },
          "metadata": {
            "tags": []
          },
          "execution_count": 8
        }
      ]
    },
    {
      "cell_type": "markdown",
      "metadata": {
        "id": "fS26lEYkM65L",
        "colab_type": "text"
      },
      "source": [
        "# MEL"
      ]
    },
    {
      "cell_type": "code",
      "metadata": {
        "id": "bC6R_35iNIDA",
        "colab_type": "code",
        "colab": {
          "base_uri": "https://localhost:8080/",
          "height": 34
        },
        "outputId": "635d7157-33b5-43b9-8cf9-12ab83dc95d4"
      },
      "source": [
        "ref = pd.read_csv(\"/gdrive/My Drive/dataset_3.csv\")\n",
        "sampling_rate=44100\n",
        "audio_duration=2.5\n",
        "n_melspec = 30\n",
        "mel = prepare_data(c, n = n_melspec, aug = 0, mfcc = 0)\n",
        "\n",
        "import pickle\n",
        "with open(\"/gdrive/My Drive/mel_crema.pkl\", 'wb') as f:\n",
        "    pickle.dump(mel, f) #crema"
      ],
      "execution_count": null,
      "outputs": [
        {
          "output_type": "stream",
          "text": [
            "100%|██████████| 7062/7062 [24:22<00:00,  4.83it/s]\n"
          ],
          "name": "stderr"
        }
      ]
    },
    {
      "cell_type": "code",
      "metadata": {
        "id": "P4d8hixU1lNf",
        "colab_type": "code",
        "colab": {
          "base_uri": "https://localhost:8080/",
          "height": 34
        },
        "outputId": "c14d8af5-7c45-404b-c8fa-a0ac01ee29f5"
      },
      "source": [
        "with open(\"/gdrive/My Drive/mel_crema.pkl\", 'rb') as f:\n",
        "    d = pickle.load(f)\n",
        "\n",
        "d.shape"
      ],
      "execution_count": null,
      "outputs": [
        {
          "output_type": "execute_result",
          "data": {
            "text/plain": [
              "(7062, 30, 216, 1)"
            ]
          },
          "metadata": {
            "tags": []
          },
          "execution_count": 10
        }
      ]
    },
    {
      "cell_type": "code",
      "metadata": {
        "id": "HX1jb2YOHUYD",
        "colab_type": "code",
        "colab": {
          "base_uri": "https://localhost:8080/",
          "height": 34
        },
        "outputId": "20713cfe-9a99-4719-b378-86898aa62ce5"
      },
      "source": [
        "sampling_rate=44100\n",
        "audio_duration=2.5\n",
        "n_melspec = 30\n",
        "c_mel = prepare_data(ref, n = n_melspec, aug = 0, mfcc = 0)\n",
        "\n",
        "import pickle\n",
        "with open(\"/gdrive/My Drive/dataset_mel.pkl\", 'wb') as f:\n",
        "    pickle.dump(c_mel, f) #  savee"
      ],
      "execution_count": null,
      "outputs": [
        {
          "output_type": "stream",
          "text": [
            "100%|██████████| 4524/4524 [17:47<00:00,  4.24it/s]\n"
          ],
          "name": "stderr"
        }
      ]
    }
  ]
}