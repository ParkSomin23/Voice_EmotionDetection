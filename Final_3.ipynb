{
  "nbformat": 4,
  "nbformat_minor": 0,
  "metadata": {
    "colab": {
      "name": "Copy of Final_2",
      "provenance": [],
      "collapsed_sections": [
        "k0T7I7gk9kV6"
      ],
      "toc_visible": true,
      "authorship_tag": "ABX9TyPwRdLKGdY3J5wT196NhgQb",
      "include_colab_link": true
    },
    "kernelspec": {
      "name": "python3",
      "display_name": "Python 3"
    },
    "accelerator": "GPU"
  },
  "cells": [
    {
      "cell_type": "markdown",
      "metadata": {
        "id": "view-in-github",
        "colab_type": "text"
      },
      "source": [
        "<a href=\"https://colab.research.google.com/github/ParkSomin23/Voice_EmotionDetection/blob/master/Final_3.ipynb\" target=\"_parent\"><img src=\"https://colab.research.google.com/assets/colab-badge.svg\" alt=\"Open In Colab\"/></a>"
      ]
    },
    {
      "cell_type": "code",
      "metadata": {
        "id": "Km9yc4MeauX3",
        "colab_type": "code",
        "colab": {}
      },
      "source": [
        "import numpy as np\n",
        "import torch\n",
        "import torch.nn as nn\n",
        "import torch.nn.functional as F\n",
        "import torch.optim as optim\n",
        "from torch.optim import lr_scheduler\n",
        "from torch.autograd import Variable\n",
        "\n",
        "import numpy as np\n",
        "\n",
        "import os\n",
        "import sys\n",
        "\n",
        "import pandas as pd\n",
        "import pickle\n",
        "\n",
        "import time\n",
        "\n",
        "import matplotlib.pyplot as plt"
      ],
      "execution_count": null,
      "outputs": []
    },
    {
      "cell_type": "code",
      "metadata": {
        "id": "AYS58Q5abDsi",
        "colab_type": "code",
        "colab": {}
      },
      "source": [
        "from sklearn.metrics import confusion_matrix, accuracy_score\n",
        "from sklearn.model_selection import train_test_split\n",
        "from sklearn.preprocessing import LabelEncoder\n",
        "\n",
        "from torch.utils.data import Dataset\n",
        "from torch.utils.data import DataLoader\n",
        "\n",
        "from keras.utils import np_utils, to_categorical"
      ],
      "execution_count": null,
      "outputs": []
    },
    {
      "cell_type": "code",
      "metadata": {
        "id": "ZjRaAKWSCxX0",
        "colab_type": "code",
        "colab": {
          "base_uri": "https://localhost:8080/",
          "height": 34
        },
        "outputId": "bc913431-e937-4361-9119-67f68a195d95"
      },
      "source": [
        "from google.colab import drive\n",
        "drive.mount('/gdrive', force_remount=True)"
      ],
      "execution_count": null,
      "outputs": [
        {
          "output_type": "stream",
          "text": [
            "Mounted at /gdrive\n"
          ],
          "name": "stdout"
        }
      ]
    },
    {
      "cell_type": "markdown",
      "metadata": {
        "id": "8Sri-fe8cKpO",
        "colab_type": "text"
      },
      "source": [
        "# Base"
      ]
    },
    {
      "cell_type": "code",
      "metadata": {
        "id": "ZZvRwZlhNZpq",
        "colab_type": "code",
        "colab": {}
      },
      "source": [
        "class myDataset(Dataset):\n",
        "    def __init__(self, d, l):\n",
        "      self.d = d\n",
        "      self.l = l\n",
        "\n",
        "    def __getitem__(self, idx):\n",
        "      data = self.d[idx]\n",
        "      data = np.transpose(data,(2,0,1))\n",
        "      l = self.l[idx].argmax()\n",
        "      return data, l\n",
        "\n",
        "    def __len__(self):\n",
        "      return len(self.d)"
      ],
      "execution_count": null,
      "outputs": []
    },
    {
      "cell_type": "code",
      "metadata": {
        "colab_type": "code",
        "id": "GETqr704lMZi",
        "colab": {}
      },
      "source": [
        "class Emo2DNet_2(nn.Module):\n",
        "    def __init__(self, n):\n",
        "        super().__init__()\n",
        "        self.n = n\n",
        "        self.conv1 = nn.Conv2d(1, 32, kernel_size = (3, 9), padding=(1,4))\n",
        "        self.b_norm1 = nn.BatchNorm2d(32)\n",
        "        \n",
        "        self.conv2 = nn.Conv2d(32, 32, kernel_size = (3, 9), padding=(1,4))\n",
        "        self.b_norm2 = nn.BatchNorm2d(32)\n",
        "        \n",
        "        self.conv3 = nn.Conv2d(32, 32, kernel_size = (3, 9), padding=(1,4))\n",
        "        self.b_norm3 = nn.BatchNorm2d(32)\n",
        "        \n",
        "        self.conv4 = nn.Conv2d(32, 32, kernel_size = (3, 9), padding=(1,4))\n",
        "        self.b_norm4 = nn.BatchNorm2d(32)\n",
        "        \n",
        "        self.b_norm5 = nn.BatchNorm1d(64) #\n",
        "        \n",
        "        self.fc1 = nn.Linear(32*13, 64)\n",
        "        self.fc2 = nn.Linear(64, 14)\n",
        "\n",
        "    def forward(self, x):\n",
        "\n",
        "        x = self.conv1(x)\n",
        "        x = nn.ReLU()(self.b_norm1(x))\n",
        "        x = nn.MaxPool2d(2)(x)\n",
        "        x = nn.Dropout2d(p=0.2)(x)\n",
        "\n",
        "        x = self.conv2(x)\n",
        "        x = nn.ReLU()(self.b_norm2(x))\n",
        "        x = nn.MaxPool2d(2)(x)\n",
        "        x = nn.Dropout2d(p=0.2)(x)\n",
        "\n",
        "        x = self.conv3(x)\n",
        "        x = nn.ReLU()(self.b_norm3(x))\n",
        "        x = nn.MaxPool2d(2)(x)\n",
        "        x = nn.Dropout2d(p=0.2)(x)\n",
        "        \n",
        "        x = self.conv4(x)\n",
        "        x = nn.ReLU()(self.b_norm4(x))\n",
        "        x = nn.MaxPool2d(2)(x)\n",
        "        x = nn.Dropout2d(p=0.2)(x)\n",
        "\n",
        "        x = x.view(-1, 32*13)\n",
        "        x = self.fc1(x)\n",
        "        x = nn.Dropout(p=0.2)(x)\n",
        "        \n",
        "        x = self.b_norm5(x)\n",
        "\n",
        "        x = nn.ReLU()(x)\n",
        "        x = nn.Dropout(p=0.2)(x)\n",
        "        x = self.fc2(x)\n",
        "\n",
        "        return x"
      ],
      "execution_count": null,
      "outputs": []
    },
    {
      "cell_type": "code",
      "metadata": {
        "colab_type": "code",
        "id": "IN7ChUo3KVyv",
        "colab": {}
      },
      "source": [
        "device = torch.device(\"cuda:0\" if torch.cuda.is_available() else \"cpu\")\n",
        "\n",
        "def fit(model, loader, phase):\n",
        "\n",
        "  criterion = nn.CrossEntropyLoss()\n",
        "  optimizer = optim.Adam(model.parameters(), lr=0.0001, betas=(0.9, 0.99))\n",
        "    \n",
        "  if phase == 'train':\n",
        "    model.train()\n",
        "    \n",
        "  if phase == 'valid':\n",
        "    model.eval()\n",
        "\n",
        "  running_loss = 0.0\n",
        "  running_correct = 0\n",
        "  e = 1\n",
        "\n",
        "  for i, (x, target) in enumerate(loader):\n",
        "    if torch.cuda.is_available():\n",
        "      x = x.cuda()\n",
        "      target = target.cuda()\n",
        "\n",
        "    if phase == 'train':\n",
        "      optimizer.zero_grad()\n",
        "            \n",
        "    output = model(x.float())\n",
        "    loss = criterion(output, target)\n",
        "      \n",
        "    running_loss += loss.item()\n",
        "\n",
        "    preds = output.argmax(dim=1)\n",
        "    running_correct += (preds == target).sum()\n",
        "      \n",
        "    if phase == 'train':\n",
        "      loss.backward()\n",
        "      optimizer.step()\n",
        "\n",
        "    e += 1\n",
        "\n",
        "  loss = running_loss / float(e) #len(loader.dataset)\n",
        "  acc = 100. * running_correct / float(len(loader.dataset))\n",
        "    \n",
        "  return  loss, acc"
      ],
      "execution_count": null,
      "outputs": []
    },
    {
      "cell_type": "markdown",
      "metadata": {
        "id": "FJ0fl9uocVwt",
        "colab_type": "text"
      },
      "source": [
        "# ALL DATA : Mel (30)"
      ]
    },
    {
      "cell_type": "code",
      "metadata": {
        "id": "_no8AgzL2fK5",
        "colab_type": "code",
        "colab": {
          "base_uri": "https://localhost:8080/",
          "height": 69
        },
        "outputId": "502b5bd0-95d5-43fb-a167-e68406595feb"
      },
      "source": [
        "import pickle\n",
        "import pandas as pd\n",
        "\n",
        "with open(\"/gdrive/My Drive/mel_crema.pkl\", 'rb') as f:\n",
        "    mel_c = pickle.load(f)\n",
        "\n",
        "with open(\"/gdrive/My Drive/mel_3.pkl\", 'rb') as f:\n",
        "    mel_3 = pickle.load(f)\n",
        "\n",
        "print(mel_c.shape)\n",
        "print(mel_3.shape)\n",
        "\n",
        "ref = pd.read_csv(\"/gdrive/My Drive/Data_path.csv\")\n",
        "ref = ref.drop(11586)\n",
        "\n",
        "mel = np.concatenate((mel_3, mel_c), axis=0)\n",
        "mel.shape"
      ],
      "execution_count": null,
      "outputs": [
        {
          "output_type": "stream",
          "text": [
            "(7062, 30, 216, 1)\n",
            "(4524, 30, 216, 1)\n"
          ],
          "name": "stdout"
        },
        {
          "output_type": "execute_result",
          "data": {
            "text/plain": [
              "(11586, 30, 216, 1)"
            ]
          },
          "metadata": {
            "tags": []
          },
          "execution_count": 46
        }
      ]
    },
    {
      "cell_type": "code",
      "metadata": {
        "id": "gM6W1baz2Krf",
        "colab_type": "code",
        "colab": {}
      },
      "source": [
        " X_train, X_test, y_train, y_test = train_test_split(mel, ref['labels'], test_size=0.4, random_state=23)\n",
        "\n",
        " X_test, X_val, y_test, y_val = train_test_split(X_test, y_test, test_size=0.5, random_state=23)"
      ],
      "execution_count": null,
      "outputs": []
    },
    {
      "cell_type": "code",
      "metadata": {
        "id": "x-S35fiD77H9",
        "colab_type": "code",
        "colab": {}
      },
      "source": [
        "# one hot encode the target \n",
        "lb = LabelEncoder()\n",
        "y_train = np_utils.to_categorical(lb.fit_transform(y_train))\n",
        "y_test = np_utils.to_categorical(lb.fit_transform(y_test))\n",
        "y_val = np_utils.to_categorical(lb.fit_transform(y_val))\n",
        "\n",
        "# Normalization as per the standard NN process\n",
        "min = np.min(X_train, axis=0)\n",
        "max = np.max(X_train, axis=0)\n",
        "\n",
        "X_train = (X_train - min)/ (max-min)\n",
        "X_test = (X_test - min)/ (max-min)\n",
        "X_val = (X_val - min)/ (max-min)"
      ],
      "execution_count": null,
      "outputs": []
    },
    {
      "cell_type": "code",
      "metadata": {
        "id": "WPRwuPOPBVgq",
        "colab_type": "code",
        "colab": {}
      },
      "source": [
        "train_dataset = myDataset(X_train, y_train)\n",
        "train_loader = DataLoader(train_dataset, batch_size= 16, shuffle=True)\n",
        "\n",
        "valid_dataset = myDataset(X_val, y_val)\n",
        "valid_loader = DataLoader(valid_dataset, batch_size= 16, shuffle=True)\n",
        "\n",
        "test_dataset = myDataset(X_test, y_test)\n",
        "test_loader = DataLoader(test_dataset, batch_size=32, shuffle=True)"
      ],
      "execution_count": null,
      "outputs": []
    },
    {
      "cell_type": "code",
      "metadata": {
        "id": "uAL7__sYa9Ol",
        "colab_type": "code",
        "colab": {
          "base_uri": "https://localhost:8080/",
          "height": 69
        },
        "outputId": "aa65aeab-8040-4e9e-df94-845fbd1c5fec"
      },
      "source": [
        "print(\"train : \", X_train.shape)\n",
        "print(\"valid : \", X_val.shape)\n",
        "print(\"test : \", X_test.shape)"
      ],
      "execution_count": null,
      "outputs": [
        {
          "output_type": "stream",
          "text": [
            "train :  (6951, 30, 216, 1)\n",
            "valid :  (2318, 30, 216, 1)\n",
            "test :  (2317, 30, 216, 1)\n"
          ],
          "name": "stdout"
        }
      ]
    },
    {
      "cell_type": "code",
      "metadata": {
        "id": "oTPbLQOfAyPy",
        "colab_type": "code",
        "colab": {}
      },
      "source": [
        "mel_model = Emo2DNet_2(14)\n",
        "if torch.cuda.is_available():\n",
        "  mel_model = mel_model.cuda()\n",
        "\n",
        "train_loss, train_acc = [], []\n",
        "val_loss, val_acc = [], []\n",
        "best_acc = 0.0\n",
        "\n",
        "for epoch in range(100):\n",
        "  t_loss, t_acc = fit(mel_model, train_loader, 'train')\n",
        "  v_loss, v_acc = fit(mel_model, valid_loader, 'valid')\n",
        "\n",
        "  if v_acc > best_acc:\n",
        "    best_acc = v_acc\n",
        "    best_model_wts = mel_model.state_dict()\n",
        "\n",
        "  train_loss.append(t_loss)\n",
        "  train_acc.append(t_acc)\n",
        "  val_loss.append(v_loss)\n",
        "  val_acc.append(v_acc)"
      ],
      "execution_count": null,
      "outputs": []
    },
    {
      "cell_type": "code",
      "metadata": {
        "id": "dI-DXotpnHpD",
        "colab_type": "code",
        "colab": {
          "base_uri": "https://localhost:8080/",
          "height": 282
        },
        "outputId": "746e2606-8aea-4196-fda5-3fef89aa06d0"
      },
      "source": [
        "plt.plot(range(len(train_acc)), train_acc, label='train')\n",
        "plt.plot(range(len(val_acc)), val_acc, label='valid')\n",
        "plt.legend()\n",
        "print(best_acc)"
      ],
      "execution_count": null,
      "outputs": [
        {
          "output_type": "stream",
          "text": [
            "tensor(52.1570, device='cuda:0')\n"
          ],
          "name": "stdout"
        },
        {
          "output_type": "display_data",
          "data": {
            "image/png": "[encoded data removed]",
            "text/plain": [
              "<Figure size 432x288 with 1 Axes>"
            ]
          },
          "metadata": {
            "tags": [],
            "needs_background": "light"
          }
        }
      ]
    },
    {
      "cell_type": "code",
      "metadata": {
        "id": "5fQI9PGnom3n",
        "colab_type": "code",
        "colab": {
          "base_uri": "https://localhost:8080/",
          "height": 282
        },
        "outputId": "f9e3baa3-f56b-474c-e16d-da14e6e231d8"
      },
      "source": [
        "plt.plot(range(len(train_loss)), train_loss, label='train')\n",
        "plt.plot(range(len(val_loss)), val_loss, label='valid')\n",
        "plt.legend()"
      ],
      "execution_count": null,
      "outputs": [
        {
          "output_type": "execute_result",
          "data": {
            "text/plain": [
              "<matplotlib.legend.Legend at 0x7f26f17c4710>"
            ]
          },
          "metadata": {
            "tags": []
          },
          "execution_count": 53
        },
        {
          "output_type": "display_data",
          "data": {
            "image/png": "[encoded data removed]",
            "text/plain": [
              "<Figure size 432x288 with 1 Axes>"
            ]
          },
          "metadata": {
            "tags": [],
            "needs_background": "light"
          }
        }
      ]
    },
    {
      "cell_type": "code",
      "metadata": {
        "id": "ETr5940hZwmN",
        "colab_type": "code",
        "colab": {
          "base_uri": "https://localhost:8080/",
          "height": 52
        },
        "outputId": "728515dd-864a-4b7f-fb32-8321f0700981"
      },
      "source": [
        "device = torch.device(\"cuda:0\" if torch.cuda.is_available() else \"cpu\")\n",
        "correct = 0\n",
        "\n",
        "test_net = Emo2DNet_2(14)\n",
        "test_net.load_state_dict(best_model_wts)\n",
        "cm = np.zeros((14,14))\n",
        "c = np.arange(14)\n",
        "\n",
        "for i, (x, target) in enumerate(test_loader):\n",
        "  if torch.cuda.is_available():\n",
        "    x = x.cuda()\n",
        "    target = target.cuda()\n",
        "    test_net = test_net.cuda()\n",
        "\n",
        "  output = test_net(x.float())\n",
        "  preds = output.argmax(dim=1)\n",
        "\n",
        "  correct += (preds == target).sum()\n",
        "  cm += confusion_matrix(preds.cpu(), target.cpu(), labels = c)\n",
        "\n",
        "acc = 100. * correct / len(test_loader.dataset)\n",
        "\n",
        "print(\"ACC Test\")\n",
        "print(acc)"
      ],
      "execution_count": null,
      "outputs": [
        {
          "output_type": "stream",
          "text": [
            "ACC Test\n",
            "tensor(51.2300, device='cuda:0')\n"
          ],
          "name": "stdout"
        }
      ]
    },
    {
      "cell_type": "code",
      "metadata": {
        "id": "19PrpPcHj9TI",
        "colab_type": "code",
        "colab": {
          "base_uri": "https://localhost:8080/",
          "height": 352
        },
        "outputId": "0a596330-0a11-4746-d710-c573214481ea"
      },
      "source": [
        "import seaborn as sns\n",
        "cm_d = cm.astype('int')\n",
        "l = lb.classes_\n",
        "sns.heatmap(cm_d, annot=True, fmt='d', xticklabels=l, yticklabels=l)"
      ],
      "execution_count": null,
      "outputs": [
        {
          "output_type": "execute_result",
          "data": {
            "text/plain": [
              "<matplotlib.axes._subplots.AxesSubplot at 0x7f26f1800b00>"
            ]
          },
          "metadata": {
            "tags": []
          },
          "execution_count": 55
        },
        {
          "output_type": "display_data",
          "data": {
            "image/png": "[encoded data removed]",
            "text/plain": [
              "<Figure size 432x288 with 2 Axes>"
            ]
          },
          "metadata": {
            "tags": [],
            "needs_background": "light"
          }
        }
      ]
    },
    {
      "cell_type": "code",
      "metadata": {
        "id": "xVSg26wDoGhy",
        "colab_type": "code",
        "colab": {}
      },
      "source": [
        "with open('mel_30_new.pkl', 'wb') as f:\n",
        "  pickle.dump(best_model_wts, f)"
      ],
      "execution_count": null,
      "outputs": []
    },
    {
      "cell_type": "markdown",
      "metadata": {
        "id": "-oIlp_Kakl-Y",
        "colab_type": "text"
      },
      "source": [
        "# ALL DATA : MFCC (30)"
      ]
    },
    {
      "cell_type": "code",
      "metadata": {
        "colab_type": "code",
        "id": "ON-VAAdclqVr",
        "colab": {
          "base_uri": "https://localhost:8080/",
          "height": 69
        },
        "outputId": "c9650d1e-b5fc-40ec-f36f-460157811459"
      },
      "source": [
        "import pickle\n",
        "import pandas as pd\n",
        "\n",
        "with open(\"/gdrive/My Drive/mfcc_crema.pkl\", 'rb') as f:\n",
        "    mfcc_c = pickle.load(f)\n",
        "\n",
        "with open(\"/gdrive/My Drive/mfcc_3.pkl\", 'rb') as f:\n",
        "    mfcc_3 = pickle.load(f)\n",
        "\n",
        "print(mfcc_c.shape)\n",
        "print(mfcc_3.shape)\n",
        "\n",
        "ref = pd.read_csv(\"/gdrive/My Drive/Data_path.csv\")\n",
        "ref = ref.drop(11586)\n",
        "\n",
        "mfcc = np.concatenate((mfcc_3, mfcc_c), axis=0)\n",
        "mfcc.shape"
      ],
      "execution_count": null,
      "outputs": [
        {
          "output_type": "stream",
          "text": [
            "(7062, 30, 216, 1)\n",
            "(4524, 30, 216, 1)\n"
          ],
          "name": "stdout"
        },
        {
          "output_type": "execute_result",
          "data": {
            "text/plain": [
              "(11586, 30, 216, 1)"
            ]
          },
          "metadata": {
            "tags": []
          },
          "execution_count": 10
        }
      ]
    },
    {
      "cell_type": "code",
      "metadata": {
        "colab_type": "code",
        "id": "FVcKdcEPlqWT",
        "colab": {}
      },
      "source": [
        " X_train, X_test, y_train, y_test = train_test_split(mfcc, ref['labels'], test_size=0.4, random_state=23)\n",
        "\n",
        " X_test, X_val, y_test, y_val = train_test_split(X_test, y_test, test_size=0.5, random_state=23)"
      ],
      "execution_count": null,
      "outputs": []
    },
    {
      "cell_type": "code",
      "metadata": {
        "colab_type": "code",
        "id": "VLUx6i0ylqWf",
        "colab": {}
      },
      "source": [
        "# one hot encode the target \n",
        "lb = LabelEncoder()\n",
        "y_train = np_utils.to_categorical(lb.fit_transform(y_train))\n",
        "y_test = np_utils.to_categorical(lb.fit_transform(y_test))\n",
        "y_val = np_utils.to_categorical(lb.fit_transform(y_val))\n",
        "\n",
        "# Normalization as per the standard NN process\n",
        "min = np.min(X_train, axis=0)\n",
        "max = np.max(X_train, axis=0)\n",
        "\n",
        "X_train = (X_train - min)/ (max-min)\n",
        "X_test = (X_test - min)/ (max-min)\n",
        "X_val = (X_val - min)/ (max-min)"
      ],
      "execution_count": null,
      "outputs": []
    },
    {
      "cell_type": "code",
      "metadata": {
        "colab_type": "code",
        "id": "wZESV2L_lqWn",
        "colab": {}
      },
      "source": [
        "train_dataset = myDataset(X_train, y_train)\n",
        "train_loader = DataLoader(train_dataset, batch_size= 16, shuffle=True)\n",
        "\n",
        "valid_dataset = myDataset(X_val, y_val)\n",
        "valid_loader = DataLoader(valid_dataset, batch_size= 16, shuffle=True)\n",
        "\n",
        "test_dataset = myDataset(X_test, y_test)\n",
        "test_loader = DataLoader(test_dataset, batch_size=16, shuffle=True)"
      ],
      "execution_count": null,
      "outputs": []
    },
    {
      "cell_type": "code",
      "metadata": {
        "colab_type": "code",
        "id": "1oz9UCuflqWv",
        "colab": {
          "base_uri": "https://localhost:8080/",
          "height": 69
        },
        "outputId": "5e2ccca3-02b5-48ba-b204-ba02f0b6a21c"
      },
      "source": [
        "print(\"train : \", X_train.shape)\n",
        "print(\"valid : \", X_val.shape)\n",
        "print(\"test : \", X_test.shape)"
      ],
      "execution_count": null,
      "outputs": [
        {
          "output_type": "stream",
          "text": [
            "train :  (6951, 30, 216, 1)\n",
            "valid :  (2318, 30, 216, 1)\n",
            "test :  (2317, 30, 216, 1)\n"
          ],
          "name": "stdout"
        }
      ]
    },
    {
      "cell_type": "code",
      "metadata": {
        "id": "pNdpXFA1kr12",
        "colab_type": "code",
        "colab": {}
      },
      "source": [
        "mfcc_model = Emo2DNet_2(14)\n",
        "if torch.cuda.is_available():\n",
        "  mfcc_model = mfcc_model.cuda()\n",
        "\n",
        "train_loss, train_acc = [], []\n",
        "val_loss, val_acc = [], []\n",
        "best_acc = 0.0\n",
        "\n",
        "for epoch in range(100):\n",
        "  t_loss, t_acc = fit(mfcc_model, train_loader, 'train')\n",
        "  v_loss, v_acc = fit(mfcc_model, valid_loader, 'valid')\n",
        "\n",
        "  if v_acc > best_acc:\n",
        "    best_acc = v_acc\n",
        "    best_model_mfcc = mfcc_model.state_dict()\n",
        "\n",
        "  train_loss.append(t_loss)\n",
        "  train_acc.append(t_acc)\n",
        "  val_loss.append(v_loss)\n",
        "  val_acc.append(v_acc)"
      ],
      "execution_count": null,
      "outputs": []
    },
    {
      "cell_type": "code",
      "metadata": {
        "colab_type": "code",
        "id": "uHM_TSUMpLBh",
        "colab": {
          "base_uri": "https://localhost:8080/",
          "height": 303
        },
        "outputId": "4e75e804-176e-46d1-c0fe-ce24b83c8470"
      },
      "source": [
        "print(best_acc)\n",
        "\n",
        "plt.plot(range(len(train_acc)), train_acc, label='train')\n",
        "plt.plot(range(len(val_acc)), val_acc, label='valid')\n",
        "plt.legend()"
      ],
      "execution_count": null,
      "outputs": [
        {
          "output_type": "stream",
          "text": [
            "tensor(55.6946, device='cuda:0')\n"
          ],
          "name": "stdout"
        },
        {
          "output_type": "execute_result",
          "data": {
            "text/plain": [
              "<matplotlib.legend.Legend at 0x7f26f1951630>"
            ]
          },
          "metadata": {
            "tags": []
          },
          "execution_count": 16
        },
        {
          "output_type": "display_data",
          "data": {
            "image/png": "[encoded data removed]",
            "text/plain": [
              "<Figure size 432x288 with 1 Axes>"
            ]
          },
          "metadata": {
            "tags": [],
            "needs_background": "light"
          }
        }
      ]
    },
    {
      "cell_type": "code",
      "metadata": {
        "colab_type": "code",
        "id": "h1r3InWzpLBx",
        "colab": {
          "base_uri": "https://localhost:8080/",
          "height": 282
        },
        "outputId": "bb40a1d8-4823-43bf-df94-aafdfd2fe712"
      },
      "source": [
        "plt.plot(range(len(train_loss)), train_loss, label='train')\n",
        "plt.plot(range(len(val_loss)), val_loss, label='valid')\n",
        "plt.legend()"
      ],
      "execution_count": null,
      "outputs": [
        {
          "output_type": "execute_result",
          "data": {
            "text/plain": [
              "<matplotlib.legend.Legend at 0x7f26f1995ac8>"
            ]
          },
          "metadata": {
            "tags": []
          },
          "execution_count": 17
        },
        {
          "output_type": "display_data",
          "data": {
            "image/png": "[encoded data removed]",
            "text/plain": [
              "<Figure size 432x288 with 1 Axes>"
            ]
          },
          "metadata": {
            "tags": [],
            "needs_background": "light"
          }
        }
      ]
    },
    {
      "cell_type": "code",
      "metadata": {
        "id": "5ZSGTNf8k3jv",
        "colab_type": "code",
        "colab": {
          "base_uri": "https://localhost:8080/",
          "height": 52
        },
        "outputId": "4ffe0631-7053-47c7-e617-d534f81a3d2a"
      },
      "source": [
        "device = torch.device(\"cuda:0\" if torch.cuda.is_available() else \"cpu\")\n",
        "correct = 0\n",
        "\n",
        "test_net = Emo2DNet_2(14)\n",
        "test_net.load_state_dict(best_model_mfcc)\n",
        "cm = np.zeros((14,14))\n",
        "c = np.arange(14)\n",
        "\n",
        "for i, (x, target) in enumerate(test_loader):\n",
        "  if torch.cuda.is_available():\n",
        "    x = x.cuda()\n",
        "    target = target.cuda()\n",
        "    test_net = test_net.cuda()\n",
        "\n",
        "  output = test_net(x.float())\n",
        "  preds = output.argmax(dim=1)\n",
        "\n",
        "  correct += (preds == target).sum()\n",
        "  cm += confusion_matrix(preds.cpu(), target.cpu(), labels = c)\n",
        "\n",
        "acc = 100. * correct / float(len(test_loader.dataset))\n",
        "\n",
        "print(\"ACC Test\")\n",
        "print(acc)"
      ],
      "execution_count": null,
      "outputs": [
        {
          "output_type": "stream",
          "text": [
            "ACC Test\n",
            "tensor(51.4027, device='cuda:0')\n"
          ],
          "name": "stdout"
        }
      ]
    },
    {
      "cell_type": "code",
      "metadata": {
        "colab_type": "code",
        "id": "VfyeypL2pLCE",
        "colab": {
          "base_uri": "https://localhost:8080/",
          "height": 407
        },
        "outputId": "cbe3f0a3-403c-4ffe-a704-7c02be45f111"
      },
      "source": [
        "import seaborn as sns\n",
        "cm_d = cm.astype('int')\n",
        "l = lb.classes_\n",
        "sns.heatmap(cm_d, annot=True, fmt='d', xticklabels=l, yticklabels=l)"
      ],
      "execution_count": null,
      "outputs": [
        {
          "output_type": "stream",
          "text": [
            "/usr/local/lib/python3.6/dist-packages/statsmodels/tools/_testing.py:19: FutureWarning: pandas.util.testing is deprecated. Use the functions in the public API at pandas.testing instead.\n",
            "  import pandas.util.testing as tm\n"
          ],
          "name": "stderr"
        },
        {
          "output_type": "execute_result",
          "data": {
            "text/plain": [
              "<matplotlib.axes._subplots.AxesSubplot at 0x7f26f012fe80>"
            ]
          },
          "metadata": {
            "tags": []
          },
          "execution_count": 19
        },
        {
          "output_type": "display_data",
          "data": {
            "image/png": "[encoded data removed]",
            "text/plain": [
              "<Figure size 432x288 with 2 Axes>"
            ]
          },
          "metadata": {
            "tags": [],
            "needs_background": "light"
          }
        }
      ]
    },
    {
      "cell_type": "code",
      "metadata": {
        "id": "zNsZCF_SpnRy",
        "colab_type": "code",
        "colab": {}
      },
      "source": [
        "with open('mfcc_30_new.pkl', 'wb') as f:\n",
        "  pickle.dump(best_model_mfcc, f)"
      ],
      "execution_count": null,
      "outputs": []
    },
    {
      "cell_type": "code",
      "metadata": {
        "id": "MYzwj6Lf_Z6K",
        "colab_type": "code",
        "colab": {}
      },
      "source": [
        "class Emo2DNet_g(nn.Module):\n",
        "    def __init__(self, n):\n",
        "        super().__init__()\n",
        "        self.n = n\n",
        "        self.conv1 = nn.Conv2d(1, 32, kernel_size = (3, 9), padding=(1,4))\n",
        "        self.b_norm1 = nn.BatchNorm2d(32)\n",
        "        \n",
        "        self.conv2 = nn.Conv2d(32, 32, kernel_size = (3, 9), padding=(1,4))\n",
        "        self.b_norm2 = nn.BatchNorm2d(32)\n",
        "        \n",
        "        self.conv3 = nn.Conv2d(32, 32, kernel_size = (3, 9), padding=(1,4))\n",
        "        self.b_norm3 = nn.BatchNorm2d(32)\n",
        "        \n",
        "        self.conv4 = nn.Conv2d(32, 32, kernel_size = (3, 9), padding=(1,4))\n",
        "        self.b_norm4 = nn.BatchNorm2d(32)\n",
        "        \n",
        "        self.b_norm5 = nn.BatchNorm1d(64) #\n",
        "        \n",
        "        self.fc1 = nn.Linear(32*13, 64)\n",
        "        self.fc2 = nn.Linear(64, 7)\n",
        "\n",
        "    def forward(self, x):\n",
        "\n",
        "        x = self.conv1(x)\n",
        "        x = nn.ReLU()(self.b_norm1(x))\n",
        "        x = nn.MaxPool2d(2)(x)\n",
        "        x = nn.Dropout2d(p=0.2)(x)\n",
        "\n",
        "        x = self.conv2(x)\n",
        "        x = nn.ReLU()(self.b_norm2(x))\n",
        "        x = nn.MaxPool2d(2)(x)\n",
        "        x = nn.Dropout2d(p=0.2)(x)\n",
        "\n",
        "        x = self.conv3(x)\n",
        "        x = nn.ReLU()(self.b_norm3(x))\n",
        "        x = nn.MaxPool2d(2)(x)\n",
        "        x = nn.Dropout2d(p=0.2)(x)\n",
        "        \n",
        "        x = self.conv4(x)\n",
        "        x = nn.ReLU()(self.b_norm4(x))\n",
        "        x = nn.MaxPool2d(2)(x)\n",
        "        x = nn.Dropout2d(p=0.2)(x)\n",
        "\n",
        "        x = x.view(-1, 32*13)\n",
        "        x = self.fc1(x)\n",
        "        x = nn.Dropout(p=0.2)(x)\n",
        "        \n",
        "        x = self.b_norm5(x)\n",
        "\n",
        "        x = nn.ReLU()(x)\n",
        "        x = nn.Dropout(p=0.2)(x)\n",
        "        x = self.fc2(x)\n",
        "\n",
        "        return x"
      ],
      "execution_count": null,
      "outputs": []
    },
    {
      "cell_type": "markdown",
      "metadata": {
        "id": "qS50e6Ev0eL5",
        "colab_type": "text"
      },
      "source": [
        "# Separate Gender - MFCC"
      ]
    },
    {
      "cell_type": "code",
      "metadata": {
        "id": "2r9gv1FTC2HW",
        "colab_type": "code",
        "colab": {
          "base_uri": "https://localhost:8080/",
          "height": 459
        },
        "outputId": "8630ea31-050f-408f-e11f-b55f35e0bac1"
      },
      "source": [
        "import pickle\n",
        "import pandas as pd\n",
        "\n",
        "with open(\"/gdrive/My Drive/female_mfcc.pkl\", 'rb') as f:\n",
        "    female_ref = pickle.load(f)\n",
        "\n",
        "with open(\"/gdrive/My Drive/male_mfcc.pkl\", 'rb') as f:\n",
        "    male_ref = pickle.load(f)\n",
        "\n",
        "print(female_ref.shape)\n",
        "print(male_ref.shape)\n",
        "\n",
        "female_path = pd.read_csv(\"/gdrive/My Drive/dataset_female.csv\")\n",
        "male_path = pd.read_csv(\"/gdrive/My Drive/dataset_male.csv\")\n",
        "male_path = male_path.drop(4717)\n",
        "male_path"
      ],
      "execution_count": null,
      "outputs": [
        {
          "output_type": "stream",
          "text": [
            "(6869, 30, 216, 1)\n",
            "(4717, 30, 216, 1)\n"
          ],
          "name": "stdout"
        },
        {
          "output_type": "execute_result",
          "data": {
            "text/html": [
              "<div>\n",
              "<style scoped>\n",
              "    .dataframe tbody tr th:only-of-type {\n",
              "        vertical-align: middle;\n",
              "    }\n",
              "\n",
              "    .dataframe tbody tr th {\n",
              "        vertical-align: top;\n",
              "    }\n",
              "\n",
              "    .dataframe thead th {\n",
              "        text-align: right;\n",
              "    }\n",
              "</style>\n",
              "<table border=\"1\" class=\"dataframe\">\n",
              "  <thead>\n",
              "    <tr style=\"text-align: right;\">\n",
              "      <th></th>\n",
              "      <th>Unnamed: 0</th>\n",
              "      <th>labels</th>\n",
              "      <th>source</th>\n",
              "      <th>path</th>\n",
              "    </tr>\n",
              "  </thead>\n",
              "  <tbody>\n",
              "    <tr>\n",
              "      <th>0</th>\n",
              "      <td>0</td>\n",
              "      <td>male_neutral</td>\n",
              "      <td>SAVEE</td>\n",
              "      <td>/gdrive/My Drive/SAVEE/DC_n11.wav</td>\n",
              "    </tr>\n",
              "    <tr>\n",
              "      <th>1</th>\n",
              "      <td>1</td>\n",
              "      <td>male_angry</td>\n",
              "      <td>SAVEE</td>\n",
              "      <td>/gdrive/My Drive/SAVEE/DC_a12.wav</td>\n",
              "    </tr>\n",
              "    <tr>\n",
              "      <th>2</th>\n",
              "      <td>2</td>\n",
              "      <td>male_fear</td>\n",
              "      <td>SAVEE</td>\n",
              "      <td>/gdrive/My Drive/SAVEE/JE_f04.wav</td>\n",
              "    </tr>\n",
              "    <tr>\n",
              "      <th>3</th>\n",
              "      <td>3</td>\n",
              "      <td>male_disgust</td>\n",
              "      <td>SAVEE</td>\n",
              "      <td>/gdrive/My Drive/SAVEE/JK_d15.wav</td>\n",
              "    </tr>\n",
              "    <tr>\n",
              "      <th>4</th>\n",
              "      <td>4</td>\n",
              "      <td>male_happy</td>\n",
              "      <td>SAVEE</td>\n",
              "      <td>/gdrive/My Drive/SAVEE/DC_h14.wav</td>\n",
              "    </tr>\n",
              "    <tr>\n",
              "      <th>...</th>\n",
              "      <td>...</td>\n",
              "      <td>...</td>\n",
              "      <td>...</td>\n",
              "      <td>...</td>\n",
              "    </tr>\n",
              "    <tr>\n",
              "      <th>4712</th>\n",
              "      <td>11581</td>\n",
              "      <td>male_fear</td>\n",
              "      <td>CREMA</td>\n",
              "      <td>/gdrive/My Drive/CREMA-D/1087_IOM_FEA_XX.wav</td>\n",
              "    </tr>\n",
              "    <tr>\n",
              "      <th>4713</th>\n",
              "      <td>11582</td>\n",
              "      <td>male_happy</td>\n",
              "      <td>CREMA</td>\n",
              "      <td>/gdrive/My Drive/CREMA-D/1087_IOM_HAP_XX.wav</td>\n",
              "    </tr>\n",
              "    <tr>\n",
              "      <th>4714</th>\n",
              "      <td>11583</td>\n",
              "      <td>male_neutral</td>\n",
              "      <td>CREMA</td>\n",
              "      <td>/gdrive/My Drive/CREMA-D/1087_IOM_NEU_XX.wav</td>\n",
              "    </tr>\n",
              "    <tr>\n",
              "      <th>4715</th>\n",
              "      <td>11584</td>\n",
              "      <td>male_sad</td>\n",
              "      <td>CREMA</td>\n",
              "      <td>/gdrive/My Drive/CREMA-D/1087_IOM_SAD_XX.wav</td>\n",
              "    </tr>\n",
              "    <tr>\n",
              "      <th>4716</th>\n",
              "      <td>11585</td>\n",
              "      <td>male_angry</td>\n",
              "      <td>CREMA</td>\n",
              "      <td>/gdrive/My Drive/CREMA-D/1087_ITH_ANG_XX.wav</td>\n",
              "    </tr>\n",
              "  </tbody>\n",
              "</table>\n",
              "<p>4717 rows × 4 columns</p>\n",
              "</div>"
            ],
            "text/plain": [
              "      Unnamed: 0  ...                                          path\n",
              "0              0  ...             /gdrive/My Drive/SAVEE/DC_n11.wav\n",
              "1              1  ...             /gdrive/My Drive/SAVEE/DC_a12.wav\n",
              "2              2  ...             /gdrive/My Drive/SAVEE/JE_f04.wav\n",
              "3              3  ...             /gdrive/My Drive/SAVEE/JK_d15.wav\n",
              "4              4  ...             /gdrive/My Drive/SAVEE/DC_h14.wav\n",
              "...          ...  ...                                           ...\n",
              "4712       11581  ...  /gdrive/My Drive/CREMA-D/1087_IOM_FEA_XX.wav\n",
              "4713       11582  ...  /gdrive/My Drive/CREMA-D/1087_IOM_HAP_XX.wav\n",
              "4714       11583  ...  /gdrive/My Drive/CREMA-D/1087_IOM_NEU_XX.wav\n",
              "4715       11584  ...  /gdrive/My Drive/CREMA-D/1087_IOM_SAD_XX.wav\n",
              "4716       11585  ...  /gdrive/My Drive/CREMA-D/1087_ITH_ANG_XX.wav\n",
              "\n",
              "[4717 rows x 4 columns]"
            ]
          },
          "metadata": {
            "tags": []
          },
          "execution_count": 22
        }
      ]
    },
    {
      "cell_type": "code",
      "metadata": {
        "colab_type": "code",
        "id": "8Dz8Pt_qXPVY",
        "colab": {}
      },
      "source": [
        "#female\n",
        "f_X_train, f_X_test, f_y_train, f_y_test = train_test_split(female_ref, female_path['labels'], test_size=0.4, random_state=23)\n",
        "\n",
        "f_X_test, f_X_val, f_y_test, f_y_val = train_test_split(f_X_test, f_y_test, test_size=0.5, random_state=23)\n",
        "\n",
        "# one hot encode the target \n",
        "f_lb = LabelEncoder()\n",
        "f_y_train = np_utils.to_categorical(f_lb.fit_transform(f_y_train))\n",
        "f_y_test = np_utils.to_categorical(f_lb.fit_transform(f_y_test))\n",
        "f_y_val = np_utils.to_categorical(f_lb.fit_transform(f_y_val))\n",
        "\n",
        "fmin = np.min(f_X_train, axis=0)\n",
        "fmax = np.max(f_X_train, axis=0)\n",
        "\n",
        "X_train = (f_X_train - fmin) / (fmax - fmin)\n",
        "X_test = (f_X_test - fmin) / (fmax - fmin)\n",
        "X_val = (f_X_val - fmin) / (fmax - fmin)\n",
        "\n",
        "\n",
        "##male\n",
        "m_X_train, m_X_test, m_y_train, m_y_test = train_test_split(male_ref, male_path['labels'], test_size=0.4, random_state=23)\n",
        "m_X_test, m_X_val, m_y_test, m_y_val = train_test_split(m_X_test, m_y_test, test_size=0.5, random_state=23)\n",
        "\n",
        "m_y_train = np_utils.to_categorical(lb.fit_transform(m_y_train))\n",
        "m_y_test = np_utils.to_categorical(lb.fit_transform(m_y_test))\n",
        "m_y_val = np_utils.to_categorical(lb.fit_transform(m_y_val))\n",
        "\n",
        "mmin = np.min(m_X_train, axis=0)\n",
        "mmax = np.max(m_X_train, axis=0)\n",
        "\n",
        "m_X_train = (m_X_train - mmin)/ (mmax - mmin)\n",
        "m_X_test = (m_X_test - mmin)/ (mmax - mmin)\n",
        "m_X_val = (m_X_val - mmin)/ (mmax - mmin)"
      ],
      "execution_count": null,
      "outputs": []
    },
    {
      "cell_type": "markdown",
      "metadata": {
        "id": "1nwDnMF42XPA",
        "colab_type": "text"
      },
      "source": [
        "**female**"
      ]
    },
    {
      "cell_type": "code",
      "metadata": {
        "colab_type": "code",
        "id": "tKvycm1m2ZHC",
        "colab": {}
      },
      "source": [
        "female_train_dataset = myDataset(f_X_train, f_y_train)\n",
        "female_train_loader = DataLoader(female_train_dataset, batch_size= 16, shuffle=True)\n",
        "\n",
        "female_valid_dataset = myDataset(f_X_val, f_y_val)\n",
        "female_valid_loader = DataLoader(female_valid_dataset, batch_size= 16, shuffle=True)\n",
        "\n",
        "female_test_dataset = myDataset(f_X_test, f_y_test)\n",
        "female_test_loader = DataLoader(female_test_dataset, batch_size=32, shuffle=True)"
      ],
      "execution_count": null,
      "outputs": []
    },
    {
      "cell_type": "code",
      "metadata": {
        "colab_type": "code",
        "id": "9VndJaxF2ZHh",
        "colab": {
          "base_uri": "https://localhost:8080/",
          "height": 69
        },
        "outputId": "293666f6-55a3-4893-8f17-4aa34ac3722b"
      },
      "source": [
        "print(\"train : \", f_X_train.shape)\n",
        "print(\"valid : \", f_X_val.shape)\n",
        "print(\"test : \", f_X_test.shape)"
      ],
      "execution_count": null,
      "outputs": [
        {
          "output_type": "stream",
          "text": [
            "train :  (4121, 30, 216, 1)\n",
            "valid :  (1374, 30, 216, 1)\n",
            "test :  (1374, 30, 216, 1)\n"
          ],
          "name": "stdout"
        }
      ]
    },
    {
      "cell_type": "code",
      "metadata": {
        "colab_type": "code",
        "id": "7YAtbOMG2ZHv",
        "colab": {}
      },
      "source": [
        "female_mfcc_model = Emo2DNet_g(7)\n",
        "if torch.cuda.is_available():\n",
        "  female_mfcc_model = female_mfcc_model.cuda()\n",
        "\n",
        "train_loss, train_acc = [], []\n",
        "val_loss, val_acc = [], []\n",
        "best_acc = 0.0\n",
        "\n",
        "for epoch in range(100):\n",
        "  t_loss, t_acc = fit(female_mfcc_model, female_train_loader, 'train')\n",
        "  v_loss, v_acc = fit(female_mfcc_model, female_valid_loader, 'valid')\n",
        "\n",
        "  if v_acc > best_acc:\n",
        "    best_acc = v_acc\n",
        "    best_model_f_mfcc = female_mfcc_model.state_dict()\n",
        "\n",
        "  train_loss.append(t_loss)\n",
        "  train_acc.append(t_acc)\n",
        "  val_loss.append(v_loss)\n",
        "  val_acc.append(v_acc)"
      ],
      "execution_count": null,
      "outputs": []
    },
    {
      "cell_type": "code",
      "metadata": {
        "colab_type": "code",
        "id": "TMjGr3FL2ZH2",
        "colab": {
          "base_uri": "https://localhost:8080/",
          "height": 300
        },
        "outputId": "fcefc011-4675-4b2b-ad2f-590d2488dca4"
      },
      "source": [
        "print(best_acc)\n",
        "\n",
        "plt.plot(range(len(train_acc)), train_acc, label='train')\n",
        "plt.plot(range(len(val_acc)), val_acc, label='valid')\n",
        "plt.legend()"
      ],
      "execution_count": null,
      "outputs": [
        {
          "output_type": "stream",
          "text": [
            "tensor(70.1601, device='cuda:0')\n"
          ],
          "name": "stdout"
        },
        {
          "output_type": "execute_result",
          "data": {
            "text/plain": [
              "<matplotlib.legend.Legend at 0x7f2681f7ce48>"
            ]
          },
          "metadata": {
            "tags": []
          },
          "execution_count": 27
        },
        {
          "output_type": "display_data",
          "data": {
            "image/png": "[encoded data removed]",
            "text/plain": [
              "<Figure size 432x288 with 1 Axes>"
            ]
          },
          "metadata": {
            "tags": [],
            "needs_background": "light"
          }
        }
      ]
    },
    {
      "cell_type": "code",
      "metadata": {
        "colab_type": "code",
        "id": "KXzfWJYV2ZH-",
        "colab": {
          "base_uri": "https://localhost:8080/",
          "height": 283
        },
        "outputId": "b771228a-370e-415f-b573-1d6ee810dd96"
      },
      "source": [
        "plt.plot(range(len(train_loss)), train_loss, label='train')\n",
        "plt.plot(range(len(val_loss)), val_loss, label='valid')\n",
        "plt.legend()"
      ],
      "execution_count": null,
      "outputs": [
        {
          "output_type": "execute_result",
          "data": {
            "text/plain": [
              "<matplotlib.legend.Legend at 0x7f2681eeec18>"
            ]
          },
          "metadata": {
            "tags": []
          },
          "execution_count": 28
        },
        {
          "output_type": "display_data",
          "data": {
            "image/png": "[encoded data removed]",
            "text/plain": [
              "<Figure size 432x288 with 1 Axes>"
            ]
          },
          "metadata": {
            "tags": [],
            "needs_background": "light"
          }
        }
      ]
    },
    {
      "cell_type": "code",
      "metadata": {
        "colab_type": "code",
        "id": "7S5FNcpC2ZIE",
        "colab": {
          "base_uri": "https://localhost:8080/",
          "height": 52
        },
        "outputId": "a81f436f-b10c-4a27-a81e-f50360930a91"
      },
      "source": [
        "device = torch.device(\"cuda:0\" if torch.cuda.is_available() else \"cpu\")\n",
        "correct = 0\n",
        "\n",
        "test_net = Emo2DNet_g(7)\n",
        "test_net.load_state_dict(best_model_f_mfcc)\n",
        "cm = np.zeros((7,7))\n",
        "c = np.arange(7)\n",
        "\n",
        "for i, (x, target) in enumerate(female_test_loader):\n",
        "  if torch.cuda.is_available():\n",
        "    x = x.cuda()\n",
        "    target = target.cuda()\n",
        "    test_net = test_net.cuda()\n",
        "\n",
        "  output = test_net(x.float())\n",
        "  preds = output.argmax(dim=1)\n",
        "\n",
        "  correct += (preds == target).sum()\n",
        "  cm += confusion_matrix(preds.cpu(), target.cpu(), labels = c)\n",
        "\n",
        "acc = 100. * correct / float(len(female_test_loader.dataset))\n",
        "\n",
        "print(\"ACC Test\")\n",
        "print(acc)"
      ],
      "execution_count": null,
      "outputs": [
        {
          "output_type": "stream",
          "text": [
            "ACC Test\n",
            "tensor(68.8501, device='cuda:0')\n"
          ],
          "name": "stdout"
        }
      ]
    },
    {
      "cell_type": "code",
      "metadata": {
        "colab_type": "code",
        "id": "4uI2HN6u2ZIM",
        "colab": {
          "base_uri": "https://localhost:8080/",
          "height": 352
        },
        "outputId": "23324c5e-ee31-4aaa-c097-266b8eb32b51"
      },
      "source": [
        "import seaborn as sns\n",
        "cm_d = cm.astype('int')\n",
        "l = f_lb.classes_\n",
        "sns.heatmap(cm_d, annot=True, fmt='d', xticklabels=l, yticklabels=l)"
      ],
      "execution_count": null,
      "outputs": [
        {
          "output_type": "execute_result",
          "data": {
            "text/plain": [
              "<matplotlib.axes._subplots.AxesSubplot at 0x7f2681a8aba8>"
            ]
          },
          "metadata": {
            "tags": []
          },
          "execution_count": 43
        },
        {
          "output_type": "display_data",
          "data": {
            "image/png": "[encoded data removed]",
            "text/plain": [
              "<Figure size 432x288 with 2 Axes>"
            ]
          },
          "metadata": {
            "tags": [],
            "needs_background": "light"
          }
        }
      ]
    },
    {
      "cell_type": "code",
      "metadata": {
        "colab_type": "code",
        "id": "mVL-LLg42ZIT",
        "colab": {}
      },
      "source": [
        "with open('f_mfcc_30_new.pkl', 'wb') as f:\n",
        "  pickle.dump(best_model_f_mfcc, f)"
      ],
      "execution_count": null,
      "outputs": []
    },
    {
      "cell_type": "markdown",
      "metadata": {
        "colab_type": "text",
        "id": "x_mKikFB6X5Z"
      },
      "source": [
        "**male**"
      ]
    },
    {
      "cell_type": "code",
      "metadata": {
        "colab_type": "code",
        "id": "l053W2Dc83ra",
        "colab": {}
      },
      "source": [
        "male_train_dataset = myDataset(m_X_train, m_y_train)\n",
        "male_train_loader = DataLoader(male_train_dataset, batch_size= 16, shuffle=True)\n",
        "\n",
        "male_valid_dataset = myDataset(m_X_val, m_y_val)\n",
        "male_valid_loader = DataLoader(male_valid_dataset, batch_size= 16, shuffle=True)\n",
        "\n",
        "male_test_dataset = myDataset(m_X_test, m_y_test)\n",
        "male_test_loader = DataLoader(male_test_dataset, batch_size=32, shuffle=True)"
      ],
      "execution_count": null,
      "outputs": []
    },
    {
      "cell_type": "code",
      "metadata": {
        "colab_type": "code",
        "id": "Y2a8RVtE6X55",
        "colab": {
          "base_uri": "https://localhost:8080/",
          "height": 69
        },
        "outputId": "775f38e8-27d9-4d75-b2e4-57d460740674"
      },
      "source": [
        "print(\"train : \", m_X_train.shape)\n",
        "print(\"valid : \", m_X_val.shape)\n",
        "print(\"test : \", m_X_test.shape)"
      ],
      "execution_count": null,
      "outputs": [
        {
          "output_type": "stream",
          "text": [
            "train :  (2830, 30, 216, 1)\n",
            "valid :  (944, 30, 216, 1)\n",
            "test :  (943, 30, 216, 1)\n"
          ],
          "name": "stdout"
        }
      ]
    },
    {
      "cell_type": "code",
      "metadata": {
        "colab_type": "code",
        "id": "GhcyCAPy6X6G",
        "colab": {}
      },
      "source": [
        "male_mfcc_model = Emo2DNet_g(7)\n",
        "if torch.cuda.is_available():\n",
        "  male_mfcc_model = male_mfcc_model.cuda()\n",
        "\n",
        "train_loss, train_acc = [], []\n",
        "val_loss, val_acc = [], []\n",
        "best_acc = 0.0\n",
        "\n",
        "for epoch in range(100):\n",
        "  t_loss, t_acc = fit(male_mfcc_model, male_train_loader, 'train')\n",
        "  v_loss, v_acc = fit(male_mfcc_model, male_valid_loader, 'valid')\n",
        "\n",
        "  if v_acc > best_acc:\n",
        "    best_acc = v_acc\n",
        "    best_model_m_mfcc = male_mfcc_model.state_dict()\n",
        "\n",
        "  train_loss.append(t_loss)\n",
        "  train_acc.append(t_acc)\n",
        "  val_loss.append(v_loss)\n",
        "  val_acc.append(v_acc)"
      ],
      "execution_count": null,
      "outputs": []
    },
    {
      "cell_type": "code",
      "metadata": {
        "colab_type": "code",
        "id": "whJFRntG6X6O",
        "colab": {
          "base_uri": "https://localhost:8080/",
          "height": 300
        },
        "outputId": "8eaa98b9-3bf9-4537-9323-28142515e5a1"
      },
      "source": [
        "print(best_acc)\n",
        "\n",
        "plt.plot(range(len(train_acc)), train_acc, label='train')\n",
        "plt.plot(range(len(val_acc)), val_acc, label='valid')\n",
        "plt.legend()"
      ],
      "execution_count": null,
      "outputs": [
        {
          "output_type": "stream",
          "text": [
            "tensor(45.8686, device='cuda:0')\n"
          ],
          "name": "stdout"
        },
        {
          "output_type": "execute_result",
          "data": {
            "text/plain": [
              "<matplotlib.legend.Legend at 0x7f2681d7fe80>"
            ]
          },
          "metadata": {
            "tags": []
          },
          "execution_count": 35
        },
        {
          "output_type": "display_data",
          "data": {
            "image/png": "[encoded data removed]",
            "text/plain": [
              "<Figure size 432x288 with 1 Axes>"
            ]
          },
          "metadata": {
            "tags": [],
            "needs_background": "light"
          }
        }
      ]
    },
    {
      "cell_type": "code",
      "metadata": {
        "colab_type": "code",
        "id": "3z-vlZQm6X6W",
        "colab": {
          "base_uri": "https://localhost:8080/",
          "height": 284
        },
        "outputId": "9cd044f1-bb00-427f-be23-9af58f2e639b"
      },
      "source": [
        "plt.plot(range(len(train_loss)), train_loss, label='train')\n",
        "plt.plot(range(len(val_loss)), val_loss, label='valid')\n",
        "plt.legend()"
      ],
      "execution_count": null,
      "outputs": [
        {
          "output_type": "execute_result",
          "data": {
            "text/plain": [
              "<matplotlib.legend.Legend at 0x7f2681cebba8>"
            ]
          },
          "metadata": {
            "tags": []
          },
          "execution_count": 36
        },
        {
          "output_type": "display_data",
          "data": {
            "image/png": "[encoded data removed]",
            "text/plain": [
              "<Figure size 432x288 with 1 Axes>"
            ]
          },
          "metadata": {
            "tags": [],
            "needs_background": "light"
          }
        }
      ]
    },
    {
      "cell_type": "code",
      "metadata": {
        "colab_type": "code",
        "id": "WzdTdnKh6X6f",
        "colab": {
          "base_uri": "https://localhost:8080/",
          "height": 52
        },
        "outputId": "d9755b7b-fcdd-4fdb-de46-7819831d8d4b"
      },
      "source": [
        "device = torch.device(\"cuda:0\" if torch.cuda.is_available() else \"cpu\")\n",
        "correct = 0\n",
        "\n",
        "test_net = Emo2DNet_g(7)\n",
        "test_net.load_state_dict(best_model_m_mfcc)\n",
        "cm = np.zeros((7,7))\n",
        "c = np.arange(7)\n",
        "\n",
        "for i, (x, target) in enumerate(male_test_loader):\n",
        "  if torch.cuda.is_available():\n",
        "    x = x.cuda()\n",
        "    target = target.cuda()\n",
        "    test_net = test_net.cuda()\n",
        "\n",
        "  output = test_net(x.float())\n",
        "  preds = output.argmax(dim=1)\n",
        "\n",
        "  correct += (preds == target).sum()\n",
        "  cm += confusion_matrix(preds.cpu(), target.cpu(), labels = c)\n",
        "\n",
        "acc = 100. * correct / float(len(male_test_loader.dataset))\n",
        "\n",
        "print(\"ACC Test\")\n",
        "print(acc)"
      ],
      "execution_count": null,
      "outputs": [
        {
          "output_type": "stream",
          "text": [
            "ACC Test\n",
            "tensor(40.5090, device='cuda:0')\n"
          ],
          "name": "stdout"
        }
      ]
    },
    {
      "cell_type": "code",
      "metadata": {
        "colab_type": "code",
        "id": "ov097dFI6X6m",
        "colab": {
          "base_uri": "https://localhost:8080/",
          "height": 342
        },
        "outputId": "14e700fc-8a0a-48e8-deba-e228779e61d1"
      },
      "source": [
        "import seaborn as sns\n",
        "cm_d = cm.astype('int')\n",
        "l = lb.classes_\n",
        "sns.heatmap(cm_d, annot=True, fmt='d', xticklabels=l, yticklabels=l)"
      ],
      "execution_count": null,
      "outputs": [
        {
          "output_type": "execute_result",
          "data": {
            "text/plain": [
              "<matplotlib.axes._subplots.AxesSubplot at 0x7f2681a01e10>"
            ]
          },
          "metadata": {
            "tags": []
          },
          "execution_count": 45
        },
        {
          "output_type": "display_data",
          "data": {
            "image/png": "[encoded data removed]",
            "text/plain": [
              "<Figure size 432x288 with 2 Axes>"
            ]
          },
          "metadata": {
            "tags": [],
            "needs_background": "light"
          }
        }
      ]
    },
    {
      "cell_type": "code",
      "metadata": {
        "colab_type": "code",
        "id": "ZAA9HYe26X6t",
        "colab": {}
      },
      "source": [
        "with open('m_mfcc_30_new.pkl', 'wb') as f:\n",
        "  pickle.dump(best_model_m_mfcc, f)"
      ],
      "execution_count": null,
      "outputs": []
    },
    {
      "cell_type": "code",
      "metadata": {
        "id": "IRctcuIP_mGO",
        "colab_type": "code",
        "colab": {}
      },
      "source": [
        ""
      ],
      "execution_count": null,
      "outputs": []
    },
    {
      "cell_type": "markdown",
      "metadata": {
        "colab_type": "text",
        "id": "f9oys5MbZFzL"
      },
      "source": [
        "# Separate Gender - Mel"
      ]
    },
    {
      "cell_type": "code",
      "metadata": {
        "colab_type": "code",
        "id": "Nho525naZFzS",
        "colab": {
          "base_uri": "https://localhost:8080/",
          "height": 459
        },
        "outputId": "0b99716c-5c7d-42e1-887a-9d37dcc40f92"
      },
      "source": [
        "import pickle\n",
        "import pandas as pd\n",
        "\n",
        "with open(\"/gdrive/My Drive/female_mel.pkl\", 'rb') as f:\n",
        "    female_ref = pickle.load(f)\n",
        "\n",
        "with open(\"/gdrive/My Drive/male_mel.pkl\", 'rb') as f:\n",
        "    male_ref = pickle.load(f)\n",
        "\n",
        "print(female_ref.shape)\n",
        "print(male_ref.shape)\n",
        "\n",
        "female_path = pd.read_csv(\"/gdrive/My Drive/dataset_female.csv\")\n",
        "male_path = pd.read_csv(\"/gdrive/My Drive/dataset_male.csv\")\n",
        "male_path = male_path.drop(4717)\n",
        "male_path"
      ],
      "execution_count": null,
      "outputs": [
        {
          "output_type": "stream",
          "text": [
            "(6869, 30, 216, 1)\n",
            "(4717, 30, 216, 1)\n"
          ],
          "name": "stdout"
        },
        {
          "output_type": "execute_result",
          "data": {
            "text/html": [
              "<div>\n",
              "<style scoped>\n",
              "    .dataframe tbody tr th:only-of-type {\n",
              "        vertical-align: middle;\n",
              "    }\n",
              "\n",
              "    .dataframe tbody tr th {\n",
              "        vertical-align: top;\n",
              "    }\n",
              "\n",
              "    .dataframe thead th {\n",
              "        text-align: right;\n",
              "    }\n",
              "</style>\n",
              "<table border=\"1\" class=\"dataframe\">\n",
              "  <thead>\n",
              "    <tr style=\"text-align: right;\">\n",
              "      <th></th>\n",
              "      <th>Unnamed: 0</th>\n",
              "      <th>labels</th>\n",
              "      <th>source</th>\n",
              "      <th>path</th>\n",
              "    </tr>\n",
              "  </thead>\n",
              "  <tbody>\n",
              "    <tr>\n",
              "      <th>0</th>\n",
              "      <td>0</td>\n",
              "      <td>male_neutral</td>\n",
              "      <td>SAVEE</td>\n",
              "      <td>/gdrive/My Drive/SAVEE/DC_n11.wav</td>\n",
              "    </tr>\n",
              "    <tr>\n",
              "      <th>1</th>\n",
              "      <td>1</td>\n",
              "      <td>male_angry</td>\n",
              "      <td>SAVEE</td>\n",
              "      <td>/gdrive/My Drive/SAVEE/DC_a12.wav</td>\n",
              "    </tr>\n",
              "    <tr>\n",
              "      <th>2</th>\n",
              "      <td>2</td>\n",
              "      <td>male_fear</td>\n",
              "      <td>SAVEE</td>\n",
              "      <td>/gdrive/My Drive/SAVEE/JE_f04.wav</td>\n",
              "    </tr>\n",
              "    <tr>\n",
              "      <th>3</th>\n",
              "      <td>3</td>\n",
              "      <td>male_disgust</td>\n",
              "      <td>SAVEE</td>\n",
              "      <td>/gdrive/My Drive/SAVEE/JK_d15.wav</td>\n",
              "    </tr>\n",
              "    <tr>\n",
              "      <th>4</th>\n",
              "      <td>4</td>\n",
              "      <td>male_happy</td>\n",
              "      <td>SAVEE</td>\n",
              "      <td>/gdrive/My Drive/SAVEE/DC_h14.wav</td>\n",
              "    </tr>\n",
              "    <tr>\n",
              "      <th>...</th>\n",
              "      <td>...</td>\n",
              "      <td>...</td>\n",
              "      <td>...</td>\n",
              "      <td>...</td>\n",
              "    </tr>\n",
              "    <tr>\n",
              "      <th>4712</th>\n",
              "      <td>11581</td>\n",
              "      <td>male_fear</td>\n",
              "      <td>CREMA</td>\n",
              "      <td>/gdrive/My Drive/CREMA-D/1087_IOM_FEA_XX.wav</td>\n",
              "    </tr>\n",
              "    <tr>\n",
              "      <th>4713</th>\n",
              "      <td>11582</td>\n",
              "      <td>male_happy</td>\n",
              "      <td>CREMA</td>\n",
              "      <td>/gdrive/My Drive/CREMA-D/1087_IOM_HAP_XX.wav</td>\n",
              "    </tr>\n",
              "    <tr>\n",
              "      <th>4714</th>\n",
              "      <td>11583</td>\n",
              "      <td>male_neutral</td>\n",
              "      <td>CREMA</td>\n",
              "      <td>/gdrive/My Drive/CREMA-D/1087_IOM_NEU_XX.wav</td>\n",
              "    </tr>\n",
              "    <tr>\n",
              "      <th>4715</th>\n",
              "      <td>11584</td>\n",
              "      <td>male_sad</td>\n",
              "      <td>CREMA</td>\n",
              "      <td>/gdrive/My Drive/CREMA-D/1087_IOM_SAD_XX.wav</td>\n",
              "    </tr>\n",
              "    <tr>\n",
              "      <th>4716</th>\n",
              "      <td>11585</td>\n",
              "      <td>male_angry</td>\n",
              "      <td>CREMA</td>\n",
              "      <td>/gdrive/My Drive/CREMA-D/1087_ITH_ANG_XX.wav</td>\n",
              "    </tr>\n",
              "  </tbody>\n",
              "</table>\n",
              "<p>4717 rows × 4 columns</p>\n",
              "</div>"
            ],
            "text/plain": [
              "      Unnamed: 0  ...                                          path\n",
              "0              0  ...             /gdrive/My Drive/SAVEE/DC_n11.wav\n",
              "1              1  ...             /gdrive/My Drive/SAVEE/DC_a12.wav\n",
              "2              2  ...             /gdrive/My Drive/SAVEE/JE_f04.wav\n",
              "3              3  ...             /gdrive/My Drive/SAVEE/JK_d15.wav\n",
              "4              4  ...             /gdrive/My Drive/SAVEE/DC_h14.wav\n",
              "...          ...  ...                                           ...\n",
              "4712       11581  ...  /gdrive/My Drive/CREMA-D/1087_IOM_FEA_XX.wav\n",
              "4713       11582  ...  /gdrive/My Drive/CREMA-D/1087_IOM_HAP_XX.wav\n",
              "4714       11583  ...  /gdrive/My Drive/CREMA-D/1087_IOM_NEU_XX.wav\n",
              "4715       11584  ...  /gdrive/My Drive/CREMA-D/1087_IOM_SAD_XX.wav\n",
              "4716       11585  ...  /gdrive/My Drive/CREMA-D/1087_ITH_ANG_XX.wav\n",
              "\n",
              "[4717 rows x 4 columns]"
            ]
          },
          "metadata": {
            "tags": []
          },
          "execution_count": 59
        }
      ]
    },
    {
      "cell_type": "code",
      "metadata": {
        "colab_type": "code",
        "id": "sCUOAmklzPkd",
        "colab": {}
      },
      "source": [
        "#female\n",
        "f_X_train, f_X_test, f_y_train, f_y_test = train_test_split(female_ref, female_path['labels'], test_size=0.4, random_state=23)\n",
        "\n",
        "f_X_test, f_X_val, f_y_test, f_y_val = train_test_split(f_X_test, f_y_test, test_size=0.5, random_state=23)\n",
        "\n",
        "# one hot encode the target \n",
        "f_lb = LabelEncoder()\n",
        "f_y_train = np_utils.to_categorical(f_lb.fit_transform(f_y_train))\n",
        "f_y_test = np_utils.to_categorical(f_lb.fit_transform(f_y_test))\n",
        "f_y_val = np_utils.to_categorical(f_lb.fit_transform(f_y_val))\n",
        "\n",
        "fmin = np.min(f_X_train, axis=0)\n",
        "fmax = np.max(f_X_train, axis=0)\n",
        "\n",
        "X_train = (f_X_train - fmin) / (fmax - fmin)\n",
        "X_test = (f_X_test - fmin) / (fmax - fmin)\n",
        "X_val = (f_X_val - fmin) / (fmax - fmin)\n",
        "\n",
        "\n",
        "##male\n",
        "m_X_train, m_X_test, m_y_train, m_y_test = train_test_split(male_ref, male_path['labels'], test_size=0.4, random_state=23)\n",
        "m_X_test, m_X_val, m_y_test, m_y_val = train_test_split(m_X_test, m_y_test, test_size=0.5, random_state=23)\n",
        "\n",
        "m_y_train = np_utils.to_categorical(lb.fit_transform(m_y_train))\n",
        "m_y_test = np_utils.to_categorical(lb.fit_transform(m_y_test))\n",
        "m_y_val = np_utils.to_categorical(lb.fit_transform(m_y_val))\n",
        "\n",
        "mmin = np.min(m_X_train, axis=0)\n",
        "mmax = np.max(m_X_train, axis=0)\n",
        "\n",
        "m_X_train = (m_X_train - mmin)/ (mmax - mmin)\n",
        "m_X_test = (m_X_test - mmin)/ (mmax - mmin)\n",
        "m_X_val = (m_X_val - mmin)/ (mmax - mmin)"
      ],
      "execution_count": null,
      "outputs": []
    },
    {
      "cell_type": "markdown",
      "metadata": {
        "colab_type": "text",
        "id": "vDXfe_TmZFz1"
      },
      "source": [
        "**female**"
      ]
    },
    {
      "cell_type": "code",
      "metadata": {
        "colab_type": "code",
        "id": "TcjtNHllZFz3",
        "colab": {}
      },
      "source": [
        "female_train_dataset = myDataset(f_X_train, f_y_train)\n",
        "female_train_loader = DataLoader(female_train_dataset, batch_size= 16, shuffle=True)\n",
        "\n",
        "female_valid_dataset = myDataset(f_X_val, f_y_val)\n",
        "female_valid_loader = DataLoader(female_valid_dataset, batch_size= 16, shuffle=True)\n",
        "\n",
        "female_test_dataset = myDataset(f_X_test, f_y_test)\n",
        "female_test_loader = DataLoader(female_test_dataset, batch_size=32, shuffle=True)"
      ],
      "execution_count": null,
      "outputs": []
    },
    {
      "cell_type": "code",
      "metadata": {
        "colab_type": "code",
        "id": "nQHGcacMZF0C",
        "colab": {
          "base_uri": "https://localhost:8080/",
          "height": 69
        },
        "outputId": "81e6e7b5-ca73-4c6e-8097-8b34aec6d799"
      },
      "source": [
        "print(\"train : \", f_X_train.shape)\n",
        "print(\"valid : \", f_X_val.shape)\n",
        "print(\"test : \", f_X_test.shape)"
      ],
      "execution_count": null,
      "outputs": [
        {
          "output_type": "stream",
          "text": [
            "train :  (4121, 30, 216, 1)\n",
            "valid :  (1374, 30, 216, 1)\n",
            "test :  (1374, 30, 216, 1)\n"
          ],
          "name": "stdout"
        }
      ]
    },
    {
      "cell_type": "code",
      "metadata": {
        "colab_type": "code",
        "id": "kRXMRtIqZF0J",
        "colab": {}
      },
      "source": [
        "female_mel_model = Emo2DNet_g(7)\n",
        "if torch.cuda.is_available():\n",
        "  female_mel_model = female_mel_model.cuda()\n",
        "\n",
        "train_loss, train_acc = [], []\n",
        "val_loss, val_acc = [], []\n",
        "best_acc = 0.0\n",
        "\n",
        "for epoch in range(100):\n",
        "  t_loss, t_acc = fit(female_mel_model, female_train_loader, 'train')\n",
        "  v_loss, v_acc = fit(female_mel_model, female_valid_loader, 'valid')\n",
        "\n",
        "  if v_acc > best_acc:\n",
        "    best_acc = v_acc\n",
        "    best_model_f_mel = female_mel_model.state_dict()\n",
        "\n",
        "  train_loss.append(t_loss)\n",
        "  train_acc.append(t_acc)\n",
        "  val_loss.append(v_loss)\n",
        "  val_acc.append(v_acc)"
      ],
      "execution_count": null,
      "outputs": []
    },
    {
      "cell_type": "code",
      "metadata": {
        "colab_type": "code",
        "id": "DXunYh63ZF0S",
        "colab": {
          "base_uri": "https://localhost:8080/",
          "height": 300
        },
        "outputId": "4553f4cb-8e16-4884-bba1-210ef22e3c38"
      },
      "source": [
        "print(best_acc)\n",
        "\n",
        "plt.plot(range(len(train_acc)), train_acc, label='train')\n",
        "plt.plot(range(len(val_acc)), val_acc, label='valid')\n",
        "plt.legend()"
      ],
      "execution_count": null,
      "outputs": [
        {
          "output_type": "stream",
          "text": [
            "tensor(67.2489, device='cuda:0')\n"
          ],
          "name": "stdout"
        },
        {
          "output_type": "execute_result",
          "data": {
            "text/plain": [
              "<matplotlib.legend.Legend at 0x7f2681f407b8>"
            ]
          },
          "metadata": {
            "tags": []
          },
          "execution_count": 64
        },
        {
          "output_type": "display_data",
          "data": {
            "image/png": "[encoded data removed]",
            "text/plain": [
              "<Figure size 432x288 with 1 Axes>"
            ]
          },
          "metadata": {
            "tags": [],
            "needs_background": "light"
          }
        }
      ]
    },
    {
      "cell_type": "code",
      "metadata": {
        "colab_type": "code",
        "id": "lexv9Ps5ZF0a",
        "colab": {
          "base_uri": "https://localhost:8080/",
          "height": 282
        },
        "outputId": "b3121ec8-ccd6-4766-c618-ff6a5c0daee6"
      },
      "source": [
        "plt.plot(range(len(train_loss)), train_loss, label='train')\n",
        "plt.plot(range(len(val_loss)), val_loss, label='valid')\n",
        "plt.legend()"
      ],
      "execution_count": null,
      "outputs": [
        {
          "output_type": "execute_result",
          "data": {
            "text/plain": [
              "<matplotlib.legend.Legend at 0x7f26f1836320>"
            ]
          },
          "metadata": {
            "tags": []
          },
          "execution_count": 65
        },
        {
          "output_type": "display_data",
          "data": {
            "image/png": "[encoded data removed]",
            "text/plain": [
              "<Figure size 432x288 with 1 Axes>"
            ]
          },
          "metadata": {
            "tags": [],
            "needs_background": "light"
          }
        }
      ]
    },
    {
      "cell_type": "code",
      "metadata": {
        "colab_type": "code",
        "id": "bdAXBdEVZF0i",
        "colab": {
          "base_uri": "https://localhost:8080/",
          "height": 52
        },
        "outputId": "0d472581-2661-45bb-c058-80fc856ab6ef"
      },
      "source": [
        "device = torch.device(\"cuda:0\" if torch.cuda.is_available() else \"cpu\")\n",
        "correct = 0\n",
        "\n",
        "test_net = Emo2DNet_g(7)\n",
        "test_net.load_state_dict(best_model_f_mel)\n",
        "cm = np.zeros((7,7))\n",
        "c = np.arange(7)\n",
        "\n",
        "for i, (x, target) in enumerate(female_test_loader):\n",
        "  if torch.cuda.is_available():\n",
        "    x = x.cuda()\n",
        "    target = target.cuda()\n",
        "    test_net = test_net.cuda()\n",
        "\n",
        "  output = test_net(x.float())\n",
        "  preds = output.argmax(dim=1)\n",
        "\n",
        "  correct += (preds == target).sum()\n",
        "  cm += confusion_matrix(preds.cpu(), target.cpu(), labels = c)\n",
        "\n",
        "acc = 100. * correct / float(len(female_test_loader.dataset))\n",
        "\n",
        "print(\"ACC Test\")\n",
        "print(acc)"
      ],
      "execution_count": null,
      "outputs": [
        {
          "output_type": "stream",
          "text": [
            "ACC Test\n",
            "tensor(63.9738, device='cuda:0')\n"
          ],
          "name": "stdout"
        }
      ]
    },
    {
      "cell_type": "code",
      "metadata": {
        "colab_type": "code",
        "id": "myGhd9MSZF0o",
        "colab": {
          "base_uri": "https://localhost:8080/",
          "height": 352
        },
        "outputId": "4963004e-a3ba-4ebf-affa-04ce3bf25e5a"
      },
      "source": [
        "import seaborn as sns\n",
        "cm_d = cm.astype('int')\n",
        "l = f_lb.classes_\n",
        "sns.heatmap(cm_d, annot=True, fmt='d', xticklabels=l, yticklabels=l)"
      ],
      "execution_count": null,
      "outputs": [
        {
          "output_type": "execute_result",
          "data": {
            "text/plain": [
              "<matplotlib.axes._subplots.AxesSubplot at 0x7f2681879e48>"
            ]
          },
          "metadata": {
            "tags": []
          },
          "execution_count": 67
        },
        {
          "output_type": "display_data",
          "data": {
            "image/png": "[encoded data removed]",
            "text/plain": [
              "<Figure size 432x288 with 2 Axes>"
            ]
          },
          "metadata": {
            "tags": [],
            "needs_background": "light"
          }
        }
      ]
    },
    {
      "cell_type": "code",
      "metadata": {
        "colab_type": "code",
        "id": "GKk1h0mrZF0w",
        "colab": {}
      },
      "source": [
        "with open('f_mel_30_new.pkl', 'wb') as f:\n",
        "  pickle.dump(best_model_f_mel, f)"
      ],
      "execution_count": null,
      "outputs": []
    },
    {
      "cell_type": "markdown",
      "metadata": {
        "colab_type": "text",
        "id": "-l9eT1bmZF02"
      },
      "source": [
        "**male**"
      ]
    },
    {
      "cell_type": "code",
      "metadata": {
        "colab_type": "code",
        "id": "THrSAFqGZF03",
        "colab": {}
      },
      "source": [
        "male_train_dataset = myDataset(m_X_train, m_y_train)\n",
        "male_train_loader = DataLoader(male_train_dataset, batch_size= 16, shuffle=True)\n",
        "\n",
        "male_valid_dataset = myDataset(m_X_val, m_y_val)\n",
        "male_valid_loader = DataLoader(male_valid_dataset, batch_size= 16, shuffle=True)\n",
        "\n",
        "male_test_dataset = myDataset(m_X_test, m_y_test)\n",
        "male_test_loader = DataLoader(male_test_dataset, batch_size=32, shuffle=True)"
      ],
      "execution_count": null,
      "outputs": []
    },
    {
      "cell_type": "code",
      "metadata": {
        "colab_type": "code",
        "id": "t1dG9YcbZF08",
        "colab": {
          "base_uri": "https://localhost:8080/",
          "height": 69
        },
        "outputId": "3681f4ff-794f-4553-aa67-db8bd93a2e57"
      },
      "source": [
        "print(\"train : \", m_X_train.shape)\n",
        "print(\"valid : \", m_X_val.shape)\n",
        "print(\"test : \", m_X_test.shape)"
      ],
      "execution_count": null,
      "outputs": [
        {
          "output_type": "stream",
          "text": [
            "train :  (2830, 30, 216, 1)\n",
            "valid :  (944, 30, 216, 1)\n",
            "test :  (943, 30, 216, 1)\n"
          ],
          "name": "stdout"
        }
      ]
    },
    {
      "cell_type": "code",
      "metadata": {
        "colab_type": "code",
        "id": "_d8cZ1E9ZF1E",
        "colab": {}
      },
      "source": [
        "male_mel_model = Emo2DNet_g(7)\n",
        "if torch.cuda.is_available():\n",
        "  male_mel_model = male_mel_model.cuda()\n",
        "\n",
        "train_loss, train_acc = [], []\n",
        "val_loss, val_acc = [], []\n",
        "best_acc = 0.0\n",
        "\n",
        "for epoch in range(100):\n",
        "  t_loss, t_acc = fit(male_mel_model, male_train_loader, 'train')\n",
        "  v_loss, v_acc = fit(male_mel_model, male_valid_loader, 'valid')\n",
        "\n",
        "  if v_acc > best_acc:\n",
        "    best_acc = v_acc\n",
        "    best_model_m_mel = male_mel_model.state_dict()\n",
        "\n",
        "  train_loss.append(t_loss)\n",
        "  train_acc.append(t_acc)\n",
        "  val_loss.append(v_loss)\n",
        "  val_acc.append(v_acc)"
      ],
      "execution_count": null,
      "outputs": []
    },
    {
      "cell_type": "code",
      "metadata": {
        "colab_type": "code",
        "id": "7K2dj8_HZF1J",
        "colab": {
          "base_uri": "https://localhost:8080/",
          "height": 303
        },
        "outputId": "8a05e0ec-d31a-4b4e-b610-0091f2887425"
      },
      "source": [
        "print(best_acc)\n",
        "\n",
        "plt.plot(range(len(train_acc)), train_acc, label='train')\n",
        "plt.plot(range(len(val_acc)), val_acc, label='valid')\n",
        "plt.legend()"
      ],
      "execution_count": null,
      "outputs": [
        {
          "output_type": "stream",
          "text": [
            "tensor(45.6568, device='cuda:0')\n"
          ],
          "name": "stdout"
        },
        {
          "output_type": "execute_result",
          "data": {
            "text/plain": [
              "<matplotlib.legend.Legend at 0x7f26812ede48>"
            ]
          },
          "metadata": {
            "tags": []
          },
          "execution_count": 71
        },
        {
          "output_type": "display_data",
          "data": {
            "image/png": "[encoded data removed]",
            "text/plain": [
              "<Figure size 432x288 with 1 Axes>"
            ]
          },
          "metadata": {
            "tags": [],
            "needs_background": "light"
          }
        }
      ]
    },
    {
      "cell_type": "code",
      "metadata": {
        "colab_type": "code",
        "id": "rMjqw1xAZF1R",
        "colab": {
          "base_uri": "https://localhost:8080/",
          "height": 282
        },
        "outputId": "187e1f4f-9a3a-4d82-949c-5e7f6bbe8dc1"
      },
      "source": [
        "plt.plot(range(len(train_loss)), train_loss, label='train')\n",
        "plt.plot(range(len(val_loss)), val_loss, label='valid')\n",
        "plt.legend()"
      ],
      "execution_count": null,
      "outputs": [
        {
          "output_type": "execute_result",
          "data": {
            "text/plain": [
              "<matplotlib.legend.Legend at 0x7f26812d6f60>"
            ]
          },
          "metadata": {
            "tags": []
          },
          "execution_count": 72
        },
        {
          "output_type": "display_data",
          "data": {
            "image/png": "[encoded data removed]",
            "text/plain": [
              "<Figure size 432x288 with 1 Axes>"
            ]
          },
          "metadata": {
            "tags": [],
            "needs_background": "light"
          }
        }
      ]
    },
    {
      "cell_type": "code",
      "metadata": {
        "colab_type": "code",
        "id": "YeY6k4vEZF1X",
        "colab": {
          "base_uri": "https://localhost:8080/",
          "height": 52
        },
        "outputId": "24da4b91-d06e-4062-cc77-7d052acff0fc"
      },
      "source": [
        "device = torch.device(\"cuda:0\" if torch.cuda.is_available() else \"cpu\")\n",
        "correct = 0\n",
        "\n",
        "test_net = Emo2DNet_g(7)\n",
        "test_net.load_state_dict(best_model_m_mel)\n",
        "cm = np.zeros((7,7))\n",
        "c = np.arange(7)\n",
        "\n",
        "for i, (x, target) in enumerate(male_test_loader):\n",
        "  if torch.cuda.is_available():\n",
        "    x = x.cuda()\n",
        "    target = target.cuda()\n",
        "    test_net = test_net.cuda()\n",
        "\n",
        "  output = test_net(x.float())\n",
        "  preds = output.argmax(dim=1)\n",
        "\n",
        "  correct += (preds == target).sum()\n",
        "  cm += confusion_matrix(preds.cpu(), target.cpu(), labels = c)\n",
        "\n",
        "acc = 100. * correct / float(len(male_test_loader.dataset))\n",
        "\n",
        "print(\"ACC Test\")\n",
        "print(acc)"
      ],
      "execution_count": null,
      "outputs": [
        {
          "output_type": "stream",
          "text": [
            "ACC Test\n",
            "tensor(40.4030, device='cuda:0')\n"
          ],
          "name": "stdout"
        }
      ]
    },
    {
      "cell_type": "code",
      "metadata": {
        "colab_type": "code",
        "id": "7nr6CkuVZF1g",
        "colab": {
          "base_uri": "https://localhost:8080/",
          "height": 342
        },
        "outputId": "9267ad06-d42d-4845-85e7-839dfd5ce80c"
      },
      "source": [
        "import seaborn as sns\n",
        "cm_d = cm.astype('int')\n",
        "l = lb.classes_\n",
        "sns.heatmap(cm_d, annot=True, fmt='d', xticklabels=l, yticklabels=l)"
      ],
      "execution_count": null,
      "outputs": [
        {
          "output_type": "execute_result",
          "data": {
            "text/plain": [
              "<matplotlib.axes._subplots.AxesSubplot at 0x7f268121ed68>"
            ]
          },
          "metadata": {
            "tags": []
          },
          "execution_count": 74
        },
        {
          "output_type": "display_data",
          "data": {
            "image/png": "[encoded data removed]",
            "text/plain": [
              "<Figure size 432x288 with 2 Axes>"
            ]
          },
          "metadata": {
            "tags": [],
            "needs_background": "light"
          }
        }
      ]
    },
    {
      "cell_type": "code",
      "metadata": {
        "colab_type": "code",
        "id": "t24CeH_LZF1m",
        "colab": {}
      },
      "source": [
        "with open('m_mel_30_new.pkl', 'wb') as f:\n",
        "  pickle.dump(best_model_m_mel, f)"
      ],
      "execution_count": null,
      "outputs": []
    },
    {
      "cell_type": "code",
      "metadata": {
        "id": "4_ACMirYcdw_",
        "colab_type": "code",
        "colab": {}
      },
      "source": [
        ""
      ],
      "execution_count": null,
      "outputs": []
    },
    {
      "cell_type": "markdown",
      "metadata": {
        "id": "k0T7I7gk9kV6",
        "colab_type": "text"
      },
      "source": [
        "# RNN - MFCC Sep. Gender"
      ]
    },
    {
      "cell_type": "code",
      "metadata": {
        "colab_type": "code",
        "id": "YKEg1bu9AGf2",
        "colab": {}
      },
      "source": [
        "class RNN_myDataset(Dataset):\n",
        "    def __init__(self, d, l):\n",
        "      self.d = d\n",
        "      self.l = l\n",
        "\n",
        "    def __getitem__(self, idx):\n",
        "      data = self.d[idx]\n",
        "      #print(data.shape)\n",
        "      data = data.squeeze(2)\n",
        "      data = np.transpose(data, (1,0)) #(batch, seq_len, input_size)\n",
        "      l = self.l[idx].argmax()\n",
        "      return data, l\n",
        "\n",
        "    def __len__(self):\n",
        "      return len(self.d)"
      ],
      "execution_count": null,
      "outputs": []
    },
    {
      "cell_type": "code",
      "metadata": {
        "id": "zig9lv1ffcGp",
        "colab_type": "code",
        "colab": {}
      },
      "source": [
        "#from GaborNet import GaborConv2d\n",
        "\n",
        "device = torch.device(\"cuda:0\" if torch.cuda.is_available() else \"cpu\")\n",
        "\n",
        "class ENet(nn.Module):\n",
        "    def __init__(self, n_class):\n",
        "        super(ENet, self).__init__()\n",
        "        self.n_class = n_class\n",
        "        self.lstm = nn.LSTM(input_size=30, hidden_size=200, num_layers=3, dropout= 0.25, batch_first=True) #(B, time, feat)\n",
        "\n",
        "        self.fc4 = nn.Linear(200, self.n_class)\n",
        "\n",
        "\n",
        "    def forward(self, x):\n",
        "        x, h_n = self.lstm(x)\n",
        "        \n",
        "        x = self.fc4(x[:,-1,:])\n",
        "        \n",
        "        return x"
      ],
      "execution_count": null,
      "outputs": []
    },
    {
      "cell_type": "code",
      "metadata": {
        "colab_type": "code",
        "id": "yKN3J3Kp-BWt",
        "colab": {
          "base_uri": "https://localhost:8080/",
          "height": 459
        },
        "outputId": "9ad43121-fe03-4364-f502-41ba9972e471"
      },
      "source": [
        "import pickle\n",
        "import pandas as pd\n",
        "\n",
        "with open(\"/gdrive/My Drive/female_mfcc.pkl\", 'rb') as f:\n",
        "    female_ref = pickle.load(f)\n",
        "\n",
        "with open(\"/gdrive/My Drive/male_mfcc.pkl\", 'rb') as f:\n",
        "    male_ref = pickle.load(f)\n",
        "\n",
        "print(female_ref.shape)\n",
        "print(male_ref.shape)\n",
        "\n",
        "female_path = pd.read_csv(\"/gdrive/My Drive/dataset_female.csv\")\n",
        "male_path = pd.read_csv(\"/gdrive/My Drive/dataset_male.csv\")\n",
        "male_path = male_path.drop(4717)\n",
        "male_path"
      ],
      "execution_count": null,
      "outputs": [
        {
          "output_type": "stream",
          "text": [
            "(6869, 30, 216, 1)\n",
            "(4717, 30, 216, 1)\n"
          ],
          "name": "stdout"
        },
        {
          "output_type": "execute_result",
          "data": {
            "text/html": [
              "<div>\n",
              "<style scoped>\n",
              "    .dataframe tbody tr th:only-of-type {\n",
              "        vertical-align: middle;\n",
              "    }\n",
              "\n",
              "    .dataframe tbody tr th {\n",
              "        vertical-align: top;\n",
              "    }\n",
              "\n",
              "    .dataframe thead th {\n",
              "        text-align: right;\n",
              "    }\n",
              "</style>\n",
              "<table border=\"1\" class=\"dataframe\">\n",
              "  <thead>\n",
              "    <tr style=\"text-align: right;\">\n",
              "      <th></th>\n",
              "      <th>Unnamed: 0</th>\n",
              "      <th>labels</th>\n",
              "      <th>source</th>\n",
              "      <th>path</th>\n",
              "    </tr>\n",
              "  </thead>\n",
              "  <tbody>\n",
              "    <tr>\n",
              "      <th>0</th>\n",
              "      <td>0</td>\n",
              "      <td>male_neutral</td>\n",
              "      <td>SAVEE</td>\n",
              "      <td>/gdrive/My Drive/SAVEE/DC_n11.wav</td>\n",
              "    </tr>\n",
              "    <tr>\n",
              "      <th>1</th>\n",
              "      <td>1</td>\n",
              "      <td>male_angry</td>\n",
              "      <td>SAVEE</td>\n",
              "      <td>/gdrive/My Drive/SAVEE/DC_a12.wav</td>\n",
              "    </tr>\n",
              "    <tr>\n",
              "      <th>2</th>\n",
              "      <td>2</td>\n",
              "      <td>male_fear</td>\n",
              "      <td>SAVEE</td>\n",
              "      <td>/gdrive/My Drive/SAVEE/JE_f04.wav</td>\n",
              "    </tr>\n",
              "    <tr>\n",
              "      <th>3</th>\n",
              "      <td>3</td>\n",
              "      <td>male_disgust</td>\n",
              "      <td>SAVEE</td>\n",
              "      <td>/gdrive/My Drive/SAVEE/JK_d15.wav</td>\n",
              "    </tr>\n",
              "    <tr>\n",
              "      <th>4</th>\n",
              "      <td>4</td>\n",
              "      <td>male_happy</td>\n",
              "      <td>SAVEE</td>\n",
              "      <td>/gdrive/My Drive/SAVEE/DC_h14.wav</td>\n",
              "    </tr>\n",
              "    <tr>\n",
              "      <th>...</th>\n",
              "      <td>...</td>\n",
              "      <td>...</td>\n",
              "      <td>...</td>\n",
              "      <td>...</td>\n",
              "    </tr>\n",
              "    <tr>\n",
              "      <th>4712</th>\n",
              "      <td>11581</td>\n",
              "      <td>male_fear</td>\n",
              "      <td>CREMA</td>\n",
              "      <td>/gdrive/My Drive/CREMA-D/1087_IOM_FEA_XX.wav</td>\n",
              "    </tr>\n",
              "    <tr>\n",
              "      <th>4713</th>\n",
              "      <td>11582</td>\n",
              "      <td>male_happy</td>\n",
              "      <td>CREMA</td>\n",
              "      <td>/gdrive/My Drive/CREMA-D/1087_IOM_HAP_XX.wav</td>\n",
              "    </tr>\n",
              "    <tr>\n",
              "      <th>4714</th>\n",
              "      <td>11583</td>\n",
              "      <td>male_neutral</td>\n",
              "      <td>CREMA</td>\n",
              "      <td>/gdrive/My Drive/CREMA-D/1087_IOM_NEU_XX.wav</td>\n",
              "    </tr>\n",
              "    <tr>\n",
              "      <th>4715</th>\n",
              "      <td>11584</td>\n",
              "      <td>male_sad</td>\n",
              "      <td>CREMA</td>\n",
              "      <td>/gdrive/My Drive/CREMA-D/1087_IOM_SAD_XX.wav</td>\n",
              "    </tr>\n",
              "    <tr>\n",
              "      <th>4716</th>\n",
              "      <td>11585</td>\n",
              "      <td>male_angry</td>\n",
              "      <td>CREMA</td>\n",
              "      <td>/gdrive/My Drive/CREMA-D/1087_ITH_ANG_XX.wav</td>\n",
              "    </tr>\n",
              "  </tbody>\n",
              "</table>\n",
              "<p>4717 rows × 4 columns</p>\n",
              "</div>"
            ],
            "text/plain": [
              "      Unnamed: 0  ...                                          path\n",
              "0              0  ...             /gdrive/My Drive/SAVEE/DC_n11.wav\n",
              "1              1  ...             /gdrive/My Drive/SAVEE/DC_a12.wav\n",
              "2              2  ...             /gdrive/My Drive/SAVEE/JE_f04.wav\n",
              "3              3  ...             /gdrive/My Drive/SAVEE/JK_d15.wav\n",
              "4              4  ...             /gdrive/My Drive/SAVEE/DC_h14.wav\n",
              "...          ...  ...                                           ...\n",
              "4712       11581  ...  /gdrive/My Drive/CREMA-D/1087_IOM_FEA_XX.wav\n",
              "4713       11582  ...  /gdrive/My Drive/CREMA-D/1087_IOM_HAP_XX.wav\n",
              "4714       11583  ...  /gdrive/My Drive/CREMA-D/1087_IOM_NEU_XX.wav\n",
              "4715       11584  ...  /gdrive/My Drive/CREMA-D/1087_IOM_SAD_XX.wav\n",
              "4716       11585  ...  /gdrive/My Drive/CREMA-D/1087_ITH_ANG_XX.wav\n",
              "\n",
              "[4717 rows x 4 columns]"
            ]
          },
          "metadata": {
            "tags": []
          },
          "execution_count": 5
        }
      ]
    },
    {
      "cell_type": "code",
      "metadata": {
        "colab_type": "code",
        "id": "Uy5dew9m-BXw",
        "colab": {}
      },
      "source": [
        "#female\n",
        "f_X_train, f_X_test, f_y_train, f_y_test = train_test_split(female_ref, female_path['labels'], test_size=0.4, random_state=23)\n",
        "\n",
        "f_X_test, f_X_val, f_y_test, f_y_val = train_test_split(f_X_test, f_y_test, test_size=0.5, random_state=23)\n",
        "\n",
        "# one hot encode the target \n",
        "lb = LabelEncoder()\n",
        "f_y_train = np_utils.to_categorical(lb.fit_transform(f_y_train))\n",
        "f_y_test = np_utils.to_categorical(lb.fit_transform(f_y_test))\n",
        "f_y_val = np_utils.to_categorical(lb.fit_transform(f_y_val))\n",
        "\n",
        "# Normalization as per the standard NN process\n",
        "f_mean = np.mean(f_X_train, axis=0)\n",
        "f_std = np.std(f_X_train, axis=0)\n",
        "f_min = np.min(f_X_train, axis=0)\n",
        "f_max = np.max(f_X_train, axis=0)\n",
        "\n",
        "#f_X_train = (f_X_train - f_mean)/f_std\n",
        "#f_X_test = (f_X_test - f_mean)/f_std\n",
        "#f_X_val = (f_X_val - f_mean)/f_std\n",
        "f_X_train = (f_X_train - f_min) / (f_max - f_min)\n",
        "f_X_test = (f_X_test - f_min) / (f_max - f_min)\n",
        "f_X_val = (f_X_val - f_min) / (f_max - f_min)\n",
        "\n",
        "##male\n",
        "m_X_train, m_X_test, m_y_train, m_y_test = train_test_split(male_ref, male_path['labels'], test_size=0.4, random_state=23)\n",
        "m_X_test, m_X_val, m_y_test, m_y_val = train_test_split(m_X_test, m_y_test, test_size=0.5, random_state=23)\n",
        "\n",
        "m_y_train = np_utils.to_categorical(lb.fit_transform(m_y_train))\n",
        "m_y_test = np_utils.to_categorical(lb.fit_transform(m_y_test))\n",
        "m_y_val = np_utils.to_categorical(lb.fit_transform(m_y_val))\n",
        "\n",
        "# Normalization as per the standard NN process\n",
        "m_mean = np.mean(m_X_train, axis=0)\n",
        "m_std = np.std(m_X_train, axis=0)\n",
        "m_min = np.min(m_X_train, axis=0)\n",
        "m_max = np.max(m_X_train, axis=0)\n",
        "\n",
        "#m_X_train = (m_X_train - m_mean)/m_std\n",
        "#m_X_test = (m_X_test - m_mean)/m_std\n",
        "#m_X_val = (m_X_val - m_mean)/m_std\n",
        "m_X_train = (m_X_train - m_min)/ (m_max-m_min)\n",
        "m_X_test = (m_X_test - m_min)/ (m_max-m_min)\n",
        "m_X_val = (m_X_val - m_min)/ (m_max-m_min)"
      ],
      "execution_count": null,
      "outputs": []
    },
    {
      "cell_type": "markdown",
      "metadata": {
        "colab_type": "text",
        "id": "h_996ig6-BX-"
      },
      "source": [
        "**female**"
      ]
    },
    {
      "cell_type": "code",
      "metadata": {
        "colab_type": "code",
        "id": "Mo7xziOT-BYB",
        "colab": {}
      },
      "source": [
        "female_train_dataset = RNN_myDataset(f_X_train, f_y_train)\n",
        "female_train_loader = DataLoader(female_train_dataset, batch_size= 16, shuffle=True)\n",
        "\n",
        "female_valid_dataset = RNN_myDataset(f_X_val, f_y_val)\n",
        "female_valid_loader = DataLoader(female_valid_dataset, batch_size= 16, shuffle=True)\n",
        "\n",
        "female_test_dataset = RNN_myDataset(f_X_test, f_y_test)\n",
        "female_test_loader = DataLoader(female_test_dataset, batch_size=32, shuffle=True)"
      ],
      "execution_count": null,
      "outputs": []
    },
    {
      "cell_type": "code",
      "metadata": {
        "colab_type": "code",
        "id": "GTNTJvjh-BYM",
        "colab": {
          "base_uri": "https://localhost:8080/",
          "height": 69
        },
        "outputId": "e9f56a53-f4eb-4517-9371-d2c312044174"
      },
      "source": [
        "print(\"train : \", f_X_train.shape)\n",
        "print(\"valid : \", f_X_val.shape)\n",
        "print(\"test : \", f_X_test.shape)"
      ],
      "execution_count": null,
      "outputs": [
        {
          "output_type": "stream",
          "text": [
            "train :  (4121, 30, 216, 1)\n",
            "valid :  (1374, 30, 216, 1)\n",
            "test :  (1374, 30, 216, 1)\n"
          ],
          "name": "stdout"
        }
      ]
    },
    {
      "cell_type": "code",
      "metadata": {
        "colab_type": "code",
        "id": "ruXHVs7x-BYW",
        "colab": {}
      },
      "source": [
        "RNN_female_mfcc_model = ENet(7)\n",
        "if torch.cuda.is_available():\n",
        "  RNN_female_mfcc_model = RNN_female_mfcc_model.cuda()\n",
        "\n",
        "train_loss, train_acc = [], []\n",
        "val_loss, val_acc = [], []\n",
        "best_acc = 0.0\n",
        "\n",
        "for epoch in range(100):\n",
        "  t_loss, t_acc = fit(RNN_female_mfcc_model, female_train_loader, 'train')\n",
        "  v_loss, v_acc = fit(RNN_female_mfcc_model, female_valid_loader, 'valid')\n",
        "\n",
        "  if v_acc > best_acc:\n",
        "    best_acc = v_acc\n",
        "    best_model_f_mfcc = RNN_female_mfcc_model.state_dict()\n",
        "\n",
        "  train_loss.append(t_loss)\n",
        "  train_acc.append(t_acc)\n",
        "  val_loss.append(v_loss)\n",
        "  val_acc.append(v_acc)"
      ],
      "execution_count": null,
      "outputs": []
    },
    {
      "cell_type": "code",
      "metadata": {
        "colab_type": "code",
        "id": "n_SAXjCk-BYh",
        "colab": {
          "base_uri": "https://localhost:8080/",
          "height": 300
        },
        "outputId": "2b27b860-cbba-413f-ceba-d95a1a7eb7a5"
      },
      "source": [
        "print(best_acc)\n",
        "\n",
        "plt.plot(range(len(train_acc)), train_acc, label='train')\n",
        "plt.plot(range(len(val_acc)), val_acc, label='valid')\n",
        "plt.legend()"
      ],
      "execution_count": null,
      "outputs": [
        {
          "output_type": "stream",
          "text": [
            "tensor(65.1383, device='cuda:0')\n"
          ],
          "name": "stdout"
        },
        {
          "output_type": "execute_result",
          "data": {
            "text/plain": [
              "<matplotlib.legend.Legend at 0x7fd60b54cf98>"
            ]
          },
          "metadata": {
            "tags": []
          },
          "execution_count": 21
        },
        {
          "output_type": "display_data",
          "data": {
            "image/png": "[encoded data removed]",
            "text/plain": [
              "<Figure size 432x288 with 1 Axes>"
            ]
          },
          "metadata": {
            "tags": [],
            "needs_background": "light"
          }
        }
      ]
    },
    {
      "cell_type": "code",
      "metadata": {
        "colab_type": "code",
        "id": "Zt820710-BYp",
        "colab": {}
      },
      "source": [
        "plt.plot(range(len(train_loss)), train_loss, label='train')\n",
        "plt.plot(range(len(val_loss)), val_loss, label='valid')\n",
        "plt.legend()"
      ],
      "execution_count": null,
      "outputs": []
    },
    {
      "cell_type": "code",
      "metadata": {
        "colab_type": "code",
        "id": "-pipdU2z-BYz",
        "colab": {}
      },
      "source": [
        "device = torch.device(\"cuda:0\" if torch.cuda.is_available() else \"cpu\")\n",
        "correct = 0\n",
        "\n",
        "test_net = ENet(7)\n",
        "test_net.load_state_dict(best_model_f_mfcc)\n",
        "cm = np.zeros((7,7))\n",
        "c = np.arange(7)\n",
        "\n",
        "for i, (x, target) in enumerate(female_test_loader):\n",
        "  if torch.cuda.is_available():\n",
        "    x = x.cuda()\n",
        "    target = target.cuda()\n",
        "    test_net = test_net.cuda()\n",
        "\n",
        "  output = test_net(x.float())\n",
        "  preds = output.argmax(dim=1)\n",
        "\n",
        "  correct += (preds == target).sum()\n",
        "  cm += confusion_matrix(preds.cpu(), target.cpu(), labels = c)\n",
        "\n",
        "acc = 100. * correct / float(len(female_test_loader.dataset))\n",
        "\n",
        "print(\"ACC Test\")\n",
        "print(acc)"
      ],
      "execution_count": null,
      "outputs": []
    },
    {
      "cell_type": "code",
      "metadata": {
        "colab_type": "code",
        "id": "EDaCl5PD-BY5",
        "colab": {}
      },
      "source": [
        "import seaborn as sns\n",
        "cm_d = cm.astype('int')\n",
        "l = lb.classes_\n",
        "sns.heatmap(cm_d, annot=True, fmt='d', xticklabels=l, yticklabels=l)"
      ],
      "execution_count": null,
      "outputs": []
    },
    {
      "cell_type": "code",
      "metadata": {
        "colab_type": "code",
        "id": "kZEOJdLh-BZA",
        "colab": {}
      },
      "source": [
        "with open('RNN_f_mfcc_30_100.pkl', 'wb') as f:\n",
        "  pickle.dump(best_model_f_mfcc, f)"
      ],
      "execution_count": null,
      "outputs": []
    },
    {
      "cell_type": "markdown",
      "metadata": {
        "colab_type": "text",
        "id": "mNi_1eTg-BZJ"
      },
      "source": [
        "**male**"
      ]
    },
    {
      "cell_type": "code",
      "metadata": {
        "colab_type": "code",
        "id": "ZmL7c56r-BZK",
        "colab": {}
      },
      "source": [
        "male_train_dataset = RNN_myDataset(m_X_train, m_y_train)\n",
        "male_train_loader = DataLoader(male_train_dataset, batch_size= 16, shuffle=True)\n",
        "\n",
        "male_valid_dataset = RNN_myDataset(m_X_val, m_y_val)\n",
        "male_valid_loader = DataLoader(male_valid_dataset, batch_size= 16, shuffle=True)\n",
        "\n",
        "male_test_dataset = RNN_myDataset(m_X_test, m_y_test)\n",
        "male_test_loader = DataLoader(male_test_dataset, batch_size=32, shuffle=True)"
      ],
      "execution_count": null,
      "outputs": []
    },
    {
      "cell_type": "code",
      "metadata": {
        "colab_type": "code",
        "id": "4qakvWFt-BZU",
        "colab": {
          "base_uri": "https://localhost:8080/",
          "height": 69
        },
        "outputId": "b54d38a1-e468-4359-a790-4e59b255abcd"
      },
      "source": [
        "print(\"train : \", m_X_train.shape)\n",
        "print(\"valid : \", m_X_val.shape)\n",
        "print(\"test : \", m_X_test.shape)"
      ],
      "execution_count": null,
      "outputs": [
        {
          "output_type": "stream",
          "text": [
            "train :  (2830, 30, 216, 1)\n",
            "valid :  (944, 30, 216, 1)\n",
            "test :  (943, 30, 216, 1)\n"
          ],
          "name": "stdout"
        }
      ]
    },
    {
      "cell_type": "code",
      "metadata": {
        "colab_type": "code",
        "id": "FqyTCWFQ-BZb",
        "colab": {}
      },
      "source": [
        "RNN_male_mfcc_model = ENet(7)\n",
        "if torch.cuda.is_available():\n",
        "  RNN_male_mfcc_model = RNN_male_mfcc_model.cuda()\n",
        "\n",
        "train_loss, train_acc = [], []\n",
        "val_loss, val_acc = [], []\n",
        "best_acc = 0.0\n",
        "\n",
        "for epoch in range(700):\n",
        "  t_loss, t_acc = fit(RNN_male_mfcc_model, male_train_loader, 'train')\n",
        "  v_loss, v_acc = fit(RNN_male_mfcc_model, male_valid_loader, 'valid')\n",
        "\n",
        "  if v_acc > best_acc:\n",
        "    best_acc = v_acc\n",
        "    best_model_m_mfcc = RNN_male_mfcc_model.state_dict()\n",
        "\n",
        "  train_loss.append(t_loss)\n",
        "  train_acc.append(t_acc)\n",
        "  val_loss.append(v_loss)\n",
        "  val_acc.append(v_acc)"
      ],
      "execution_count": null,
      "outputs": []
    },
    {
      "cell_type": "code",
      "metadata": {
        "colab_type": "code",
        "id": "i-PdDBM8-BZk",
        "colab": {}
      },
      "source": [
        "print(best_acc)\n",
        "\n",
        "plt.plot(range(len(train_acc)), train_acc, label='train')\n",
        "plt.plot(range(len(val_acc)), val_acc, label='valid')\n",
        "plt.legend()"
      ],
      "execution_count": null,
      "outputs": []
    },
    {
      "cell_type": "code",
      "metadata": {
        "colab_type": "code",
        "id": "yqyZO6zC-BZr",
        "colab": {}
      },
      "source": [
        "plt.plot(range(len(train_loss)), train_loss, label='train')\n",
        "plt.plot(range(len(val_loss)), val_loss, label='valid')\n",
        "plt.legend()"
      ],
      "execution_count": null,
      "outputs": []
    },
    {
      "cell_type": "code",
      "metadata": {
        "colab_type": "code",
        "id": "LBC4iWKC-BZz",
        "colab": {}
      },
      "source": [
        "device = torch.device(\"cuda:0\" if torch.cuda.is_available() else \"cpu\")\n",
        "correct = 0\n",
        "\n",
        "test_net = ENet(7)\n",
        "test_net.load_state_dict(best_model_m_mfcc)\n",
        "cm = np.zeros((7,7))\n",
        "c = np.arange(7)\n",
        "\n",
        "for i, (x, target) in enumerate(male_test_loader):\n",
        "  if torch.cuda.is_available():\n",
        "    x = x.cuda()\n",
        "    target = target.cuda()\n",
        "    test_net = test_net.cuda()\n",
        "\n",
        "  output = test_net(x.float())\n",
        "  preds = output.argmax(dim=1)\n",
        "\n",
        "  correct += (preds == target).sum()\n",
        "  cm += confusion_matrix(preds.cpu(), target.cpu(), labels = c)\n",
        "\n",
        "acc = 100. * correct / float(len(test_loader.dataset))\n",
        "\n",
        "print(\"ACC Test\")\n",
        "print(acc)"
      ],
      "execution_count": null,
      "outputs": []
    },
    {
      "cell_type": "code",
      "metadata": {
        "colab_type": "code",
        "id": "yACfz2fn-BZ5",
        "colab": {}
      },
      "source": [
        "import seaborn as sns\n",
        "cm_d = cm.astype('int')\n",
        "l = lb.classes_\n",
        "sns.heatmap(cm_d, annot=True, fmt='d', xticklabels=l, yticklabels=l)"
      ],
      "execution_count": null,
      "outputs": []
    },
    {
      "cell_type": "code",
      "metadata": {
        "colab_type": "code",
        "id": "kpCCoENs-BZ-",
        "colab": {}
      },
      "source": [
        "with open('RNN_m_mfcc_30_100.pkl', 'wb') as f:\n",
        "  pickle.dump(best_model_m_mfcc, f)"
      ],
      "execution_count": null,
      "outputs": []
    },
    {
      "cell_type": "code",
      "metadata": {
        "id": "xT5TADW29o_b",
        "colab_type": "code",
        "colab": {}
      },
      "source": [
        ""
      ],
      "execution_count": null,
      "outputs": []
    }
  ]
}