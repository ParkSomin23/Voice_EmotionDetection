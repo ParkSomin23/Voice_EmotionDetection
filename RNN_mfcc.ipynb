{
  "nbformat": 4,
  "nbformat_minor": 0,
  "metadata": {
    "colab": {
      "name": "RNN_mfcc.ipynb",
      "provenance": [],
      "collapsed_sections": [],
      "machine_shape": "hm",
      "authorship_tag": "ABX9TyMzK4Y+7vCgf9ULiPnNiZDy",
      "include_colab_link": true
    },
    "kernelspec": {
      "name": "python3",
      "display_name": "Python 3"
    },
    "accelerator": "GPU"
  },
  "cells": [
    {
      "cell_type": "markdown",
      "metadata": {
        "id": "view-in-github",
        "colab_type": "text"
      },
      "source": [
        "<a href=\"https://colab.research.google.com/github/ParkSomin23/Voice_EmotionDetection/blob/master/RNN_mfcc.ipynb\" target=\"_parent\"><img src=\"https://colab.research.google.com/assets/colab-badge.svg\" alt=\"Open In Colab\"/></a>"
      ]
    },
    {
      "cell_type": "code",
      "metadata": {
        "id": "Km9yc4MeauX3",
        "colab_type": "code",
        "colab": {}
      },
      "source": [
        "import numpy as np\n",
        "import torch\n",
        "import torch.nn as nn\n",
        "import torch.nn.functional as F\n",
        "import torch.optim as optim\n",
        "from torch.optim import lr_scheduler\n",
        "from torch.autograd import Variable\n",
        "\n",
        "import numpy as np\n",
        "\n",
        "import os\n",
        "import sys\n",
        "\n",
        "import pandas as pd\n",
        "import pickle\n",
        "\n",
        "import time\n",
        "\n",
        "import matplotlib.pyplot as plt"
      ],
      "execution_count": null,
      "outputs": []
    },
    {
      "cell_type": "code",
      "metadata": {
        "id": "AYS58Q5abDsi",
        "colab_type": "code",
        "colab": {}
      },
      "source": [
        "from sklearn.metrics import confusion_matrix, accuracy_score\n",
        "from sklearn.model_selection import train_test_split\n",
        "from sklearn.preprocessing import LabelEncoder\n",
        "\n",
        "from torch.utils.data import Dataset\n",
        "from torch.utils.data import DataLoader\n",
        "\n",
        "from keras.utils import np_utils, to_categorical"
      ],
      "execution_count": null,
      "outputs": []
    },
    {
      "cell_type": "code",
      "metadata": {
        "id": "48_bRgeef-jT",
        "colab_type": "code",
        "colab": {
          "base_uri": "https://localhost:8080/",
          "height": 69
        },
        "outputId": "7358cf0a-23a2-4b7b-9a27-a8196ffe727f"
      },
      "source": [
        "!pip install torch\n",
        "#!pip install torchaudio\n",
        "#!pip install GaborNet"
      ],
      "execution_count": null,
      "outputs": [
        {
          "output_type": "stream",
          "text": [
            "Requirement already satisfied: torch in /usr/local/lib/python3.6/dist-packages (1.6.0+cu101)\n",
            "Requirement already satisfied: numpy in /usr/local/lib/python3.6/dist-packages (from torch) (1.18.5)\n",
            "Requirement already satisfied: future in /usr/local/lib/python3.6/dist-packages (from torch) (0.16.0)\n"
          ],
          "name": "stdout"
        }
      ]
    },
    {
      "cell_type": "code",
      "metadata": {
        "id": "ZjRaAKWSCxX0",
        "colab_type": "code",
        "colab": {
          "base_uri": "https://localhost:8080/",
          "height": 34
        },
        "outputId": "4c5fbbe0-23c0-4bd9-c981-cc9055ea0030"
      },
      "source": [
        "from google.colab import drive\n",
        "drive.mount('/gdrive', force_remount=True)"
      ],
      "execution_count": null,
      "outputs": [
        {
          "output_type": "stream",
          "text": [
            "Mounted at /gdrive\n"
          ],
          "name": "stdout"
        }
      ]
    },
    {
      "cell_type": "markdown",
      "metadata": {
        "id": "8Sri-fe8cKpO",
        "colab_type": "text"
      },
      "source": [
        "# Base"
      ]
    },
    {
      "cell_type": "code",
      "metadata": {
        "id": "ZZvRwZlhNZpq",
        "colab_type": "code",
        "colab": {}
      },
      "source": [
        "class myDataset(Dataset):\n",
        "    def __init__(self, d, l):\n",
        "      self.d = d\n",
        "      self.l = l\n",
        "\n",
        "    def __getitem__(self, idx):\n",
        "      data = self.d[idx]\n",
        "      #print(data.shape)\n",
        "      data = data.squeeze(2)\n",
        "      data = np.transpose(data, (1,0)) #(batch, seq_len, input_size)\n",
        "      l = self.l[idx].argmax()\n",
        "      return data, l\n",
        "\n",
        "    def __len__(self):\n",
        "      return len(self.d)"
      ],
      "execution_count": null,
      "outputs": []
    },
    {
      "cell_type": "code",
      "metadata": {
        "id": "sDIjMSZfRsK6",
        "colab_type": "code",
        "colab": {
          "base_uri": "https://localhost:8080/",
          "height": 69
        },
        "outputId": "205e5981-2622-4a4d-c5c7-2ee94e6af34e"
      },
      "source": [
        "import pickle\n",
        "import pandas as pd\n",
        "\n",
        "with open(\"/gdrive/My Drive/mfcc_crema.pkl\", 'rb') as f:\n",
        "    mfcc_c = pickle.load(f)\n",
        "\n",
        "with open(\"/gdrive/My Drive/mfcc_3.pkl\", 'rb') as f:\n",
        "    mfcc_3 = pickle.load(f)\n",
        "\n",
        "print(mfcc_c.shape)\n",
        "print(mfcc_3.shape)\n",
        "\n",
        "ref = pd.read_csv(\"/gdrive/My Drive/Data_path.csv\")\n",
        "ref = ref.drop(11586)\n",
        "\n",
        "mfcc = np.concatenate((mfcc_3, mfcc_c), axis=0)\n",
        "mfcc.shape"
      ],
      "execution_count": null,
      "outputs": [
        {
          "output_type": "stream",
          "text": [
            "(7062, 30, 216, 1)\n",
            "(4524, 30, 216, 1)\n"
          ],
          "name": "stdout"
        },
        {
          "output_type": "execute_result",
          "data": {
            "text/plain": [
              "(11586, 30, 216, 1)"
            ]
          },
          "metadata": {
            "tags": []
          },
          "execution_count": 6
        }
      ]
    },
    {
      "cell_type": "code",
      "metadata": {
        "id": "gM6W1baz2Krf",
        "colab_type": "code",
        "colab": {}
      },
      "source": [
        " X_train, X_test, y_train, y_test = train_test_split(mfcc, ref['labels'], test_size=0.4, random_state=23)\n",
        " X_test, X_val, y_test, y_val = train_test_split(X_test, y_test, test_size=0.5, random_state=23)"
      ],
      "execution_count": null,
      "outputs": []
    },
    {
      "cell_type": "code",
      "metadata": {
        "id": "TOWBOjRGxN8t",
        "colab_type": "code",
        "colab": {
          "base_uri": "https://localhost:8080/",
          "height": 121
        },
        "outputId": "e76b3c26-cb31-4d66-be1f-3c66d1ce5e9d"
      },
      "source": [
        "y_train[:5]"
      ],
      "execution_count": null,
      "outputs": [
        {
          "output_type": "execute_result",
          "data": {
            "text/plain": [
              "array([[1., 0., 0., 0., 0., 0., 0., 0., 0., 0., 0., 0., 0., 0.],\n",
              "       [1., 0., 0., 0., 0., 0., 0., 0., 0., 0., 0., 0., 0., 0.],\n",
              "       [0., 1., 0., 0., 0., 0., 0., 0., 0., 0., 0., 0., 0., 0.],\n",
              "       [0., 0., 0., 0., 0., 0., 0., 0., 0., 0., 0., 1., 0., 0.],\n",
              "       [0., 0., 0., 0., 0., 0., 0., 0., 0., 0., 1., 0., 0., 0.]],\n",
              "      dtype=float32)"
            ]
          },
          "metadata": {
            "tags": []
          },
          "execution_count": 14
        }
      ]
    },
    {
      "cell_type": "code",
      "metadata": {
        "id": "x-S35fiD77H9",
        "colab_type": "code",
        "colab": {}
      },
      "source": [
        "# one hot encode the target \n",
        "lb = LabelEncoder()\n",
        "#y_train = np_utils.to_categorical(lb.fit_transform(y_train))\n",
        "#y_test = np_utils.to_categorical(lb.fit_transform(y_test))\n",
        "#y_val = np_utils.to_categorical(lb.fit_transform(y_val))\n",
        "\n",
        "# Normalization as per the standard NN process\n",
        "mean = np.mean(X_train, axis=0)\n",
        "min = np.min(X_train, axis=0)\n",
        "max = np.max(X_train, axis=0)\n",
        "std = np.std(X_train, axis=0)\n",
        "\n",
        "X_train = (X_train - min) / (max - min)\n",
        "X_test = (X_test - min) / (max - min)\n",
        "X_val = (X_val - min) / (max - min)\n",
        "#X_train = (X_train - mean)/std\n",
        "#X_test = (X_test - mean)/std\n",
        "#X_val = (X_val - mean)/std"
      ],
      "execution_count": null,
      "outputs": []
    },
    {
      "cell_type": "code",
      "metadata": {
        "id": "tH3F8fa0y6lQ",
        "colab_type": "code",
        "colab": {
          "base_uri": "https://localhost:8080/",
          "height": 34
        },
        "outputId": "e84802d0-8720-46b7-8a50-03cd49e65325"
      },
      "source": [
        "X_train.mean()"
      ],
      "execution_count": null,
      "outputs": [
        {
          "output_type": "execute_result",
          "data": {
            "text/plain": [
              "0.45438951368344954"
            ]
          },
          "metadata": {
            "tags": []
          },
          "execution_count": 20
        }
      ]
    },
    {
      "cell_type": "code",
      "metadata": {
        "id": "WPRwuPOPBVgq",
        "colab_type": "code",
        "colab": {}
      },
      "source": [
        "train_dataset = myDataset(X_train, y_train)\n",
        "train_loader = DataLoader(train_dataset, batch_size= 16, shuffle=True)\n",
        "\n",
        "valid_dataset = myDataset(X_val, y_val)\n",
        "valid_loader = DataLoader(valid_dataset, batch_size= 16, shuffle=True)\n",
        "\n",
        "test_dataset = myDataset(X_test, y_test)\n",
        "test_loader = DataLoader(test_dataset, batch_size=32, shuffle=True)"
      ],
      "execution_count": null,
      "outputs": []
    },
    {
      "cell_type": "code",
      "metadata": {
        "id": "uAL7__sYa9Ol",
        "colab_type": "code",
        "colab": {
          "base_uri": "https://localhost:8080/",
          "height": 69
        },
        "outputId": "9f5827be-d925-48c9-df37-ec1fcf314e65"
      },
      "source": [
        "print(\"train : \", X_train.shape)\n",
        "print(\"valid : \", X_val.shape)\n",
        "print(\"test : \", X_test.shape)"
      ],
      "execution_count": null,
      "outputs": [
        {
          "output_type": "stream",
          "text": [
            "train :  (6951, 30, 216, 1)\n",
            "valid :  (2318, 30, 216, 1)\n",
            "test :  (2317, 30, 216, 1)\n"
          ],
          "name": "stdout"
        }
      ]
    },
    {
      "cell_type": "code",
      "metadata": {
        "id": "y8epzkOpHUDd",
        "colab_type": "code",
        "colab": {
          "base_uri": "https://localhost:8080/",
          "height": 34
        },
        "outputId": "881a909d-cf10-4b6f-eaf8-e2f71af26164"
      },
      "source": [
        "k, l = train_dataset.__getitem__(10)\n",
        "k = np.array(k)\n",
        "k.shape"
      ],
      "execution_count": null,
      "outputs": [
        {
          "output_type": "execute_result",
          "data": {
            "text/plain": [
              "(216, 30)"
            ]
          },
          "metadata": {
            "tags": []
          },
          "execution_count": 23
        }
      ]
    },
    {
      "cell_type": "markdown",
      "metadata": {
        "id": "KHaCOdmTW9J_",
        "colab_type": "text"
      },
      "source": [
        "#Network"
      ]
    },
    {
      "cell_type": "code",
      "metadata": {
        "id": "zig9lv1ffcGp",
        "colab_type": "code",
        "colab": {}
      },
      "source": [
        "#from GaborNet import GaborConv2d\n",
        "\n",
        "device = torch.device(\"cuda:0\" if torch.cuda.is_available() else \"cpu\")\n",
        "\n",
        "class ENet(nn.Module):\n",
        "    def __init__(self, n_class=14):\n",
        "        super(ENet, self).__init__()\n",
        "        self.n_class = n_class\n",
        "        #self.gabor = GaborConv2d(in_channels=1, out_channels=12, kernel_size=(7, 7), device=device)\n",
        "        self.lstm = nn.LSTM(input_size=30, hidden_size=200, num_layers=3, dropout= 0.25, batch_first=True) #(B, time, feat)\n",
        "\n",
        "        self.fc4 = nn.Linear(200, self.n_class)\n",
        "\n",
        "    def forward(self, x):\n",
        "        x, h_n = self.lstm(x)\n",
        "        \n",
        "        x = self.fc4(x[:,-1,:])\n",
        "        \n",
        "        return x"
      ],
      "execution_count": null,
      "outputs": []
    },
    {
      "cell_type": "code",
      "metadata": {
        "id": "sWNlL3QMIrTy",
        "colab_type": "code",
        "colab": {}
      },
      "source": [
        "device = torch.device(\"cuda:0\" if torch.cuda.is_available() else \"cpu\")\n",
        "\n",
        "def fit(model, loader, phase, lr=0.001):\n",
        "  \n",
        "  criterion = nn.CrossEntropyLoss()\n",
        "  optimizer = optim.Adam(model.parameters(), lr=lr , betas=(0.9, 0.99))\n",
        "    \n",
        "  if phase == 'train':\n",
        "    model.train()\n",
        "    \n",
        "  if phase == 'valid':\n",
        "    model.eval()\n",
        "\n",
        "  running_loss = 0.0\n",
        "  running_correct = 0\n",
        "  e = 1\n",
        "\n",
        "  for i, (x, target) in enumerate(loader):\n",
        "    if torch.cuda.is_available():\n",
        "      x = x.cuda()\n",
        "      target = target.cuda()\n",
        "\n",
        "    if phase == 'train':\n",
        "      optimizer.zero_grad()\n",
        "            \n",
        "    output = model(x.float())\n",
        "    loss = criterion(output, target)\n",
        "      \n",
        "    running_loss += loss.item()\n",
        "\n",
        "    preds = output.argmax(dim=1)\n",
        "    running_correct += (preds == target).sum()\n",
        "      \n",
        "    if phase == 'train':\n",
        "      loss.backward()\n",
        "      optimizer.step()\n",
        "\n",
        "    e += 1\n",
        "\n",
        "  loss = running_loss / e #float(len(loader.dataset))\n",
        "  acc = 100. * running_correct / float(len(loader.dataset))\n",
        "    \n",
        "  return  loss, acc"
      ],
      "execution_count": null,
      "outputs": []
    },
    {
      "cell_type": "markdown",
      "metadata": {
        "id": "ljUstLwn41o6",
        "colab_type": "text"
      },
      "source": [
        "#MFCC"
      ]
    },
    {
      "cell_type": "code",
      "metadata": {
        "id": "0kkMA2jYIbW_",
        "colab_type": "code",
        "colab": {}
      },
      "source": [
        "net = ENet()\n",
        "if torch.cuda.is_available():\n",
        "  net = net.cuda()\n",
        "\n",
        "train_loss, train_acc = [], []\n",
        "val_loss, val_acc = [], []\n",
        "best_acc = 0.0\n",
        "\n",
        "for epoch in range(100):\n",
        "  t_loss, t_acc = fit(net, train_loader, 'train')\n",
        "  v_loss, v_acc = fit(net, valid_loader, 'valid')\n",
        "\n",
        "  if v_acc > best_acc:\n",
        "    best_acc = v_acc\n",
        "    best_model = net.state_dict()\n",
        "\n",
        "  train_loss.append(t_loss)\n",
        "  train_acc.append(t_acc)\n",
        "  val_loss.append(v_loss)\n",
        "  val_acc.append(v_acc)"
      ],
      "execution_count": null,
      "outputs": []
    },
    {
      "cell_type": "code",
      "metadata": {
        "id": "dI-DXotpnHpD",
        "colab_type": "code",
        "colab": {
          "base_uri": "https://localhost:8080/",
          "height": 282
        },
        "outputId": "ccf98ee6-469b-4de6-959a-9ca9884f369f"
      },
      "source": [
        "plt.plot(range(len(train_acc)), train_acc, label='train')\n",
        "plt.plot(range(len(val_acc)), val_acc, label='valid')\n",
        "plt.legend()\n",
        "print(best_acc)"
      ],
      "execution_count": null,
      "outputs": [
        {
          "output_type": "stream",
          "text": [
            "tensor(62.5108, device='cuda:0')\n"
          ],
          "name": "stdout"
        },
        {
          "output_type": "display_data",
          "data": {
            "image/png": "[encoded data removed]",
            "text/plain": [
              "<Figure size 432x288 with 1 Axes>"
            ]
          },
          "metadata": {
            "tags": [],
            "needs_background": "light"
          }
        }
      ]
    },
    {
      "cell_type": "code",
      "metadata": {
        "id": "5fQI9PGnom3n",
        "colab_type": "code",
        "colab": {
          "base_uri": "https://localhost:8080/",
          "height": 282
        },
        "outputId": "8226ad45-5fe2-4132-ef7b-66a9a342a2ab"
      },
      "source": [
        "plt.plot(range(len(train_loss)), train_loss, label='train')\n",
        "plt.plot(range(len(val_loss)), val_loss, label='valid')\n",
        "plt.legend()"
      ],
      "execution_count": null,
      "outputs": [
        {
          "output_type": "execute_result",
          "data": {
            "text/plain": [
              "<matplotlib.legend.Legend at 0x7f3356538358>"
            ]
          },
          "metadata": {
            "tags": []
          },
          "execution_count": 36
        },
        {
          "output_type": "display_data",
          "data": {
            "image/png": "[encoded data removed]",
            "text/plain": [
              "<Figure size 432x288 with 1 Axes>"
            ]
          },
          "metadata": {
            "tags": [],
            "needs_background": "light"
          }
        }
      ]
    },
    {
      "cell_type": "code",
      "metadata": {
        "id": "ETr5940hZwmN",
        "colab_type": "code",
        "colab": {
          "base_uri": "https://localhost:8080/",
          "height": 52
        },
        "outputId": "c6c4ca5c-8d4c-4b9a-861d-a48b72eb5d07"
      },
      "source": [
        "#device = torch.device(\"cuda:0\" if torch.cuda.is_available() else \"cpu\")\n",
        "correct = 0\n",
        "\n",
        "test_net = ENet()\n",
        "test_net.load_state_dict(best_model)\n",
        "cm = np.zeros((14,14))\n",
        "c = np.arange(14)\n",
        "\n",
        "for i, (x, target) in enumerate(test_loader):\n",
        "  if torch.cuda.is_available():\n",
        "    x = x.cuda()\n",
        "    target = target.cuda()\n",
        "    test_net = test_net.cuda()\n",
        "\n",
        "  output = test_net(x.float())\n",
        "  preds = output.argmax(dim=1)\n",
        "\n",
        "  correct += (preds == target).sum()\n",
        "  cm += confusion_matrix(preds.cpu(), target.cpu(), labels = c)\n",
        "\n",
        "acc = 100. * correct / len(test_loader.dataset)\n",
        "\n",
        "print(\"ACC Test\")\n",
        "print(acc)"
      ],
      "execution_count": null,
      "outputs": [
        {
          "output_type": "stream",
          "text": [
            "ACC Test\n",
            "tensor(60.3798, device='cuda:0')\n"
          ],
          "name": "stdout"
        }
      ]
    },
    {
      "cell_type": "code",
      "metadata": {
        "id": "19PrpPcHj9TI",
        "colab_type": "code",
        "colab": {
          "base_uri": "https://localhost:8080/",
          "height": 282
        },
        "outputId": "33188ca9-d870-42e7-b4ce-442b65583b7f"
      },
      "source": [
        "import seaborn as sns\n",
        "\n",
        "cm_d = cm.astype('int')\n",
        "l = ['f_angry' 'f_disgust' 'f_fear' 'f_happy'\n",
        " 'f_neutral' 'f_sad' 'f_surprise' 'm_angry'\n",
        " 'm_disgust' 'm_fear' 'm_happy' 'm_neutral' 'm_sad'\n",
        " 'm_surprise'] #lb.classes_\n",
        "sns.heatmap(cm_d, annot=True, fmt='d') #, xticklabels=l) #, yticklabels=l)"
      ],
      "execution_count": null,
      "outputs": [
        {
          "output_type": "execute_result",
          "data": {
            "text/plain": [
              "<matplotlib.axes._subplots.AxesSubplot at 0x7f32d5be8b00>"
            ]
          },
          "metadata": {
            "tags": []
          },
          "execution_count": 45
        },
        {
          "output_type": "display_data",
          "data": {
            "image/png": "[encoded data removed]",
            "text/plain": [
              "<Figure size 432x288 with 2 Axes>"
            ]
          },
          "metadata": {
            "tags": [],
            "needs_background": "light"
          }
        }
      ]
    },
    {
      "cell_type": "markdown",
      "metadata": {
        "id": "Z_irn2Qz1c8G",
        "colab_type": "text"
      },
      "source": [
        "# MEL"
      ]
    },
    {
      "cell_type": "code",
      "metadata": {
        "colab_type": "code",
        "id": "AaLRdZWG1g7n",
        "colab": {
          "base_uri": "https://localhost:8080/",
          "height": 69
        },
        "outputId": "f51a1d3f-fc56-461f-d795-b6fbad580a83"
      },
      "source": [
        "import pickle\n",
        "import pandas as pd\n",
        "\n",
        "with open(\"/gdrive/My Drive/mel_crema.pkl\", 'rb') as f:\n",
        "    mel_c = pickle.load(f)\n",
        "\n",
        "with open(\"/gdrive/My Drive/mel_3.pkl\", 'rb') as f:\n",
        "    mel_3 = pickle.load(f)\n",
        "\n",
        "print(mel_c.shape)\n",
        "print(mel_3.shape)\n",
        "\n",
        "ref = pd.read_csv(\"/gdrive/My Drive/Data_path.csv\")\n",
        "ref = ref.drop(11586)\n",
        "\n",
        "mel = np.concatenate((mel_3, mel_c), axis=0)\n",
        "mel.shape"
      ],
      "execution_count": null,
      "outputs": [
        {
          "output_type": "stream",
          "text": [
            "(7062, 30, 216, 1)\n",
            "(4524, 30, 216, 1)\n"
          ],
          "name": "stdout"
        },
        {
          "output_type": "execute_result",
          "data": {
            "text/plain": [
              "(11586, 30, 216, 1)"
            ]
          },
          "metadata": {
            "tags": []
          },
          "execution_count": 37
        }
      ]
    },
    {
      "cell_type": "code",
      "metadata": {
        "colab_type": "code",
        "id": "wvXvczCT1g77",
        "colab": {}
      },
      "source": [
        " X_train, X_test, y_train, y_test = train_test_split(mel, ref['labels'], test_size=0.4, random_state=23)\n",
        "\n",
        " X_test, X_val, y_test, y_val = train_test_split(X_test, y_test, test_size=0.5, random_state=23)"
      ],
      "execution_count": null,
      "outputs": []
    },
    {
      "cell_type": "code",
      "metadata": {
        "colab_type": "code",
        "id": "gr5z3IO91g8F",
        "colab": {}
      },
      "source": [
        "# one hot encode the target \n",
        "lb = LabelEncoder()\n",
        "y_train = np_utils.to_categorical(lb.fit_transform(y_train))\n",
        "y_test = np_utils.to_categorical(lb.fit_transform(y_test))\n",
        "y_val = np_utils.to_categorical(lb.fit_transform(y_val))\n",
        "\n",
        "# Normalization as per the standard NN process\n",
        "min = np.min(X_train, axis=0)\n",
        "max = np.max(X_train, axis=0)\n",
        "\n",
        "X_train = (X_train - min)/ (max-min)\n",
        "X_test = (X_test - min)/ (max-min)\n",
        "X_val = (X_val - min)/ (max-min)"
      ],
      "execution_count": null,
      "outputs": []
    },
    {
      "cell_type": "code",
      "metadata": {
        "colab_type": "code",
        "id": "QBxr9qui1g8L",
        "colab": {}
      },
      "source": [
        "train_dataset = myDataset(X_train, y_train)\n",
        "train_loader = DataLoader(train_dataset, batch_size= 16, shuffle=True)\n",
        "\n",
        "valid_dataset = myDataset(X_val, y_val)\n",
        "valid_loader = DataLoader(valid_dataset, batch_size= 16, shuffle=True)\n",
        "\n",
        "test_dataset = myDataset(X_test, y_test)\n",
        "test_loader = DataLoader(test_dataset, batch_size=32, shuffle=True)"
      ],
      "execution_count": null,
      "outputs": []
    },
    {
      "cell_type": "code",
      "metadata": {
        "colab_type": "code",
        "id": "nYQGbvnw1g8S",
        "colab": {
          "base_uri": "https://localhost:8080/",
          "height": 69
        },
        "outputId": "619e1cd3-ad48-4a2c-edd0-a8a0c346ce71"
      },
      "source": [
        "print(\"train : \", X_train.shape)\n",
        "print(\"valid : \", X_val.shape)\n",
        "print(\"test : \", X_test.shape)"
      ],
      "execution_count": null,
      "outputs": [
        {
          "output_type": "stream",
          "text": [
            "train :  (6951, 30, 216, 1)\n",
            "valid :  (2318, 30, 216, 1)\n",
            "test :  (2317, 30, 216, 1)\n"
          ],
          "name": "stdout"
        }
      ]
    },
    {
      "cell_type": "code",
      "metadata": {
        "colab_type": "code",
        "id": "Q4uETxq31g8Y",
        "colab": {}
      },
      "source": [
        "mel_model = ENet(14)\n",
        "if torch.cuda.is_available():\n",
        "  mel_model = mel_model.to(device)\n",
        "\n",
        "train_loss, train_acc = [], []\n",
        "val_loss, val_acc = [], []\n",
        "best_acc = 0.0\n",
        "\n",
        "for epoch in range(100):\n",
        "  t_loss, t_acc = fit(mel_model, train_loader, 'train')\n",
        "  v_loss, v_acc = fit(mel_model, valid_loader, 'valid')\n",
        "\n",
        "  if v_acc > best_acc:\n",
        "    best_acc = v_acc\n",
        "    best_model_wts = mel_model.state_dict()\n",
        "\n",
        "  train_loss.append(t_loss)\n",
        "  train_acc.append(t_acc)\n",
        "  val_loss.append(v_loss)\n",
        "  val_acc.append(v_acc)"
      ],
      "execution_count": null,
      "outputs": []
    },
    {
      "cell_type": "code",
      "metadata": {
        "colab_type": "code",
        "id": "bCzWRUD21g8g",
        "colab": {
          "base_uri": "https://localhost:8080/",
          "height": 282
        },
        "outputId": "c18c6a00-25c8-4e1a-e2f0-2f2e32aec1dd"
      },
      "source": [
        "plt.plot(range(len(train_acc)), train_acc, label='train')\n",
        "plt.plot(range(len(val_acc)), val_acc, label='valid')\n",
        "plt.legend()\n",
        "print(best_acc)"
      ],
      "execution_count": null,
      "outputs": [
        {
          "output_type": "stream",
          "text": [
            "tensor(55.6946, device='cuda:0')\n"
          ],
          "name": "stdout"
        },
        {
          "output_type": "display_data",
          "data": {
            "image/png": "[encoded data removed]",
            "text/plain": [
              "<Figure size 432x288 with 1 Axes>"
            ]
          },
          "metadata": {
            "tags": [],
            "needs_background": "light"
          }
        }
      ]
    },
    {
      "cell_type": "code",
      "metadata": {
        "colab_type": "code",
        "id": "UZEP-N7x1g8n",
        "colab": {
          "base_uri": "https://localhost:8080/",
          "height": 286
        },
        "outputId": "9be79878-9e16-46b0-ec1e-837dbcbe1c0a"
      },
      "source": [
        "plt.plot(range(len(train_loss)), train_loss, label='train')\n",
        "plt.plot(range(len(val_loss)), val_loss, label='valid')\n",
        "plt.legend()"
      ],
      "execution_count": null,
      "outputs": [
        {
          "output_type": "execute_result",
          "data": {
            "text/plain": [
              "<matplotlib.legend.Legend at 0x7ff5ba17a470>"
            ]
          },
          "metadata": {
            "tags": []
          },
          "execution_count": 44
        },
        {
          "output_type": "display_data",
          "data": {
            "image/png": "[encoded data removed]",
            "text/plain": [
              "<Figure size 432x288 with 1 Axes>"
            ]
          },
          "metadata": {
            "tags": [],
            "needs_background": "light"
          }
        }
      ]
    },
    {
      "cell_type": "code",
      "metadata": {
        "colab_type": "code",
        "id": "74qoyD9I1g8t",
        "colab": {
          "base_uri": "https://localhost:8080/",
          "height": 52
        },
        "outputId": "2b264316-34aa-465b-813f-cccd4fbc9988"
      },
      "source": [
        "device = torch.device(\"cuda:0\" if torch.cuda.is_available() else \"cpu\")\n",
        "correct = 0\n",
        "\n",
        "test_net = ENet(14)\n",
        "test_net.load_state_dict(best_model_wts)\n",
        "cm = np.zeros((14,14))\n",
        "c = np.arange(14)\n",
        "\n",
        "for i, (x, target) in enumerate(test_loader):\n",
        "  if torch.cuda.is_available():\n",
        "    x = x.cuda()\n",
        "    target = target.cuda()\n",
        "    test_net = test_net.cuda()\n",
        "\n",
        "  output = test_net(x.float())\n",
        "  preds = output.argmax(dim=1)\n",
        "\n",
        "  correct += (preds == target).sum()\n",
        "  cm += confusion_matrix(preds.cpu(), target.cpu(), labels = c)\n",
        "\n",
        "acc = 100. * correct / len(test_loader.dataset)\n",
        "\n",
        "print(\"ACC Test\")\n",
        "print(acc)"
      ],
      "execution_count": null,
      "outputs": [
        {
          "output_type": "stream",
          "text": [
            "ACC Test\n",
            "tensor(52.5248, device='cuda:0')\n"
          ],
          "name": "stdout"
        }
      ]
    },
    {
      "cell_type": "code",
      "metadata": {
        "colab_type": "code",
        "id": "LOjqYNQg1g83",
        "colab": {
          "base_uri": "https://localhost:8080/",
          "height": 352
        },
        "outputId": "62d5b029-c46a-4fcb-8e5b-8eafd6309581"
      },
      "source": [
        "import seaborn as sns\n",
        "cm_d = cm.astype('int')\n",
        "l = lb.classes_\n",
        "sns.heatmap(cm_d, annot=True, fmt='d', xticklabels=l, yticklabels=l)"
      ],
      "execution_count": null,
      "outputs": [
        {
          "output_type": "execute_result",
          "data": {
            "text/plain": [
              "<matplotlib.axes._subplots.AxesSubplot at 0x7ff5ba0fc710>"
            ]
          },
          "metadata": {
            "tags": []
          },
          "execution_count": 47
        },
        {
          "output_type": "display_data",
          "data": {
            "image/png": "[encoded data removed]",
            "text/plain": [
              "<Figure size 432x288 with 2 Axes>"
            ]
          },
          "metadata": {
            "tags": [],
            "needs_background": "light"
          }
        }
      ]
    },
    {
      "cell_type": "code",
      "metadata": {
        "colab_type": "code",
        "id": "fGbv3tP61g89",
        "colab": {}
      },
      "source": [
        "with open('rnn_mel_30_new.pkl', 'wb') as f:\n",
        "  pickle.dump(best_model_wts, f)"
      ],
      "execution_count": null,
      "outputs": []
    },
    {
      "cell_type": "markdown",
      "metadata": {
        "id": "qS50e6Ev0eL5",
        "colab_type": "text"
      },
      "source": [
        "# Separate Gender - MFCC"
      ]
    },
    {
      "cell_type": "code",
      "metadata": {
        "id": "2r9gv1FTC2HW",
        "colab_type": "code",
        "colab": {
          "base_uri": "https://localhost:8080/",
          "height": 459
        },
        "outputId": "8c930d3e-975b-4750-f23e-0b723ca26da6"
      },
      "source": [
        "import pickle\n",
        "import pandas as pd\n",
        "\n",
        "with open(\"/gdrive/My Drive/female_mfcc.pkl\", 'rb') as f:\n",
        "    female_ref = pickle.load(f)\n",
        "\n",
        "with open(\"/gdrive/My Drive/male_mfcc.pkl\", 'rb') as f:\n",
        "    male_ref = pickle.load(f)\n",
        "\n",
        "print(female_ref.shape)\n",
        "print(male_ref.shape)\n",
        "\n",
        "female_path = pd.read_csv(\"/gdrive/My Drive/dataset_female.csv\")\n",
        "male_path = pd.read_csv(\"/gdrive/My Drive/dataset_male.csv\")\n",
        "male_path = male_path.drop(4717)\n",
        "male_path"
      ],
      "execution_count": null,
      "outputs": [
        {
          "output_type": "stream",
          "text": [
            "(6869, 30, 216, 1)\n",
            "(4717, 30, 216, 1)\n"
          ],
          "name": "stdout"
        },
        {
          "output_type": "execute_result",
          "data": {
            "text/html": [
              "<div>\n",
              "<style scoped>\n",
              "    .dataframe tbody tr th:only-of-type {\n",
              "        vertical-align: middle;\n",
              "    }\n",
              "\n",
              "    .dataframe tbody tr th {\n",
              "        vertical-align: top;\n",
              "    }\n",
              "\n",
              "    .dataframe thead th {\n",
              "        text-align: right;\n",
              "    }\n",
              "</style>\n",
              "<table border=\"1\" class=\"dataframe\">\n",
              "  <thead>\n",
              "    <tr style=\"text-align: right;\">\n",
              "      <th></th>\n",
              "      <th>Unnamed: 0</th>\n",
              "      <th>labels</th>\n",
              "      <th>source</th>\n",
              "      <th>path</th>\n",
              "    </tr>\n",
              "  </thead>\n",
              "  <tbody>\n",
              "    <tr>\n",
              "      <th>0</th>\n",
              "      <td>0</td>\n",
              "      <td>male_neutral</td>\n",
              "      <td>SAVEE</td>\n",
              "      <td>/gdrive/My Drive/SAVEE/DC_n11.wav</td>\n",
              "    </tr>\n",
              "    <tr>\n",
              "      <th>1</th>\n",
              "      <td>1</td>\n",
              "      <td>male_angry</td>\n",
              "      <td>SAVEE</td>\n",
              "      <td>/gdrive/My Drive/SAVEE/DC_a12.wav</td>\n",
              "    </tr>\n",
              "    <tr>\n",
              "      <th>2</th>\n",
              "      <td>2</td>\n",
              "      <td>male_fear</td>\n",
              "      <td>SAVEE</td>\n",
              "      <td>/gdrive/My Drive/SAVEE/JE_f04.wav</td>\n",
              "    </tr>\n",
              "    <tr>\n",
              "      <th>3</th>\n",
              "      <td>3</td>\n",
              "      <td>male_disgust</td>\n",
              "      <td>SAVEE</td>\n",
              "      <td>/gdrive/My Drive/SAVEE/JK_d15.wav</td>\n",
              "    </tr>\n",
              "    <tr>\n",
              "      <th>4</th>\n",
              "      <td>4</td>\n",
              "      <td>male_happy</td>\n",
              "      <td>SAVEE</td>\n",
              "      <td>/gdrive/My Drive/SAVEE/DC_h14.wav</td>\n",
              "    </tr>\n",
              "    <tr>\n",
              "      <th>...</th>\n",
              "      <td>...</td>\n",
              "      <td>...</td>\n",
              "      <td>...</td>\n",
              "      <td>...</td>\n",
              "    </tr>\n",
              "    <tr>\n",
              "      <th>4712</th>\n",
              "      <td>11581</td>\n",
              "      <td>male_fear</td>\n",
              "      <td>CREMA</td>\n",
              "      <td>/gdrive/My Drive/CREMA-D/1087_IOM_FEA_XX.wav</td>\n",
              "    </tr>\n",
              "    <tr>\n",
              "      <th>4713</th>\n",
              "      <td>11582</td>\n",
              "      <td>male_happy</td>\n",
              "      <td>CREMA</td>\n",
              "      <td>/gdrive/My Drive/CREMA-D/1087_IOM_HAP_XX.wav</td>\n",
              "    </tr>\n",
              "    <tr>\n",
              "      <th>4714</th>\n",
              "      <td>11583</td>\n",
              "      <td>male_neutral</td>\n",
              "      <td>CREMA</td>\n",
              "      <td>/gdrive/My Drive/CREMA-D/1087_IOM_NEU_XX.wav</td>\n",
              "    </tr>\n",
              "    <tr>\n",
              "      <th>4715</th>\n",
              "      <td>11584</td>\n",
              "      <td>male_sad</td>\n",
              "      <td>CREMA</td>\n",
              "      <td>/gdrive/My Drive/CREMA-D/1087_IOM_SAD_XX.wav</td>\n",
              "    </tr>\n",
              "    <tr>\n",
              "      <th>4716</th>\n",
              "      <td>11585</td>\n",
              "      <td>male_angry</td>\n",
              "      <td>CREMA</td>\n",
              "      <td>/gdrive/My Drive/CREMA-D/1087_ITH_ANG_XX.wav</td>\n",
              "    </tr>\n",
              "  </tbody>\n",
              "</table>\n",
              "<p>4717 rows × 4 columns</p>\n",
              "</div>"
            ],
            "text/plain": [
              "      Unnamed: 0  ...                                          path\n",
              "0              0  ...             /gdrive/My Drive/SAVEE/DC_n11.wav\n",
              "1              1  ...             /gdrive/My Drive/SAVEE/DC_a12.wav\n",
              "2              2  ...             /gdrive/My Drive/SAVEE/JE_f04.wav\n",
              "3              3  ...             /gdrive/My Drive/SAVEE/JK_d15.wav\n",
              "4              4  ...             /gdrive/My Drive/SAVEE/DC_h14.wav\n",
              "...          ...  ...                                           ...\n",
              "4712       11581  ...  /gdrive/My Drive/CREMA-D/1087_IOM_FEA_XX.wav\n",
              "4713       11582  ...  /gdrive/My Drive/CREMA-D/1087_IOM_HAP_XX.wav\n",
              "4714       11583  ...  /gdrive/My Drive/CREMA-D/1087_IOM_NEU_XX.wav\n",
              "4715       11584  ...  /gdrive/My Drive/CREMA-D/1087_IOM_SAD_XX.wav\n",
              "4716       11585  ...  /gdrive/My Drive/CREMA-D/1087_ITH_ANG_XX.wav\n",
              "\n",
              "[4717 rows x 4 columns]"
            ]
          },
          "metadata": {
            "tags": []
          },
          "execution_count": 49
        }
      ]
    },
    {
      "cell_type": "code",
      "metadata": {
        "id": "IU5txNuKM78B",
        "colab_type": "code",
        "colab": {}
      },
      "source": [
        "#female\n",
        "f_X_train, f_X_test, f_y_train, f_y_test = train_test_split(female_ref, female_path['labels'], test_size=0.4, random_state=23)\n",
        "\n",
        "f_X_test, f_X_val, f_y_test, f_y_val = train_test_split(f_X_test, f_y_test, test_size=0.5, random_state=23)\n",
        "\n",
        "# one hot encode the target \n",
        "f_lb = LabelEncoder()\n",
        "f_y_train = np_utils.to_categorical(f_lb.fit_transform(f_y_train))\n",
        "f_y_test = np_utils.to_categorical(f_lb.fit_transform(f_y_test))\n",
        "f_y_val = np_utils.to_categorical(f_lb.fit_transform(f_y_val))\n",
        "\n",
        "fmin = np.min(f_X_train, axis=0)\n",
        "fmax = np.max(f_X_train, axis=0)\n",
        "\n",
        "X_train = (f_X_train - fmin) / (fmax - fmin)\n",
        "X_test = (f_X_test - fmin) / (fmax - fmin)\n",
        "X_val = (f_X_val - fmin) / (fmax - fmin)\n",
        "\n",
        "\n",
        "##male\n",
        "m_X_train, m_X_test, m_y_train, m_y_test = train_test_split(male_ref, male_path['labels'], test_size=0.4, random_state=23)\n",
        "m_X_test, m_X_val, m_y_test, m_y_val = train_test_split(m_X_test, m_y_test, test_size=0.5, random_state=23)\n",
        "\n",
        "lb = LabelEncoder()\n",
        "m_y_train = np_utils.to_categorical(lb.fit_transform(m_y_train))\n",
        "m_y_test = np_utils.to_categorical(lb.fit_transform(m_y_test))\n",
        "m_y_val = np_utils.to_categorical(lb.fit_transform(m_y_val))\n",
        "\n",
        "mmin = np.min(m_X_train, axis=0)\n",
        "mmax = np.max(m_X_train, axis=0)\n",
        "\n",
        "m_X_train = (m_X_train - mmin)/ (mmax - mmin)\n",
        "m_X_test = (m_X_test - mmin)/ (mmax - mmin)\n",
        "m_X_val = (m_X_val - mmin)/ (mmax - mmin)"
      ],
      "execution_count": null,
      "outputs": []
    },
    {
      "cell_type": "code",
      "metadata": {
        "id": "cHxT9wxOaI0-",
        "colab_type": "code",
        "colab": {
          "base_uri": "https://localhost:8080/",
          "height": 52
        },
        "outputId": "736f4bbc-dd84-4e79-cc0f-a44396f1a8a4"
      },
      "source": [
        "f_lb.classes_"
      ],
      "execution_count": null,
      "outputs": [
        {
          "output_type": "execute_result",
          "data": {
            "text/plain": [
              "array(['female_angry', 'female_disgust', 'female_fear', 'female_happy',\n",
              "       'female_neutral', 'female_sad', 'female_surprise'], dtype=object)"
            ]
          },
          "metadata": {
            "tags": []
          },
          "execution_count": 51
        }
      ]
    },
    {
      "cell_type": "markdown",
      "metadata": {
        "id": "1nwDnMF42XPA",
        "colab_type": "text"
      },
      "source": [
        "**female**"
      ]
    },
    {
      "cell_type": "code",
      "metadata": {
        "colab_type": "code",
        "id": "tKvycm1m2ZHC",
        "colab": {}
      },
      "source": [
        "female_train_dataset = myDataset(f_X_train, f_y_train)\n",
        "female_train_loader = DataLoader(female_train_dataset, batch_size= 16, shuffle=True)\n",
        "\n",
        "female_valid_dataset = myDataset(f_X_val, f_y_val)\n",
        "female_valid_loader = DataLoader(female_valid_dataset, batch_size= 16, shuffle=True)\n",
        "\n",
        "female_test_dataset = myDataset(f_X_test, f_y_test)\n",
        "female_test_loader = DataLoader(female_test_dataset, batch_size=32, shuffle=True)"
      ],
      "execution_count": null,
      "outputs": []
    },
    {
      "cell_type": "code",
      "metadata": {
        "colab_type": "code",
        "id": "9VndJaxF2ZHh",
        "colab": {
          "base_uri": "https://localhost:8080/",
          "height": 69
        },
        "outputId": "31b57fe6-dc1d-4663-b945-09ab37c9bf40"
      },
      "source": [
        "print(\"train : \", f_X_train.shape)\n",
        "print(\"valid : \", f_X_val.shape)\n",
        "print(\"test : \", f_X_test.shape)"
      ],
      "execution_count": null,
      "outputs": [
        {
          "output_type": "stream",
          "text": [
            "train :  (4121, 30, 216, 1)\n",
            "valid :  (1374, 30, 216, 1)\n",
            "test :  (1374, 30, 216, 1)\n"
          ],
          "name": "stdout"
        }
      ]
    },
    {
      "cell_type": "code",
      "metadata": {
        "colab_type": "code",
        "id": "7YAtbOMG2ZHv",
        "colab": {}
      },
      "source": [
        "female_mfcc_model = ENet(7)\n",
        "if torch.cuda.is_available():\n",
        "  female_mfcc_model = female_mfcc_model.cuda()\n",
        "\n",
        "train_loss, train_acc = [], []\n",
        "val_loss, val_acc = [], []\n",
        "best_acc = 0.0\n",
        "\n",
        "for epoch in range(100):\n",
        "  t_loss, t_acc = fit(female_mfcc_model, female_train_loader, 'train')\n",
        "  v_loss, v_acc = fit(female_mfcc_model, female_valid_loader, 'valid')\n",
        "\n",
        "  if v_acc > best_acc:\n",
        "    best_acc = v_acc\n",
        "    best_model_f_mfcc = female_mfcc_model.state_dict()\n",
        "\n",
        "  train_loss.append(t_loss)\n",
        "  train_acc.append(t_acc)\n",
        "  val_loss.append(v_loss)\n",
        "  val_acc.append(v_acc)"
      ],
      "execution_count": null,
      "outputs": []
    },
    {
      "cell_type": "code",
      "metadata": {
        "colab_type": "code",
        "id": "TMjGr3FL2ZH2",
        "colab": {
          "base_uri": "https://localhost:8080/",
          "height": 300
        },
        "outputId": "f1ae3ed0-d4d2-4bff-c869-48e5bc9a638c"
      },
      "source": [
        "print(best_acc)\n",
        "\n",
        "plt.plot(range(len(train_acc)), train_acc, label='train')\n",
        "plt.plot(range(len(val_acc)), val_acc, label='valid')\n",
        "plt.legend()"
      ],
      "execution_count": null,
      "outputs": [
        {
          "output_type": "stream",
          "text": [
            "tensor(76.1281, device='cuda:0')\n"
          ],
          "name": "stdout"
        },
        {
          "output_type": "execute_result",
          "data": {
            "text/plain": [
              "<matplotlib.legend.Legend at 0x7f0b81a91898>"
            ]
          },
          "metadata": {
            "tags": []
          },
          "execution_count": 16
        },
        {
          "output_type": "display_data",
          "data": {
            "image/png": "[encoded data removed]",
            "text/plain": [
              "<Figure size 432x288 with 1 Axes>"
            ]
          },
          "metadata": {
            "tags": [],
            "needs_background": "light"
          }
        }
      ]
    },
    {
      "cell_type": "code",
      "metadata": {
        "colab_type": "code",
        "id": "KXzfWJYV2ZH-",
        "colab": {
          "base_uri": "https://localhost:8080/",
          "height": 286
        },
        "outputId": "1200b556-c7a5-49da-f52a-6f1b7e9ef977"
      },
      "source": [
        "plt.plot(range(len(train_loss)), train_loss, label='train')\n",
        "plt.plot(range(len(val_loss)), val_loss, label='valid')\n",
        "plt.legend()"
      ],
      "execution_count": null,
      "outputs": [
        {
          "output_type": "execute_result",
          "data": {
            "text/plain": [
              "<matplotlib.legend.Legend at 0x7f0b80d68f28>"
            ]
          },
          "metadata": {
            "tags": []
          },
          "execution_count": 17
        },
        {
          "output_type": "display_data",
          "data": {
            "image/png": "[encoded data removed]",
            "text/plain": [
              "<Figure size 432x288 with 1 Axes>"
            ]
          },
          "metadata": {
            "tags": [],
            "needs_background": "light"
          }
        }
      ]
    },
    {
      "cell_type": "code",
      "metadata": {
        "colab_type": "code",
        "id": "7S5FNcpC2ZIE",
        "colab": {
          "base_uri": "https://localhost:8080/",
          "height": 52
        },
        "outputId": "37492d4b-b812-45f1-a605-5756c2613ed4"
      },
      "source": [
        "device = torch.device(\"cuda:0\" if torch.cuda.is_available() else \"cpu\")\n",
        "correct = 0\n",
        "\n",
        "test_net = ENet(7)\n",
        "test_net.load_state_dict(best_model_f_mfcc)\n",
        "cm = np.zeros((7,7))\n",
        "c = np.arange(7)\n",
        "\n",
        "for i, (x, target) in enumerate(female_test_loader):\n",
        "  if torch.cuda.is_available():\n",
        "    x = x.cuda()\n",
        "    target = target.cuda()\n",
        "    test_net = test_net.cuda()\n",
        "\n",
        "  output = test_net(x.float())\n",
        "  preds = output.argmax(dim=1)\n",
        "\n",
        "  correct += (preds == target).sum()\n",
        "  cm += confusion_matrix(preds.cpu(), target.cpu(), labels = c)\n",
        "\n",
        "acc = 100. * correct / float(len(female_test_loader.dataset))\n",
        "\n",
        "print(\"ACC Test\")\n",
        "print(acc)"
      ],
      "execution_count": null,
      "outputs": [
        {
          "output_type": "stream",
          "text": [
            "ACC Test\n",
            "tensor(75.7642, device='cuda:0')\n"
          ],
          "name": "stdout"
        }
      ]
    },
    {
      "cell_type": "code",
      "metadata": {
        "colab_type": "code",
        "id": "4uI2HN6u2ZIM",
        "colab": {
          "base_uri": "https://localhost:8080/",
          "height": 352
        },
        "outputId": "ab00aa55-3162-4d57-f858-b1690400f50b"
      },
      "source": [
        "import seaborn as sns\n",
        "cm_d = cm.astype('int')\n",
        "l = f_lb.classes_\n",
        "sns.heatmap(cm_d, annot=True, fmt='d', xticklabels=l, yticklabels=l)\n",
        "#print(l)"
      ],
      "execution_count": null,
      "outputs": [
        {
          "output_type": "execute_result",
          "data": {
            "text/plain": [
              "<matplotlib.axes._subplots.AxesSubplot at 0x7f0b89fbe470>"
            ]
          },
          "metadata": {
            "tags": []
          },
          "execution_count": 29
        },
        {
          "output_type": "display_data",
          "data": {
            "image/png": "[encoded data removed]",
            "text/plain": [
              "<Figure size 432x288 with 2 Axes>"
            ]
          },
          "metadata": {
            "tags": [],
            "needs_background": "light"
          }
        }
      ]
    },
    {
      "cell_type": "code",
      "metadata": {
        "colab_type": "code",
        "id": "mVL-LLg42ZIT",
        "colab": {}
      },
      "source": [
        "with open('frnn__mfcc_30_100.pkl', 'wb') as f:\n",
        "  pickle.dump(best_model_f_mfcc, f)"
      ],
      "execution_count": null,
      "outputs": []
    },
    {
      "cell_type": "markdown",
      "metadata": {
        "colab_type": "text",
        "id": "x_mKikFB6X5Z"
      },
      "source": [
        "**male**"
      ]
    },
    {
      "cell_type": "code",
      "metadata": {
        "colab_type": "code",
        "id": "l053W2Dc83ra",
        "colab": {}
      },
      "source": [
        "male_train_dataset = myDataset(m_X_train, m_y_train)\n",
        "male_train_loader = DataLoader(male_train_dataset, batch_size= 16, shuffle=True) #16\n",
        "\n",
        "male_valid_dataset = myDataset(m_X_val, m_y_val)\n",
        "male_valid_loader = DataLoader(male_valid_dataset, batch_size= 16, shuffle=True)\n",
        "\n",
        "male_test_dataset = myDataset(m_X_test, m_y_test)\n",
        "male_test_loader = DataLoader(male_test_dataset, batch_size=64, shuffle=True)"
      ],
      "execution_count": null,
      "outputs": []
    },
    {
      "cell_type": "code",
      "metadata": {
        "colab_type": "code",
        "id": "Y2a8RVtE6X55",
        "colab": {
          "base_uri": "https://localhost:8080/",
          "height": 69
        },
        "outputId": "79ee282f-9e48-4d20-afac-600f25997a9d"
      },
      "source": [
        "print(\"train : \", m_X_train.shape)\n",
        "print(\"valid : \", m_X_val.shape)\n",
        "print(\"test : \", m_X_test.shape)"
      ],
      "execution_count": null,
      "outputs": [
        {
          "output_type": "stream",
          "text": [
            "train :  (2830, 30, 216, 1)\n",
            "valid :  (944, 30, 216, 1)\n",
            "test :  (943, 30, 216, 1)\n"
          ],
          "name": "stdout"
        }
      ]
    },
    {
      "cell_type": "code",
      "metadata": {
        "colab_type": "code",
        "id": "GhcyCAPy6X6G",
        "colab": {}
      },
      "source": [
        "male_mfcc_model = ENet(7)\n",
        "if torch.cuda.is_available():\n",
        "  male_mfcc_model = male_mfcc_model.cuda()\n",
        "\n",
        "train_loss, train_acc = [], []\n",
        "val_loss, val_acc = [], []\n",
        "best_acc = 0.0\n",
        "\n",
        "for epoch in range(100):\n",
        "  t_loss, t_acc = fit(male_mfcc_model, male_train_loader, 'train')\n",
        "  v_loss, v_acc = fit(male_mfcc_model, male_valid_loader, 'valid')\n",
        "\n",
        "  if v_acc > best_acc:\n",
        "    best_acc = v_acc\n",
        "    best_model_m_mfcc = male_mfcc_model.state_dict()\n",
        "\n",
        "  train_loss.append(t_loss)\n",
        "  train_acc.append(t_acc)\n",
        "  val_loss.append(v_loss)\n",
        "  val_acc.append(v_acc)"
      ],
      "execution_count": null,
      "outputs": []
    },
    {
      "cell_type": "code",
      "metadata": {
        "colab_type": "code",
        "id": "whJFRntG6X6O",
        "colab": {
          "base_uri": "https://localhost:8080/",
          "height": 300
        },
        "outputId": "fd234cc1-a847-41c7-f96a-9a09f61ccb83"
      },
      "source": [
        "print(best_acc)\n",
        "\n",
        "plt.plot(range(len(train_acc)), train_acc, label='train')\n",
        "plt.plot(range(len(val_acc)), val_acc, label='valid')\n",
        "plt.legend()"
      ],
      "execution_count": null,
      "outputs": [
        {
          "output_type": "stream",
          "text": [
            "tensor(46.2924, device='cuda:0')\n"
          ],
          "name": "stdout"
        },
        {
          "output_type": "execute_result",
          "data": {
            "text/plain": [
              "<matplotlib.legend.Legend at 0x7ff53e217ef0>"
            ]
          },
          "metadata": {
            "tags": []
          },
          "execution_count": 80
        },
        {
          "output_type": "display_data",
          "data": {
            "image/png": "[encoded data removed]",
            "text/plain": [
              "<Figure size 432x288 with 1 Axes>"
            ]
          },
          "metadata": {
            "tags": [],
            "needs_background": "light"
          }
        }
      ]
    },
    {
      "cell_type": "code",
      "metadata": {
        "colab_type": "code",
        "id": "3z-vlZQm6X6W",
        "colab": {
          "base_uri": "https://localhost:8080/",
          "height": 282
        },
        "outputId": "7aa498d6-0a00-4df7-ec10-0672d798046d"
      },
      "source": [
        "plt.plot(range(len(train_loss)), train_loss, label='train')\n",
        "plt.plot(range(len(val_loss)), val_loss, label='valid')\n",
        "plt.legend()"
      ],
      "execution_count": null,
      "outputs": [
        {
          "output_type": "execute_result",
          "data": {
            "text/plain": [
              "<matplotlib.legend.Legend at 0x7ff53e2115f8>"
            ]
          },
          "metadata": {
            "tags": []
          },
          "execution_count": 81
        },
        {
          "output_type": "display_data",
          "data": {
            "image/png": "[encoded data removed]",
            "text/plain": [
              "<Figure size 432x288 with 1 Axes>"
            ]
          },
          "metadata": {
            "tags": [],
            "needs_background": "light"
          }
        }
      ]
    },
    {
      "cell_type": "code",
      "metadata": {
        "colab_type": "code",
        "id": "WzdTdnKh6X6f",
        "colab": {
          "base_uri": "https://localhost:8080/",
          "height": 52
        },
        "outputId": "2ae539bc-9104-4912-d71e-c54873da7e7a"
      },
      "source": [
        "device = torch.device(\"cuda:0\" if torch.cuda.is_available() else \"cpu\")\n",
        "correct = 0\n",
        "\n",
        "test_net = ENet(7)\n",
        "test_net.load_state_dict(best_model_m_mfcc)\n",
        "cm = np.zeros((7,7))\n",
        "c = np.arange(7)\n",
        "\n",
        "for i, (x, target) in enumerate(male_test_loader):\n",
        "  if torch.cuda.is_available():\n",
        "    x = x.cuda()\n",
        "    target = target.cuda()\n",
        "    test_net = test_net.cuda()\n",
        "\n",
        "  output = test_net(x.float())\n",
        "  preds = output.argmax(dim=1)\n",
        "\n",
        "  correct += (preds == target).sum()\n",
        "  cm += confusion_matrix(preds.cpu(), target.cpu(), labels = c)\n",
        "\n",
        "acc = 100. * correct / float(len(male_test_loader.dataset))\n",
        "\n",
        "print(\"ACC Test\")\n",
        "print(acc)"
      ],
      "execution_count": null,
      "outputs": [
        {
          "output_type": "stream",
          "text": [
            "ACC Test\n",
            "tensor(44.9629, device='cuda:0')\n"
          ],
          "name": "stdout"
        }
      ]
    },
    {
      "cell_type": "code",
      "metadata": {
        "colab_type": "code",
        "id": "ov097dFI6X6m",
        "colab": {
          "base_uri": "https://localhost:8080/",
          "height": 342
        },
        "outputId": "8d7269cd-673a-49ad-ebf9-89869bd57c69"
      },
      "source": [
        "import seaborn as sns\n",
        "cm_d = cm.astype('int')\n",
        "l = lb.classes_\n",
        "sns.heatmap(cm_d, annot=True, fmt='d', xticklabels=l, yticklabels=l)"
      ],
      "execution_count": null,
      "outputs": [
        {
          "output_type": "execute_result",
          "data": {
            "text/plain": [
              "<matplotlib.axes._subplots.AxesSubplot at 0x7ff53e15cc50>"
            ]
          },
          "metadata": {
            "tags": []
          },
          "execution_count": 83
        },
        {
          "output_type": "display_data",
          "data": {
            "image/png": "[encoded data removed]",
            "text/plain": [
              "<Figure size 432x288 with 2 Axes>"
            ]
          },
          "metadata": {
            "tags": [],
            "needs_background": "light"
          }
        }
      ]
    },
    {
      "cell_type": "code",
      "metadata": {
        "colab_type": "code",
        "id": "ZAA9HYe26X6t",
        "colab": {}
      },
      "source": [
        "with open('mrnn_mfcc_30_100.pkl', 'wb') as f:\n",
        "  pickle.dump(best_model_m_mfcc, f)"
      ],
      "execution_count": null,
      "outputs": []
    },
    {
      "cell_type": "code",
      "metadata": {
        "id": "IRctcuIP_mGO",
        "colab_type": "code",
        "colab": {}
      },
      "source": [
        ""
      ],
      "execution_count": null,
      "outputs": []
    },
    {
      "cell_type": "markdown",
      "metadata": {
        "colab_type": "text",
        "id": "wSZQnFQQ6DWL"
      },
      "source": [
        "# Separate Gender - MEL"
      ]
    },
    {
      "cell_type": "code",
      "metadata": {
        "colab_type": "code",
        "id": "d6nGKjry6DWV",
        "colab": {
          "base_uri": "https://localhost:8080/",
          "height": 459
        },
        "outputId": "52da7555-8850-42ab-84f1-46f69698d230"
      },
      "source": [
        "import pickle\n",
        "import pandas as pd\n",
        "\n",
        "with open(\"/gdrive/My Drive/female_mel.pkl\", 'rb') as f:\n",
        "    female_ref = pickle.load(f)\n",
        "\n",
        "with open(\"/gdrive/My Drive/male_mel.pkl\", 'rb') as f:\n",
        "    male_ref = pickle.load(f)\n",
        "\n",
        "print(female_ref.shape)\n",
        "print(male_ref.shape)\n",
        "\n",
        "female_path = pd.read_csv(\"/gdrive/My Drive/dataset_female.csv\")\n",
        "male_path = pd.read_csv(\"/gdrive/My Drive/dataset_male.csv\")\n",
        "male_path = male_path.drop(4717)\n",
        "male_path"
      ],
      "execution_count": null,
      "outputs": [
        {
          "output_type": "stream",
          "text": [
            "(6869, 30, 216, 1)\n",
            "(4717, 30, 216, 1)\n"
          ],
          "name": "stdout"
        },
        {
          "output_type": "execute_result",
          "data": {
            "text/html": [
              "<div>\n",
              "<style scoped>\n",
              "    .dataframe tbody tr th:only-of-type {\n",
              "        vertical-align: middle;\n",
              "    }\n",
              "\n",
              "    .dataframe tbody tr th {\n",
              "        vertical-align: top;\n",
              "    }\n",
              "\n",
              "    .dataframe thead th {\n",
              "        text-align: right;\n",
              "    }\n",
              "</style>\n",
              "<table border=\"1\" class=\"dataframe\">\n",
              "  <thead>\n",
              "    <tr style=\"text-align: right;\">\n",
              "      <th></th>\n",
              "      <th>Unnamed: 0</th>\n",
              "      <th>labels</th>\n",
              "      <th>source</th>\n",
              "      <th>path</th>\n",
              "    </tr>\n",
              "  </thead>\n",
              "  <tbody>\n",
              "    <tr>\n",
              "      <th>0</th>\n",
              "      <td>0</td>\n",
              "      <td>male_neutral</td>\n",
              "      <td>SAVEE</td>\n",
              "      <td>/gdrive/My Drive/SAVEE/DC_n11.wav</td>\n",
              "    </tr>\n",
              "    <tr>\n",
              "      <th>1</th>\n",
              "      <td>1</td>\n",
              "      <td>male_angry</td>\n",
              "      <td>SAVEE</td>\n",
              "      <td>/gdrive/My Drive/SAVEE/DC_a12.wav</td>\n",
              "    </tr>\n",
              "    <tr>\n",
              "      <th>2</th>\n",
              "      <td>2</td>\n",
              "      <td>male_fear</td>\n",
              "      <td>SAVEE</td>\n",
              "      <td>/gdrive/My Drive/SAVEE/JE_f04.wav</td>\n",
              "    </tr>\n",
              "    <tr>\n",
              "      <th>3</th>\n",
              "      <td>3</td>\n",
              "      <td>male_disgust</td>\n",
              "      <td>SAVEE</td>\n",
              "      <td>/gdrive/My Drive/SAVEE/JK_d15.wav</td>\n",
              "    </tr>\n",
              "    <tr>\n",
              "      <th>4</th>\n",
              "      <td>4</td>\n",
              "      <td>male_happy</td>\n",
              "      <td>SAVEE</td>\n",
              "      <td>/gdrive/My Drive/SAVEE/DC_h14.wav</td>\n",
              "    </tr>\n",
              "    <tr>\n",
              "      <th>...</th>\n",
              "      <td>...</td>\n",
              "      <td>...</td>\n",
              "      <td>...</td>\n",
              "      <td>...</td>\n",
              "    </tr>\n",
              "    <tr>\n",
              "      <th>4712</th>\n",
              "      <td>11581</td>\n",
              "      <td>male_fear</td>\n",
              "      <td>CREMA</td>\n",
              "      <td>/gdrive/My Drive/CREMA-D/1087_IOM_FEA_XX.wav</td>\n",
              "    </tr>\n",
              "    <tr>\n",
              "      <th>4713</th>\n",
              "      <td>11582</td>\n",
              "      <td>male_happy</td>\n",
              "      <td>CREMA</td>\n",
              "      <td>/gdrive/My Drive/CREMA-D/1087_IOM_HAP_XX.wav</td>\n",
              "    </tr>\n",
              "    <tr>\n",
              "      <th>4714</th>\n",
              "      <td>11583</td>\n",
              "      <td>male_neutral</td>\n",
              "      <td>CREMA</td>\n",
              "      <td>/gdrive/My Drive/CREMA-D/1087_IOM_NEU_XX.wav</td>\n",
              "    </tr>\n",
              "    <tr>\n",
              "      <th>4715</th>\n",
              "      <td>11584</td>\n",
              "      <td>male_sad</td>\n",
              "      <td>CREMA</td>\n",
              "      <td>/gdrive/My Drive/CREMA-D/1087_IOM_SAD_XX.wav</td>\n",
              "    </tr>\n",
              "    <tr>\n",
              "      <th>4716</th>\n",
              "      <td>11585</td>\n",
              "      <td>male_angry</td>\n",
              "      <td>CREMA</td>\n",
              "      <td>/gdrive/My Drive/CREMA-D/1087_ITH_ANG_XX.wav</td>\n",
              "    </tr>\n",
              "  </tbody>\n",
              "</table>\n",
              "<p>4717 rows × 4 columns</p>\n",
              "</div>"
            ],
            "text/plain": [
              "      Unnamed: 0  ...                                          path\n",
              "0              0  ...             /gdrive/My Drive/SAVEE/DC_n11.wav\n",
              "1              1  ...             /gdrive/My Drive/SAVEE/DC_a12.wav\n",
              "2              2  ...             /gdrive/My Drive/SAVEE/JE_f04.wav\n",
              "3              3  ...             /gdrive/My Drive/SAVEE/JK_d15.wav\n",
              "4              4  ...             /gdrive/My Drive/SAVEE/DC_h14.wav\n",
              "...          ...  ...                                           ...\n",
              "4712       11581  ...  /gdrive/My Drive/CREMA-D/1087_IOM_FEA_XX.wav\n",
              "4713       11582  ...  /gdrive/My Drive/CREMA-D/1087_IOM_HAP_XX.wav\n",
              "4714       11583  ...  /gdrive/My Drive/CREMA-D/1087_IOM_NEU_XX.wav\n",
              "4715       11584  ...  /gdrive/My Drive/CREMA-D/1087_IOM_SAD_XX.wav\n",
              "4716       11585  ...  /gdrive/My Drive/CREMA-D/1087_ITH_ANG_XX.wav\n",
              "\n",
              "[4717 rows x 4 columns]"
            ]
          },
          "metadata": {
            "tags": []
          },
          "execution_count": 17
        }
      ]
    },
    {
      "cell_type": "code",
      "metadata": {
        "colab_type": "code",
        "id": "mw4E4I3K6DWq",
        "colab": {}
      },
      "source": [
        "#female\n",
        "f_X_train, f_X_test, f_y_train, f_y_test = train_test_split(female_ref, female_path['labels'], test_size=0.4, random_state=23)\n",
        "\n",
        "f_X_test, f_X_val, f_y_test, f_y_val = train_test_split(f_X_test, f_y_test, test_size=0.5, random_state=23)\n",
        "\n",
        "# one hot encode the target \n",
        "f_lb = LabelEncoder()\n",
        "f_y_train = np_utils.to_categorical(f_lb.fit_transform(f_y_train))\n",
        "f_y_test = np_utils.to_categorical(f_lb.fit_transform(f_y_test))\n",
        "f_y_val = np_utils.to_categorical(f_lb.fit_transform(f_y_val))\n",
        "\n",
        "fmin = np.min(f_X_train, axis=0)\n",
        "fmax = np.max(f_X_train, axis=0)\n",
        "\n",
        "X_train = (f_X_train - fmin) / (fmax - fmin)\n",
        "X_test = (f_X_test - fmin) / (fmax - fmin)\n",
        "X_val = (f_X_val - fmin) / (fmax - fmin)\n",
        "\n",
        "\n",
        "##male\n",
        "m_X_train, m_X_test, m_y_train, m_y_test = train_test_split(male_ref, male_path['labels'], test_size=0.4, random_state=23)\n",
        "m_X_test, m_X_val, m_y_test, m_y_val = train_test_split(m_X_test, m_y_test, test_size=0.5, random_state=23)\n",
        "\n",
        "lb = LabelEncoder()\n",
        "m_y_train = np_utils.to_categorical(lb.fit_transform(m_y_train))\n",
        "m_y_test = np_utils.to_categorical(lb.fit_transform(m_y_test))\n",
        "m_y_val = np_utils.to_categorical(lb.fit_transform(m_y_val))\n",
        "\n",
        "mmin = np.min(m_X_train, axis=0)\n",
        "mmax = np.max(m_X_train, axis=0)\n",
        "\n",
        "m_X_train = (m_X_train - mmin)/ (mmax - mmin)\n",
        "m_X_test = (m_X_test - mmin)/ (mmax - mmin)\n",
        "m_X_val = (m_X_val - mmin)/ (mmax - mmin)"
      ],
      "execution_count": null,
      "outputs": []
    },
    {
      "cell_type": "code",
      "metadata": {
        "colab_type": "code",
        "id": "IhGsLkHZ6DW3",
        "colab": {
          "base_uri": "https://localhost:8080/",
          "height": 52
        },
        "outputId": "6593f6c6-4c70-464e-c31d-9fee36eb888a"
      },
      "source": [
        "f_lb.classes_"
      ],
      "execution_count": null,
      "outputs": [
        {
          "output_type": "execute_result",
          "data": {
            "text/plain": [
              "array(['female_angry', 'female_disgust', 'female_fear', 'female_happy',\n",
              "       'female_neutral', 'female_sad', 'female_surprise'], dtype=object)"
            ]
          },
          "metadata": {
            "tags": []
          },
          "execution_count": 19
        }
      ]
    },
    {
      "cell_type": "markdown",
      "metadata": {
        "colab_type": "text",
        "id": "ODxO8zqx6DXB"
      },
      "source": [
        "**female**"
      ]
    },
    {
      "cell_type": "code",
      "metadata": {
        "colab_type": "code",
        "id": "rtotNTxW6DXC",
        "colab": {}
      },
      "source": [
        "female_train_dataset = myDataset(f_X_train, f_y_train)\n",
        "female_train_loader = DataLoader(female_train_dataset, batch_size= 16, shuffle=True)\n",
        "\n",
        "female_valid_dataset = myDataset(f_X_val, f_y_val)\n",
        "female_valid_loader = DataLoader(female_valid_dataset, batch_size= 16, shuffle=True)\n",
        "\n",
        "female_test_dataset = myDataset(f_X_test, f_y_test)\n",
        "female_test_loader = DataLoader(female_test_dataset, batch_size=32, shuffle=True)"
      ],
      "execution_count": null,
      "outputs": []
    },
    {
      "cell_type": "code",
      "metadata": {
        "colab_type": "code",
        "id": "YMB1vSpU6DXL",
        "colab": {
          "base_uri": "https://localhost:8080/",
          "height": 69
        },
        "outputId": "aa9652ac-197e-4f9e-c02f-ece67008d3ed"
      },
      "source": [
        "print(\"train : \", f_X_train.shape)\n",
        "print(\"valid : \", f_X_val.shape)\n",
        "print(\"test : \", f_X_test.shape)"
      ],
      "execution_count": null,
      "outputs": [
        {
          "output_type": "stream",
          "text": [
            "train :  (4121, 30, 216, 1)\n",
            "valid :  (1374, 30, 216, 1)\n",
            "test :  (1374, 30, 216, 1)\n"
          ],
          "name": "stdout"
        }
      ]
    },
    {
      "cell_type": "code",
      "metadata": {
        "colab_type": "code",
        "id": "MPOxcVeP6DXS",
        "colab": {}
      },
      "source": [
        "female_mfcc_model = ENet(7)\n",
        "if torch.cuda.is_available():\n",
        "  female_mfcc_model = female_mfcc_model.cuda()\n",
        "\n",
        "train_loss, train_acc = [], []\n",
        "val_loss, val_acc = [], []\n",
        "best_acc = 0.0\n",
        "\n",
        "for epoch in range(100):\n",
        "  t_loss, t_acc = fit(female_mfcc_model, female_train_loader, 'train')\n",
        "  v_loss, v_acc = fit(female_mfcc_model, female_valid_loader, 'valid')\n",
        "\n",
        "  if v_acc > best_acc:\n",
        "    best_acc = v_acc\n",
        "    best_model_f_mfcc = female_mfcc_model.state_dict()\n",
        "\n",
        "  train_loss.append(t_loss)\n",
        "  train_acc.append(t_acc)\n",
        "  val_loss.append(v_loss)\n",
        "  val_acc.append(v_acc)"
      ],
      "execution_count": null,
      "outputs": []
    },
    {
      "cell_type": "code",
      "metadata": {
        "colab_type": "code",
        "id": "-J1_I1XP6DXa",
        "colab": {
          "base_uri": "https://localhost:8080/",
          "height": 300
        },
        "outputId": "d1327509-269e-4212-88c8-3a1dd62acd20"
      },
      "source": [
        "print(best_acc)\n",
        "\n",
        "plt.plot(range(len(train_acc)), train_acc, label='train')\n",
        "plt.plot(range(len(val_acc)), val_acc, label='valid')\n",
        "plt.legend()"
      ],
      "execution_count": null,
      "outputs": [
        {
          "output_type": "stream",
          "text": [
            "tensor(68.1951, device='cuda:0')\n"
          ],
          "name": "stdout"
        },
        {
          "output_type": "execute_result",
          "data": {
            "text/plain": [
              "<matplotlib.legend.Legend at 0x7ff5b8f6c128>"
            ]
          },
          "metadata": {
            "tags": []
          },
          "execution_count": 23
        },
        {
          "output_type": "display_data",
          "data": {
            "image/png": "[encoded data removed]",
            "text/plain": [
              "<Figure size 432x288 with 1 Axes>"
            ]
          },
          "metadata": {
            "tags": [],
            "needs_background": "light"
          }
        }
      ]
    },
    {
      "cell_type": "code",
      "metadata": {
        "colab_type": "code",
        "id": "JRy0OtAo6DXi",
        "colab": {
          "base_uri": "https://localhost:8080/",
          "height": 282
        },
        "outputId": "e45685f5-9ea8-4164-ec43-0e2e6ecb2774"
      },
      "source": [
        "plt.plot(range(len(train_loss)), train_loss, label='train')\n",
        "plt.plot(range(len(val_loss)), val_loss, label='valid')\n",
        "plt.legend()"
      ],
      "execution_count": null,
      "outputs": [
        {
          "output_type": "execute_result",
          "data": {
            "text/plain": [
              "<matplotlib.legend.Legend at 0x7ff5b8a339b0>"
            ]
          },
          "metadata": {
            "tags": []
          },
          "execution_count": 24
        },
        {
          "output_type": "display_data",
          "data": {
            "image/png": "[encoded data removed]",
            "text/plain": [
              "<Figure size 432x288 with 1 Axes>"
            ]
          },
          "metadata": {
            "tags": [],
            "needs_background": "light"
          }
        }
      ]
    },
    {
      "cell_type": "code",
      "metadata": {
        "colab_type": "code",
        "id": "QA67K1Ot6DXn",
        "colab": {
          "base_uri": "https://localhost:8080/",
          "height": 52
        },
        "outputId": "354bcde8-42e1-4395-c108-1f3423c45ed7"
      },
      "source": [
        "device = torch.device(\"cuda:0\" if torch.cuda.is_available() else \"cpu\")\n",
        "correct = 0\n",
        "\n",
        "test_net = ENet(7)\n",
        "test_net.load_state_dict(best_model_f_mfcc)\n",
        "cm = np.zeros((7,7))\n",
        "c = np.arange(7)\n",
        "\n",
        "for i, (x, target) in enumerate(female_test_loader):\n",
        "  if torch.cuda.is_available():\n",
        "    x = x.cuda()\n",
        "    target = target.cuda()\n",
        "    test_net = test_net.cuda()\n",
        "\n",
        "  output = test_net(x.float())\n",
        "  preds = output.argmax(dim=1)\n",
        "\n",
        "  correct += (preds == target).sum()\n",
        "  cm += confusion_matrix(preds.cpu(), target.cpu(), labels = c)\n",
        "\n",
        "acc = 100. * correct / float(len(female_test_loader.dataset))\n",
        "\n",
        "print(\"ACC Test\")\n",
        "print(acc)"
      ],
      "execution_count": null,
      "outputs": [
        {
          "output_type": "stream",
          "text": [
            "ACC Test\n",
            "tensor(65.1383, device='cuda:0')\n"
          ],
          "name": "stdout"
        }
      ]
    },
    {
      "cell_type": "code",
      "metadata": {
        "colab_type": "code",
        "id": "1TjuMspW6DXv",
        "colab": {
          "base_uri": "https://localhost:8080/",
          "height": 391
        },
        "outputId": "71b54813-836f-4e3f-8f8f-842a46b35c7e"
      },
      "source": [
        "import seaborn as sns\n",
        "cm_d = cm.astype('int')\n",
        "l = f_lb.classes_\n",
        "sns.heatmap(cm_d, annot=True, fmt='d', xticklabels=l, yticklabels=l)\n",
        "#print(l)"
      ],
      "execution_count": null,
      "outputs": [
        {
          "output_type": "stream",
          "text": [
            "/usr/local/lib/python3.6/dist-packages/statsmodels/tools/_testing.py:19: FutureWarning: pandas.util.testing is deprecated. Use the functions in the public API at pandas.testing instead.\n",
            "  import pandas.util.testing as tm\n"
          ],
          "name": "stderr"
        },
        {
          "output_type": "execute_result",
          "data": {
            "text/plain": [
              "<matplotlib.axes._subplots.AxesSubplot at 0x7ff5b803d470>"
            ]
          },
          "metadata": {
            "tags": []
          },
          "execution_count": 26
        },
        {
          "output_type": "display_data",
          "data": {
            "image/png": "[encoded data removed]",
            "text/plain": [
              "<Figure size 432x288 with 2 Axes>"
            ]
          },
          "metadata": {
            "tags": [],
            "needs_background": "light"
          }
        }
      ]
    },
    {
      "cell_type": "code",
      "metadata": {
        "colab_type": "code",
        "id": "AyGq9Wzj6DX2",
        "colab": {}
      },
      "source": [
        "with open('frnn__mfcc_30_100.pkl', 'wb') as f:\n",
        "  pickle.dump(best_model_f_mfcc, f)"
      ],
      "execution_count": null,
      "outputs": []
    },
    {
      "cell_type": "markdown",
      "metadata": {
        "colab_type": "text",
        "id": "--yfpU7K6DX9"
      },
      "source": [
        "**male**"
      ]
    },
    {
      "cell_type": "code",
      "metadata": {
        "colab_type": "code",
        "id": "3Vfe78fk6DX-",
        "colab": {}
      },
      "source": [
        "male_train_dataset = myDataset(m_X_train, m_y_train)\n",
        "male_train_loader = DataLoader(male_train_dataset, batch_size= 16, shuffle=True)\n",
        "\n",
        "male_valid_dataset = myDataset(m_X_val, m_y_val)\n",
        "male_valid_loader = DataLoader(male_valid_dataset, batch_size= 16, shuffle=True)\n",
        "\n",
        "male_test_dataset = myDataset(m_X_test, m_y_test)\n",
        "male_test_loader = DataLoader(male_test_dataset, batch_size=32, shuffle=True)"
      ],
      "execution_count": null,
      "outputs": []
    },
    {
      "cell_type": "code",
      "metadata": {
        "colab_type": "code",
        "id": "qmk0iMNA6DYF",
        "colab": {
          "base_uri": "https://localhost:8080/",
          "height": 69
        },
        "outputId": "e191adfb-da49-4858-b3ca-618466dc89e2"
      },
      "source": [
        "print(\"train : \", m_X_train.shape)\n",
        "print(\"valid : \", m_X_val.shape)\n",
        "print(\"test : \", m_X_test.shape)"
      ],
      "execution_count": null,
      "outputs": [
        {
          "output_type": "stream",
          "text": [
            "train :  (2830, 30, 216, 1)\n",
            "valid :  (944, 30, 216, 1)\n",
            "test :  (943, 30, 216, 1)\n"
          ],
          "name": "stdout"
        }
      ]
    },
    {
      "cell_type": "code",
      "metadata": {
        "colab_type": "code",
        "id": "5BRPEGLV6DYL",
        "colab": {}
      },
      "source": [
        "male_mfcc_model = ENet(7)\n",
        "if torch.cuda.is_available():\n",
        "  male_mfcc_model = male_mfcc_model.cuda()\n",
        "\n",
        "train_loss, train_acc = [], []\n",
        "val_loss, val_acc = [], []\n",
        "best_acc = 0.0\n",
        "\n",
        "for epoch in range(100):\n",
        "  t_loss, t_acc = fit(male_mfcc_model, male_train_loader, 'train')\n",
        "  v_loss, v_acc = fit(male_mfcc_model, male_valid_loader, 'valid')\n",
        "\n",
        "  if v_acc > best_acc:\n",
        "    best_acc = v_acc\n",
        "    best_model_m_mfcc = male_mfcc_model.state_dict()\n",
        "\n",
        "  train_loss.append(t_loss)\n",
        "  train_acc.append(t_acc)\n",
        "  val_loss.append(v_loss)\n",
        "  val_acc.append(v_acc)"
      ],
      "execution_count": null,
      "outputs": []
    },
    {
      "cell_type": "code",
      "metadata": {
        "colab_type": "code",
        "id": "EFZvXQ5E6DYS",
        "colab": {
          "base_uri": "https://localhost:8080/",
          "height": 300
        },
        "outputId": "78d83a7a-5bc4-4e85-9cec-8568734f2186"
      },
      "source": [
        "print(best_acc)\n",
        "\n",
        "plt.plot(range(len(train_acc)), train_acc, label='train')\n",
        "plt.plot(range(len(val_acc)), val_acc, label='valid')\n",
        "plt.legend()"
      ],
      "execution_count": null,
      "outputs": [
        {
          "output_type": "stream",
          "text": [
            "tensor(46.1864, device='cuda:0')\n"
          ],
          "name": "stdout"
        },
        {
          "output_type": "execute_result",
          "data": {
            "text/plain": [
              "<matplotlib.legend.Legend at 0x7ff5b02f3f98>"
            ]
          },
          "metadata": {
            "tags": []
          },
          "execution_count": 31
        },
        {
          "output_type": "display_data",
          "data": {
            "image/png": "[encoded data removed]",
            "text/plain": [
              "<Figure size 432x288 with 1 Axes>"
            ]
          },
          "metadata": {
            "tags": [],
            "needs_background": "light"
          }
        }
      ]
    },
    {
      "cell_type": "code",
      "metadata": {
        "colab_type": "code",
        "id": "miYkrqjH6DYY",
        "colab": {
          "base_uri": "https://localhost:8080/",
          "height": 282
        },
        "outputId": "dfd9d901-3c1f-4bfd-9e6f-40012038fe88"
      },
      "source": [
        "plt.plot(range(len(train_loss)), train_loss, label='train')\n",
        "plt.plot(range(len(val_loss)), val_loss, label='valid')\n",
        "plt.legend()"
      ],
      "execution_count": null,
      "outputs": [
        {
          "output_type": "execute_result",
          "data": {
            "text/plain": [
              "<matplotlib.legend.Legend at 0x7ff5b019a9e8>"
            ]
          },
          "metadata": {
            "tags": []
          },
          "execution_count": 32
        },
        {
          "output_type": "display_data",
          "data": {
            "image/png": "[encoded data removed]",
            "text/plain": [
              "<Figure size 432x288 with 1 Axes>"
            ]
          },
          "metadata": {
            "tags": [],
            "needs_background": "light"
          }
        }
      ]
    },
    {
      "cell_type": "code",
      "metadata": {
        "colab_type": "code",
        "id": "XFcR8cMP6DYe",
        "colab": {
          "base_uri": "https://localhost:8080/",
          "height": 52
        },
        "outputId": "b6f6cc0e-7dd3-4661-996d-107fde39109c"
      },
      "source": [
        "device = torch.device(\"cuda:0\" if torch.cuda.is_available() else \"cpu\")\n",
        "correct = 0\n",
        "\n",
        "test_net = ENet(7)\n",
        "test_net.load_state_dict(best_model_m_mfcc)\n",
        "cm = np.zeros((7,7))\n",
        "c = np.arange(7)\n",
        "\n",
        "for i, (x, target) in enumerate(male_test_loader):\n",
        "  if torch.cuda.is_available():\n",
        "    x = x.cuda()\n",
        "    target = target.cuda()\n",
        "    test_net = test_net.cuda()\n",
        "\n",
        "  output = test_net(x.float())\n",
        "  preds = output.argmax(dim=1)\n",
        "\n",
        "  correct += (preds == target).sum()\n",
        "  cm += confusion_matrix(preds.cpu(), target.cpu(), labels = c)\n",
        "\n",
        "acc = 100. * correct / float(len(male_test_loader.dataset))\n",
        "\n",
        "print(\"ACC Test\")\n",
        "print(acc)"
      ],
      "execution_count": null,
      "outputs": [
        {
          "output_type": "stream",
          "text": [
            "ACC Test\n",
            "tensor(44.4327, device='cuda:0')\n"
          ],
          "name": "stdout"
        }
      ]
    },
    {
      "cell_type": "code",
      "metadata": {
        "colab_type": "code",
        "id": "-8uskdhS6DYj",
        "colab": {
          "base_uri": "https://localhost:8080/",
          "height": 342
        },
        "outputId": "3af3aed3-db4e-4e9e-dbab-34538802a0a8"
      },
      "source": [
        "import seaborn as sns\n",
        "cm_d = cm.astype('int')\n",
        "l = lb.classes_\n",
        "sns.heatmap(cm_d, annot=True, fmt='d', xticklabels=l, yticklabels=l)"
      ],
      "execution_count": null,
      "outputs": [
        {
          "output_type": "execute_result",
          "data": {
            "text/plain": [
              "<matplotlib.axes._subplots.AxesSubplot at 0x7ff5b0165be0>"
            ]
          },
          "metadata": {
            "tags": []
          },
          "execution_count": 34
        },
        {
          "output_type": "display_data",
          "data": {
            "image/png": "[encoded data removed]",
            "text/plain": [
              "<Figure size 432x288 with 2 Axes>"
            ]
          },
          "metadata": {
            "tags": [],
            "needs_background": "light"
          }
        }
      ]
    },
    {
      "cell_type": "code",
      "metadata": {
        "colab_type": "code",
        "id": "L5X6_6N76DYp",
        "colab": {}
      },
      "source": [
        "with open('mrnn_mfcc_30_100.pkl', 'wb') as f:\n",
        "  pickle.dump(best_model_m_mfcc, f)"
      ],
      "execution_count": null,
      "outputs": []
    },
    {
      "cell_type": "code",
      "metadata": {
        "colab_type": "code",
        "id": "FPAX7R7h6DYt",
        "colab": {}
      },
      "source": [
        ""
      ],
      "execution_count": null,
      "outputs": []
    }
  ]
}