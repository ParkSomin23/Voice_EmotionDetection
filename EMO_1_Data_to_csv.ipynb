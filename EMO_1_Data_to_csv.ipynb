{
  "nbformat": 4,
  "nbformat_minor": 0,
  "metadata": {
    "colab": {
      "name": "EMO_1. Data_to_csv.ipynb",
      "provenance": [],
      "collapsed_sections": [],
      "mount_file_id": "126VMmqPbnCj-IAHMSaLVcHwbERH3_bEz",
      "authorship_tag": "ABX9TyPq3oO+cwyE5K0961bU/PDm",
      "include_colab_link": true
    },
    "kernelspec": {
      "name": "python3",
      "display_name": "Python 3"
    }
  },
  "cells": [
    {
      "cell_type": "markdown",
      "metadata": {
        "id": "view-in-github",
        "colab_type": "text"
      },
      "source": [
        "<a href=\"https://colab.research.google.com/github/ParkSomin23/Voice_EmotionDetection/blob/master/EMO_1_Data_to_csv.ipynb\" target=\"_parent\"><img src=\"https://colab.research.google.com/assets/colab-badge.svg\" alt=\"Open In Colab\"/></a>"
      ]
    },
    {
      "cell_type": "code",
      "metadata": {
        "id": "s6KeYwTguD7O",
        "colab_type": "code",
        "colab": {}
      },
      "source": [
        "import librosa\n",
        "import librosa.display\n",
        "import IPython.display as ipd\n",
        "\n",
        "import numpy as np\n",
        "import matplotlib.pyplot as plt\n",
        "from matplotlib.pyplot import specgram\n",
        "\n",
        "import pandas as pd\n",
        "import glob\n",
        "from sklearn.metrics import confusion_matrix\n",
        "\n",
        "import os\n",
        "import sys"
      ],
      "execution_count": null,
      "outputs": []
    },
    {
      "cell_type": "code",
      "metadata": {
        "id": "tj6tGr7Cu08K",
        "colab_type": "code",
        "colab": {
          "base_uri": "https://localhost:8080/",
          "height": 34
        },
        "outputId": "74b320b7-ba1b-4370-b886-cb043a6f9c57"
      },
      "source": [
        "from google.colab import drive\n",
        "drive.mount('/gdrive', force_remount=True)"
      ],
      "execution_count": null,
      "outputs": [
        {
          "output_type": "stream",
          "text": [
            "Mounted at /gdrive\n"
          ],
          "name": "stdout"
        }
      ]
    },
    {
      "cell_type": "code",
      "metadata": {
        "id": "Ggf2zTAlvB5j",
        "colab_type": "code",
        "colab": {}
      },
      "source": [
        "RAVDESS = \"/gdrive/My Drive/RAVDESS/audio_speech_actors_01-24/\"\n",
        "SAVEE = \"/gdrive/My Drive/SAVEE/\"\n",
        "CREMA = \"/gdrive/My Drive/CREMA-D/\"\n",
        "TESS = \"/gdrive/My Drive/TESS/TESS Toronto emotional speech set data/\""
      ],
      "execution_count": null,
      "outputs": []
    },
    {
      "cell_type": "code",
      "metadata": {
        "id": "Tpb0pF8ywIvY",
        "colab_type": "code",
        "colab": {
          "base_uri": "https://localhost:8080/",
          "height": 425
        },
        "outputId": "6376d58d-8324-487e-a251-89563c94b769"
      },
      "source": [
        "filename = os.listdir(RAVDESS)\n",
        "filename"
      ],
      "execution_count": null,
      "outputs": [
        {
          "output_type": "execute_result",
          "data": {
            "text/plain": [
              "['Actor_09',\n",
              " 'Actor_11',\n",
              " 'Actor_23',\n",
              " 'Actor_02',\n",
              " 'Actor_18',\n",
              " 'Actor_22',\n",
              " 'Actor_19',\n",
              " 'Actor_08',\n",
              " 'Actor_14',\n",
              " 'Actor_04',\n",
              " 'Actor_21',\n",
              " 'Actor_13',\n",
              " 'Actor_01',\n",
              " 'Actor_05',\n",
              " 'Actor_07',\n",
              " 'Actor_15',\n",
              " 'Actor_12',\n",
              " 'Actor_16',\n",
              " 'Actor_03',\n",
              " 'Actor_10',\n",
              " 'Actor_24',\n",
              " 'Actor_06',\n",
              " 'Actor_20',\n",
              " 'Actor_17']"
            ]
          },
          "metadata": {
            "tags": []
          },
          "execution_count": 5
        }
      ]
    },
    {
      "cell_type": "markdown",
      "metadata": {
        "id": "5VY1tQ0nzjnr",
        "colab_type": "text"
      },
      "source": [
        ""
      ]
    },
    {
      "cell_type": "markdown",
      "metadata": {
        "id": "6IrzMOM25drJ",
        "colab_type": "text"
      },
      "source": [
        "# RAVDESS DATASET"
      ]
    },
    {
      "cell_type": "code",
      "metadata": {
        "id": "JOG82UFVwjVV",
        "colab_type": "code",
        "colab": {
          "base_uri": "https://localhost:8080/",
          "height": 278
        },
        "outputId": "f16c57ef-a26b-4be2-9c74-522e647da465"
      },
      "source": [
        "dir_list = os.listdir(RAVDESS)\n",
        "\n",
        "emotion = []\n",
        "gender = []\n",
        "path = []\n",
        "\n",
        "for i in dir_list:                              # i : Actor_01, Actor_02 ...\n",
        "  file_name  = os.listdir(RAVDESS + i)\n",
        "  for f in file_name:\n",
        "    part = f.split('.')[0].split('-')\n",
        "    emotion.append(int(part[2]))\n",
        "    gen = int(part[6])\n",
        "    if gen % 2 == 0:\n",
        "      gen = \"female\"\n",
        "    else:\n",
        "      gen = \"male\"\n",
        "    gender.append(gen)\n",
        "    path.append(RAVDESS + i + '/' + f)\n",
        "\n",
        "RAVDESS_df = pd.DataFrame(emotion)\n",
        "RAVDESS_df = RAVDESS_df.replace({1:'neutral', 2:'neutral', 3:'happy', 4:'sad', 5:'angry', 6:'fear', 7:'disgust', 8:'surprise'})\n",
        "RAVDESS_df = pd.concat([pd.DataFrame(gender), RAVDESS_df], axis = 1)\n",
        "\n",
        "RAVDESS_df.columns = ['gender', 'emotion']\n",
        "RAVDESS_df['labels'] =RAVDESS_df.gender + '_' + RAVDESS_df.emotion\n",
        "RAVDESS_df['source'] = 'RAVDESS' \n",
        "\n",
        "RAVDESS_df = pd.concat([RAVDESS_df, pd.DataFrame(path, columns=['path'])], axis = 1)\n",
        "RAVDESS_df = RAVDESS_df.drop(['gender', 'emotion'], axis = 1)\n",
        "RAVDESS_df.labels.value_counts()"
      ],
      "execution_count": null,
      "outputs": [
        {
          "output_type": "execute_result",
          "data": {
            "text/plain": [
              "female_neutral     144\n",
              "male_neutral       144\n",
              "male_happy          96\n",
              "female_surprise     96\n",
              "female_happy        96\n",
              "male_angry          96\n",
              "female_fear         96\n",
              "female_disgust      96\n",
              "female_sad          96\n",
              "female_angry        96\n",
              "male_sad            96\n",
              "male_fear           96\n",
              "male_surprise       96\n",
              "male_disgust        96\n",
              "Name: labels, dtype: int64"
            ]
          },
          "metadata": {
            "tags": []
          },
          "execution_count": 21
        }
      ]
    },
    {
      "cell_type": "code",
      "metadata": {
        "id": "B-X03pm7x1Gj",
        "colab_type": "code",
        "colab": {
          "base_uri": "https://localhost:8080/",
          "height": 424
        },
        "outputId": "c785b165-3cfd-4167-d911-02ecf180d48f"
      },
      "source": [
        "RAVDESS_df"
      ],
      "execution_count": null,
      "outputs": [
        {
          "output_type": "execute_result",
          "data": {
            "text/html": [
              "<div>\n",
              "<style scoped>\n",
              "    .dataframe tbody tr th:only-of-type {\n",
              "        vertical-align: middle;\n",
              "    }\n",
              "\n",
              "    .dataframe tbody tr th {\n",
              "        vertical-align: top;\n",
              "    }\n",
              "\n",
              "    .dataframe thead th {\n",
              "        text-align: right;\n",
              "    }\n",
              "</style>\n",
              "<table border=\"1\" class=\"dataframe\">\n",
              "  <thead>\n",
              "    <tr style=\"text-align: right;\">\n",
              "      <th></th>\n",
              "      <th>labels</th>\n",
              "      <th>source</th>\n",
              "      <th>path</th>\n",
              "    </tr>\n",
              "  </thead>\n",
              "  <tbody>\n",
              "    <tr>\n",
              "      <th>0</th>\n",
              "      <td>male_neutral</td>\n",
              "      <td>RAVDESS</td>\n",
              "      <td>/gdrive/My Drive/RAVDESS/audio_speech_actors_0...</td>\n",
              "    </tr>\n",
              "    <tr>\n",
              "      <th>1</th>\n",
              "      <td>male_neutral</td>\n",
              "      <td>RAVDESS</td>\n",
              "      <td>/gdrive/My Drive/RAVDESS/audio_speech_actors_0...</td>\n",
              "    </tr>\n",
              "    <tr>\n",
              "      <th>2</th>\n",
              "      <td>male_neutral</td>\n",
              "      <td>RAVDESS</td>\n",
              "      <td>/gdrive/My Drive/RAVDESS/audio_speech_actors_0...</td>\n",
              "    </tr>\n",
              "    <tr>\n",
              "      <th>3</th>\n",
              "      <td>male_sad</td>\n",
              "      <td>RAVDESS</td>\n",
              "      <td>/gdrive/My Drive/RAVDESS/audio_speech_actors_0...</td>\n",
              "    </tr>\n",
              "    <tr>\n",
              "      <th>4</th>\n",
              "      <td>male_angry</td>\n",
              "      <td>RAVDESS</td>\n",
              "      <td>/gdrive/My Drive/RAVDESS/audio_speech_actors_0...</td>\n",
              "    </tr>\n",
              "    <tr>\n",
              "      <th>...</th>\n",
              "      <td>...</td>\n",
              "      <td>...</td>\n",
              "      <td>...</td>\n",
              "    </tr>\n",
              "    <tr>\n",
              "      <th>1435</th>\n",
              "      <td>male_surprise</td>\n",
              "      <td>RAVDESS</td>\n",
              "      <td>/gdrive/My Drive/RAVDESS/audio_speech_actors_0...</td>\n",
              "    </tr>\n",
              "    <tr>\n",
              "      <th>1436</th>\n",
              "      <td>male_disgust</td>\n",
              "      <td>RAVDESS</td>\n",
              "      <td>/gdrive/My Drive/RAVDESS/audio_speech_actors_0...</td>\n",
              "    </tr>\n",
              "    <tr>\n",
              "      <th>1437</th>\n",
              "      <td>male_disgust</td>\n",
              "      <td>RAVDESS</td>\n",
              "      <td>/gdrive/My Drive/RAVDESS/audio_speech_actors_0...</td>\n",
              "    </tr>\n",
              "    <tr>\n",
              "      <th>1438</th>\n",
              "      <td>male_disgust</td>\n",
              "      <td>RAVDESS</td>\n",
              "      <td>/gdrive/My Drive/RAVDESS/audio_speech_actors_0...</td>\n",
              "    </tr>\n",
              "    <tr>\n",
              "      <th>1439</th>\n",
              "      <td>male_disgust</td>\n",
              "      <td>RAVDESS</td>\n",
              "      <td>/gdrive/My Drive/RAVDESS/audio_speech_actors_0...</td>\n",
              "    </tr>\n",
              "  </tbody>\n",
              "</table>\n",
              "<p>1440 rows × 3 columns</p>\n",
              "</div>"
            ],
            "text/plain": [
              "             labels   source                                               path\n",
              "0      male_neutral  RAVDESS  /gdrive/My Drive/RAVDESS/audio_speech_actors_0...\n",
              "1      male_neutral  RAVDESS  /gdrive/My Drive/RAVDESS/audio_speech_actors_0...\n",
              "2      male_neutral  RAVDESS  /gdrive/My Drive/RAVDESS/audio_speech_actors_0...\n",
              "3          male_sad  RAVDESS  /gdrive/My Drive/RAVDESS/audio_speech_actors_0...\n",
              "4        male_angry  RAVDESS  /gdrive/My Drive/RAVDESS/audio_speech_actors_0...\n",
              "...             ...      ...                                                ...\n",
              "1435  male_surprise  RAVDESS  /gdrive/My Drive/RAVDESS/audio_speech_actors_0...\n",
              "1436   male_disgust  RAVDESS  /gdrive/My Drive/RAVDESS/audio_speech_actors_0...\n",
              "1437   male_disgust  RAVDESS  /gdrive/My Drive/RAVDESS/audio_speech_actors_0...\n",
              "1438   male_disgust  RAVDESS  /gdrive/My Drive/RAVDESS/audio_speech_actors_0...\n",
              "1439   male_disgust  RAVDESS  /gdrive/My Drive/RAVDESS/audio_speech_actors_0...\n",
              "\n",
              "[1440 rows x 3 columns]"
            ]
          },
          "metadata": {
            "tags": []
          },
          "execution_count": 22
        }
      ]
    },
    {
      "cell_type": "markdown",
      "metadata": {
        "id": "2pittCju5g_C",
        "colab_type": "text"
      },
      "source": [
        "# SAVEE DATASET"
      ]
    },
    {
      "cell_type": "markdown",
      "metadata": {
        "id": "enVXPs496DVb",
        "colab_type": "text"
      },
      "source": [
        "all male dataset"
      ]
    },
    {
      "cell_type": "code",
      "metadata": {
        "id": "IbwKDkvU5zR3",
        "colab_type": "code",
        "colab": {}
      },
      "source": [
        "dir_list"
      ],
      "execution_count": null,
      "outputs": []
    },
    {
      "cell_type": "code",
      "metadata": {
        "id": "LpEOKdSJ25ek",
        "colab_type": "code",
        "colab": {
          "base_uri": "https://localhost:8080/",
          "height": 156
        },
        "outputId": "7f9d9345-908d-497e-bf7f-d0709ea92441"
      },
      "source": [
        "dir_list = os.listdir(SAVEE)\n",
        "\n",
        "emotion = []\n",
        "path = []\n",
        "\n",
        "for i in dir_list:\n",
        "    if i[-8:-6]=='_a':\n",
        "        emotion.append('male_angry')\n",
        "    elif i[-8:-6]=='_d':\n",
        "        emotion.append('male_disgust')\n",
        "    elif i[-8:-6]=='_f':\n",
        "        emotion.append('male_fear')\n",
        "    elif i[-8:-6]=='_h':\n",
        "        emotion.append('male_happy')\n",
        "    elif i[-8:-6]=='_n':\n",
        "        emotion.append('male_neutral')\n",
        "    elif i[-8:-6]=='sa':\n",
        "        emotion.append('male_sad')\n",
        "    elif i[-8:-6]=='su':\n",
        "        emotion.append('male_surprise')\n",
        "    else:\n",
        "        emotion.append('male_error')\n",
        "    \n",
        "    path.append(SAVEE + i)\n",
        "\n",
        "SAVEE_df = pd.DataFrame(emotion, columns = ['labels'])\n",
        "SAVEE_df['source'] = 'SAVEE'\n",
        "SAVEE_df = pd.concat([SAVEE_df, pd.DataFrame(path, columns=['path'])], axis=1)\n",
        "SAVEE_df.labels.value_counts()"
      ],
      "execution_count": null,
      "outputs": [
        {
          "output_type": "execute_result",
          "data": {
            "text/plain": [
              "male_neutral     60\n",
              "male_angry       45\n",
              "male_disgust     45\n",
              "male_fear        44\n",
              "male_surprise    30\n",
              "male_sad         30\n",
              "male_happy       30\n",
              "Name: labels, dtype: int64"
            ]
          },
          "metadata": {
            "tags": []
          },
          "execution_count": 28
        }
      ]
    },
    {
      "cell_type": "code",
      "metadata": {
        "id": "MO0xIiYq50pj",
        "colab_type": "code",
        "colab": {
          "base_uri": "https://localhost:8080/",
          "height": 424
        },
        "outputId": "2c6f8536-c690-45ea-cc2a-cc39e5165b99"
      },
      "source": [
        "SAVEE_df"
      ],
      "execution_count": null,
      "outputs": [
        {
          "output_type": "execute_result",
          "data": {
            "text/html": [
              "<div>\n",
              "<style scoped>\n",
              "    .dataframe tbody tr th:only-of-type {\n",
              "        vertical-align: middle;\n",
              "    }\n",
              "\n",
              "    .dataframe tbody tr th {\n",
              "        vertical-align: top;\n",
              "    }\n",
              "\n",
              "    .dataframe thead th {\n",
              "        text-align: right;\n",
              "    }\n",
              "</style>\n",
              "<table border=\"1\" class=\"dataframe\">\n",
              "  <thead>\n",
              "    <tr style=\"text-align: right;\">\n",
              "      <th></th>\n",
              "      <th>labels</th>\n",
              "      <th>source</th>\n",
              "      <th>path</th>\n",
              "    </tr>\n",
              "  </thead>\n",
              "  <tbody>\n",
              "    <tr>\n",
              "      <th>0</th>\n",
              "      <td>male_neutral</td>\n",
              "      <td>SAVEE</td>\n",
              "      <td>/gdrive/My Drive/SAVEE/DC_n11.wav</td>\n",
              "    </tr>\n",
              "    <tr>\n",
              "      <th>1</th>\n",
              "      <td>male_angry</td>\n",
              "      <td>SAVEE</td>\n",
              "      <td>/gdrive/My Drive/SAVEE/DC_a12.wav</td>\n",
              "    </tr>\n",
              "    <tr>\n",
              "      <th>2</th>\n",
              "      <td>male_fear</td>\n",
              "      <td>SAVEE</td>\n",
              "      <td>/gdrive/My Drive/SAVEE/JE_f04.wav</td>\n",
              "    </tr>\n",
              "    <tr>\n",
              "      <th>3</th>\n",
              "      <td>male_disgust</td>\n",
              "      <td>SAVEE</td>\n",
              "      <td>/gdrive/My Drive/SAVEE/JK_d15.wav</td>\n",
              "    </tr>\n",
              "    <tr>\n",
              "      <th>4</th>\n",
              "      <td>male_happy</td>\n",
              "      <td>SAVEE</td>\n",
              "      <td>/gdrive/My Drive/SAVEE/DC_h14.wav</td>\n",
              "    </tr>\n",
              "    <tr>\n",
              "      <th>...</th>\n",
              "      <td>...</td>\n",
              "      <td>...</td>\n",
              "      <td>...</td>\n",
              "    </tr>\n",
              "    <tr>\n",
              "      <th>279</th>\n",
              "      <td>male_disgust</td>\n",
              "      <td>SAVEE</td>\n",
              "      <td>/gdrive/My Drive/SAVEE/DC_d12.wav</td>\n",
              "    </tr>\n",
              "    <tr>\n",
              "      <th>280</th>\n",
              "      <td>male_fear</td>\n",
              "      <td>SAVEE</td>\n",
              "      <td>/gdrive/My Drive/SAVEE/JK_f02.wav</td>\n",
              "    </tr>\n",
              "    <tr>\n",
              "      <th>281</th>\n",
              "      <td>male_angry</td>\n",
              "      <td>SAVEE</td>\n",
              "      <td>/gdrive/My Drive/SAVEE/DC_a09.wav</td>\n",
              "    </tr>\n",
              "    <tr>\n",
              "      <th>282</th>\n",
              "      <td>male_disgust</td>\n",
              "      <td>SAVEE</td>\n",
              "      <td>/gdrive/My Drive/SAVEE/JE_d05.wav</td>\n",
              "    </tr>\n",
              "    <tr>\n",
              "      <th>283</th>\n",
              "      <td>male_neutral</td>\n",
              "      <td>SAVEE</td>\n",
              "      <td>/gdrive/My Drive/SAVEE/JE_n28.wav</td>\n",
              "    </tr>\n",
              "  </tbody>\n",
              "</table>\n",
              "<p>284 rows × 3 columns</p>\n",
              "</div>"
            ],
            "text/plain": [
              "           labels source                               path\n",
              "0    male_neutral  SAVEE  /gdrive/My Drive/SAVEE/DC_n11.wav\n",
              "1      male_angry  SAVEE  /gdrive/My Drive/SAVEE/DC_a12.wav\n",
              "2       male_fear  SAVEE  /gdrive/My Drive/SAVEE/JE_f04.wav\n",
              "3    male_disgust  SAVEE  /gdrive/My Drive/SAVEE/JK_d15.wav\n",
              "4      male_happy  SAVEE  /gdrive/My Drive/SAVEE/DC_h14.wav\n",
              "..            ...    ...                                ...\n",
              "279  male_disgust  SAVEE  /gdrive/My Drive/SAVEE/DC_d12.wav\n",
              "280     male_fear  SAVEE  /gdrive/My Drive/SAVEE/JK_f02.wav\n",
              "281    male_angry  SAVEE  /gdrive/My Drive/SAVEE/DC_a09.wav\n",
              "282  male_disgust  SAVEE  /gdrive/My Drive/SAVEE/JE_d05.wav\n",
              "283  male_neutral  SAVEE  /gdrive/My Drive/SAVEE/JE_n28.wav\n",
              "\n",
              "[284 rows x 3 columns]"
            ]
          },
          "metadata": {
            "tags": []
          },
          "execution_count": 29
        }
      ]
    },
    {
      "cell_type": "markdown",
      "metadata": {
        "id": "8c6blUpy7EfR",
        "colab_type": "text"
      },
      "source": [
        "# TESS DATASET"
      ]
    },
    {
      "cell_type": "markdown",
      "metadata": {
        "id": "nqtsGmt07IhO",
        "colab_type": "text"
      },
      "source": [
        "all female"
      ]
    },
    {
      "cell_type": "code",
      "metadata": {
        "id": "R60QXH7r7EN1",
        "colab_type": "code",
        "colab": {
          "base_uri": "https://localhost:8080/",
          "height": 260
        },
        "outputId": "220e2648-5a27-42c1-f750-9875792422dd"
      },
      "source": [
        "dir_list = os.listdir(TESS)\n",
        "dir_list.sort()\n",
        "dir_list"
      ],
      "execution_count": null,
      "outputs": [
        {
          "output_type": "execute_result",
          "data": {
            "text/plain": [
              "['OAF_Fear',\n",
              " 'OAF_Pleasant_surprise',\n",
              " 'OAF_Sad',\n",
              " 'OAF_angry',\n",
              " 'OAF_disgust',\n",
              " 'OAF_happy',\n",
              " 'OAF_neutral',\n",
              " 'YAF_angry',\n",
              " 'YAF_disgust',\n",
              " 'YAF_fear',\n",
              " 'YAF_happy',\n",
              " 'YAF_neutral',\n",
              " 'YAF_pleasant_surprised',\n",
              " 'YAF_sad']"
            ]
          },
          "metadata": {
            "tags": []
          },
          "execution_count": 33
        }
      ]
    },
    {
      "cell_type": "code",
      "metadata": {
        "id": "3MT96Gp47BUr",
        "colab_type": "code",
        "colab": {
          "base_uri": "https://localhost:8080/",
          "height": 156
        },
        "outputId": "352d1737-408d-4826-c787-83ac4e403c84"
      },
      "source": [
        "path = []\n",
        "emotion = []\n",
        "\n",
        "for i in dir_list:\n",
        "  file_name = os.listdir(TESS + i)\n",
        "  for f in file_name:\n",
        "    if i == 'OAF_angry' or i == 'YAF_angry':\n",
        "      emotion.append('female_angry')\n",
        "    elif i == 'OAF_disgust' or i == 'YAF_disgust':\n",
        "      emotion.append('female_disgust')\n",
        "    elif i == 'OAF_Fear' or i == 'YAF_fear':\n",
        "      emotion.append('female_fear')\n",
        "    elif i == 'OAF_happy' or i == 'YAF_happy':\n",
        "      emotion.append('female_happy')\n",
        "    elif i == 'OAF_neutral' or i == 'YAF_neutral':\n",
        "      emotion.append('female_neutral')                                \n",
        "    elif i == 'OAF_Pleasant_surprise' or i == 'YAF_pleasant_surprised':\n",
        "      emotion.append('female_surprise')               \n",
        "    elif i == 'OAF_Sad' or i == 'YAF_sad':\n",
        "      emotion.append('female_sad')\n",
        "    else:\n",
        "      emotion.append('Unknown')\n",
        "    path.append(TESS + i + \"/\" + f)\n",
        "\n",
        "TESS_df = pd.DataFrame(emotion, columns=['labels'])\n",
        "TESS_df['source'] = 'TESS'\n",
        "TESS_df = pd.concat([TESS_df, pd.DataFrame(path, columns=['path'])], axis=1)\n",
        "TESS_df.labels.value_counts()"
      ],
      "execution_count": null,
      "outputs": [
        {
          "output_type": "execute_result",
          "data": {
            "text/plain": [
              "female_fear        400\n",
              "female_sad         400\n",
              "female_neutral     400\n",
              "female_surprise    400\n",
              "female_happy       400\n",
              "female_disgust     400\n",
              "female_angry       400\n",
              "Name: labels, dtype: int64"
            ]
          },
          "metadata": {
            "tags": []
          },
          "execution_count": 37
        }
      ]
    },
    {
      "cell_type": "code",
      "metadata": {
        "id": "7n0foH9Z8zK7",
        "colab_type": "code",
        "colab": {
          "base_uri": "https://localhost:8080/",
          "height": 424
        },
        "outputId": "0028c50b-7ce7-4843-e5db-bcdf15a9e155"
      },
      "source": [
        "TESS_df"
      ],
      "execution_count": null,
      "outputs": [
        {
          "output_type": "execute_result",
          "data": {
            "text/html": [
              "<div>\n",
              "<style scoped>\n",
              "    .dataframe tbody tr th:only-of-type {\n",
              "        vertical-align: middle;\n",
              "    }\n",
              "\n",
              "    .dataframe tbody tr th {\n",
              "        vertical-align: top;\n",
              "    }\n",
              "\n",
              "    .dataframe thead th {\n",
              "        text-align: right;\n",
              "    }\n",
              "</style>\n",
              "<table border=\"1\" class=\"dataframe\">\n",
              "  <thead>\n",
              "    <tr style=\"text-align: right;\">\n",
              "      <th></th>\n",
              "      <th>labels</th>\n",
              "      <th>source</th>\n",
              "      <th>path</th>\n",
              "    </tr>\n",
              "  </thead>\n",
              "  <tbody>\n",
              "    <tr>\n",
              "      <th>0</th>\n",
              "      <td>female_fear</td>\n",
              "      <td>TESS</td>\n",
              "      <td>/gdrive/My Drive/TESS/TESS Toronto emotional s...</td>\n",
              "    </tr>\n",
              "    <tr>\n",
              "      <th>1</th>\n",
              "      <td>female_fear</td>\n",
              "      <td>TESS</td>\n",
              "      <td>/gdrive/My Drive/TESS/TESS Toronto emotional s...</td>\n",
              "    </tr>\n",
              "    <tr>\n",
              "      <th>2</th>\n",
              "      <td>female_fear</td>\n",
              "      <td>TESS</td>\n",
              "      <td>/gdrive/My Drive/TESS/TESS Toronto emotional s...</td>\n",
              "    </tr>\n",
              "    <tr>\n",
              "      <th>3</th>\n",
              "      <td>female_fear</td>\n",
              "      <td>TESS</td>\n",
              "      <td>/gdrive/My Drive/TESS/TESS Toronto emotional s...</td>\n",
              "    </tr>\n",
              "    <tr>\n",
              "      <th>4</th>\n",
              "      <td>female_fear</td>\n",
              "      <td>TESS</td>\n",
              "      <td>/gdrive/My Drive/TESS/TESS Toronto emotional s...</td>\n",
              "    </tr>\n",
              "    <tr>\n",
              "      <th>...</th>\n",
              "      <td>...</td>\n",
              "      <td>...</td>\n",
              "      <td>...</td>\n",
              "    </tr>\n",
              "    <tr>\n",
              "      <th>2795</th>\n",
              "      <td>female_sad</td>\n",
              "      <td>TESS</td>\n",
              "      <td>/gdrive/My Drive/TESS/TESS Toronto emotional s...</td>\n",
              "    </tr>\n",
              "    <tr>\n",
              "      <th>2796</th>\n",
              "      <td>female_sad</td>\n",
              "      <td>TESS</td>\n",
              "      <td>/gdrive/My Drive/TESS/TESS Toronto emotional s...</td>\n",
              "    </tr>\n",
              "    <tr>\n",
              "      <th>2797</th>\n",
              "      <td>female_sad</td>\n",
              "      <td>TESS</td>\n",
              "      <td>/gdrive/My Drive/TESS/TESS Toronto emotional s...</td>\n",
              "    </tr>\n",
              "    <tr>\n",
              "      <th>2798</th>\n",
              "      <td>female_sad</td>\n",
              "      <td>TESS</td>\n",
              "      <td>/gdrive/My Drive/TESS/TESS Toronto emotional s...</td>\n",
              "    </tr>\n",
              "    <tr>\n",
              "      <th>2799</th>\n",
              "      <td>female_sad</td>\n",
              "      <td>TESS</td>\n",
              "      <td>/gdrive/My Drive/TESS/TESS Toronto emotional s...</td>\n",
              "    </tr>\n",
              "  </tbody>\n",
              "</table>\n",
              "<p>2800 rows × 3 columns</p>\n",
              "</div>"
            ],
            "text/plain": [
              "           labels source                                               path\n",
              "0     female_fear   TESS  /gdrive/My Drive/TESS/TESS Toronto emotional s...\n",
              "1     female_fear   TESS  /gdrive/My Drive/TESS/TESS Toronto emotional s...\n",
              "2     female_fear   TESS  /gdrive/My Drive/TESS/TESS Toronto emotional s...\n",
              "3     female_fear   TESS  /gdrive/My Drive/TESS/TESS Toronto emotional s...\n",
              "4     female_fear   TESS  /gdrive/My Drive/TESS/TESS Toronto emotional s...\n",
              "...           ...    ...                                                ...\n",
              "2795   female_sad   TESS  /gdrive/My Drive/TESS/TESS Toronto emotional s...\n",
              "2796   female_sad   TESS  /gdrive/My Drive/TESS/TESS Toronto emotional s...\n",
              "2797   female_sad   TESS  /gdrive/My Drive/TESS/TESS Toronto emotional s...\n",
              "2798   female_sad   TESS  /gdrive/My Drive/TESS/TESS Toronto emotional s...\n",
              "2799   female_sad   TESS  /gdrive/My Drive/TESS/TESS Toronto emotional s...\n",
              "\n",
              "[2800 rows x 3 columns]"
            ]
          },
          "metadata": {
            "tags": []
          },
          "execution_count": 38
        }
      ]
    },
    {
      "cell_type": "markdown",
      "metadata": {
        "id": "L8XJn0r99ADw",
        "colab_type": "text"
      },
      "source": [
        "#CREMA-D"
      ]
    },
    {
      "cell_type": "code",
      "metadata": {
        "id": "D6CvE17j89Kz",
        "colab_type": "code",
        "colab": {
          "base_uri": "https://localhost:8080/",
          "height": 187
        },
        "outputId": "39a01495-1f53-4c86-c6c0-3196268d56ca"
      },
      "source": [
        "dir_list = os.listdir(CREMA)\n",
        "dir_list.sort()\n",
        "dir_list[:10]"
      ],
      "execution_count": null,
      "outputs": [
        {
          "output_type": "execute_result",
          "data": {
            "text/plain": [
              "['1001_DFA_ANG_XX.wav',\n",
              " '1001_DFA_DIS_XX.wav',\n",
              " '1001_DFA_FEA_XX.wav',\n",
              " '1001_DFA_HAP_XX.wav',\n",
              " '1001_DFA_NEU_XX.wav',\n",
              " '1001_DFA_SAD_XX.wav',\n",
              " '1001_IEO_ANG_HI.wav',\n",
              " '1001_IEO_ANG_LO.wav',\n",
              " '1001_IEO_ANG_MD.wav',\n",
              " '1001_IEO_DIS_HI.wav']"
            ]
          },
          "metadata": {
            "tags": []
          },
          "execution_count": 15
        }
      ]
    },
    {
      "cell_type": "code",
      "metadata": {
        "id": "bokR1bqi9NVj",
        "colab_type": "code",
        "colab": {
          "base_uri": "https://localhost:8080/",
          "height": 238
        },
        "outputId": "0ba1e453-e145-46df-9277-321c3729c003"
      },
      "source": [
        "gender = []\n",
        "emotion = []\n",
        "path = []\n",
        "female = [1002,1003,1004,1006,1007,1008,1009,1010,1012,1013,1018,1020,1021,1024,1025,1028,1029,1030,1037,1043,1046,1047,1049,\n",
        "          1052,1053,1054,1055,1056,1058,1060,1061,1063,1072,1073,1074,1075,1076,1078,1079,1082,1084,1089,1091]\n",
        "\n",
        "for i in dir_list:\n",
        "  part = i.split('_')\n",
        "  \n",
        "  if int(part[0]) in female:\n",
        "    gen = \"female\"\n",
        "  else:\n",
        "    gen = \"male\"\n",
        "  gender.append(gen)\n",
        "\n",
        "  if part[2] == 'SAD':\n",
        "    emotion.append(gen + '_sad')\n",
        "  elif part[2] == 'ANG':\n",
        "    emotion.append(gen + '_angry')\n",
        "  elif part[2] == 'DIS':\n",
        "    emotion.append(gen + '_disgust')\n",
        "  elif part[2] == 'FEA':\n",
        "    emotion.append(gen + '_fear')\n",
        "  elif part[2] == 'HAP':\n",
        "    emotion.append(gen + '_happy')\n",
        "  elif part[2] == 'NEU':\n",
        "    emotion.append(gen + '_neutral')\n",
        "  else:\n",
        "    emotion.append('Unknown')\n",
        "\n",
        "  path.append(CREMA + i)\n",
        "\n",
        "CREMA_df = pd.DataFrame(emotion, columns=['labels'])\n",
        "CREMA_df['source'] = \"CREMA\"\n",
        "CREMA_df = pd.concat([CREMA_df, pd.DataFrame(path, columns=['path'])], axis=1)\n",
        "CREMA_df.labels.value_counts()"
      ],
      "execution_count": null,
      "outputs": [
        {
          "output_type": "execute_result",
          "data": {
            "text/plain": [
              "male_angry        635\n",
              "male_disgust      635\n",
              "male_fear         634\n",
              "male_sad          634\n",
              "male_happy        634\n",
              "female_happy      573\n",
              "female_fear       572\n",
              "female_angry      572\n",
              "female_disgust    572\n",
              "female_sad        572\n",
              "male_neutral      542\n",
              "female_neutral    488\n",
              "Name: labels, dtype: int64"
            ]
          },
          "metadata": {
            "tags": []
          },
          "execution_count": 16
        }
      ]
    },
    {
      "cell_type": "code",
      "metadata": {
        "id": "WEBLNtjV-sS6",
        "colab_type": "code",
        "colab": {
          "base_uri": "https://localhost:8080/",
          "height": 419
        },
        "outputId": "dbc3a753-5cb3-4265-8667-30dcf71d3ae3"
      },
      "source": [
        "CREMA_df"
      ],
      "execution_count": null,
      "outputs": [
        {
          "output_type": "execute_result",
          "data": {
            "text/html": [
              "<div>\n",
              "<style scoped>\n",
              "    .dataframe tbody tr th:only-of-type {\n",
              "        vertical-align: middle;\n",
              "    }\n",
              "\n",
              "    .dataframe tbody tr th {\n",
              "        vertical-align: top;\n",
              "    }\n",
              "\n",
              "    .dataframe thead th {\n",
              "        text-align: right;\n",
              "    }\n",
              "</style>\n",
              "<table border=\"1\" class=\"dataframe\">\n",
              "  <thead>\n",
              "    <tr style=\"text-align: right;\">\n",
              "      <th></th>\n",
              "      <th>labels</th>\n",
              "      <th>source</th>\n",
              "      <th>path</th>\n",
              "    </tr>\n",
              "  </thead>\n",
              "  <tbody>\n",
              "    <tr>\n",
              "      <th>0</th>\n",
              "      <td>male_angry</td>\n",
              "      <td>CREMA</td>\n",
              "      <td>/gdrive/My Drive/CREMA-D/1001_DFA_ANG_XX.wav</td>\n",
              "    </tr>\n",
              "    <tr>\n",
              "      <th>1</th>\n",
              "      <td>male_disgust</td>\n",
              "      <td>CREMA</td>\n",
              "      <td>/gdrive/My Drive/CREMA-D/1001_DFA_DIS_XX.wav</td>\n",
              "    </tr>\n",
              "    <tr>\n",
              "      <th>2</th>\n",
              "      <td>male_fear</td>\n",
              "      <td>CREMA</td>\n",
              "      <td>/gdrive/My Drive/CREMA-D/1001_DFA_FEA_XX.wav</td>\n",
              "    </tr>\n",
              "    <tr>\n",
              "      <th>3</th>\n",
              "      <td>male_happy</td>\n",
              "      <td>CREMA</td>\n",
              "      <td>/gdrive/My Drive/CREMA-D/1001_DFA_HAP_XX.wav</td>\n",
              "    </tr>\n",
              "    <tr>\n",
              "      <th>4</th>\n",
              "      <td>male_neutral</td>\n",
              "      <td>CREMA</td>\n",
              "      <td>/gdrive/My Drive/CREMA-D/1001_DFA_NEU_XX.wav</td>\n",
              "    </tr>\n",
              "    <tr>\n",
              "      <th>...</th>\n",
              "      <td>...</td>\n",
              "      <td>...</td>\n",
              "      <td>...</td>\n",
              "    </tr>\n",
              "    <tr>\n",
              "      <th>7058</th>\n",
              "      <td>male_happy</td>\n",
              "      <td>CREMA</td>\n",
              "      <td>/gdrive/My Drive/CREMA-D/1087_IOM_HAP_XX.wav</td>\n",
              "    </tr>\n",
              "    <tr>\n",
              "      <th>7059</th>\n",
              "      <td>male_neutral</td>\n",
              "      <td>CREMA</td>\n",
              "      <td>/gdrive/My Drive/CREMA-D/1087_IOM_NEU_XX.wav</td>\n",
              "    </tr>\n",
              "    <tr>\n",
              "      <th>7060</th>\n",
              "      <td>male_sad</td>\n",
              "      <td>CREMA</td>\n",
              "      <td>/gdrive/My Drive/CREMA-D/1087_IOM_SAD_XX.wav</td>\n",
              "    </tr>\n",
              "    <tr>\n",
              "      <th>7061</th>\n",
              "      <td>male_angry</td>\n",
              "      <td>CREMA</td>\n",
              "      <td>/gdrive/My Drive/CREMA-D/1087_ITH_ANG_XX.wav</td>\n",
              "    </tr>\n",
              "    <tr>\n",
              "      <th>7062</th>\n",
              "      <td>male_disgust</td>\n",
              "      <td>CREMA</td>\n",
              "      <td>/gdrive/My Drive/CREMA-D/1087_ITH_DIS_XX.wav</td>\n",
              "    </tr>\n",
              "  </tbody>\n",
              "</table>\n",
              "<p>7063 rows × 3 columns</p>\n",
              "</div>"
            ],
            "text/plain": [
              "            labels source                                          path\n",
              "0       male_angry  CREMA  /gdrive/My Drive/CREMA-D/1001_DFA_ANG_XX.wav\n",
              "1     male_disgust  CREMA  /gdrive/My Drive/CREMA-D/1001_DFA_DIS_XX.wav\n",
              "2        male_fear  CREMA  /gdrive/My Drive/CREMA-D/1001_DFA_FEA_XX.wav\n",
              "3       male_happy  CREMA  /gdrive/My Drive/CREMA-D/1001_DFA_HAP_XX.wav\n",
              "4     male_neutral  CREMA  /gdrive/My Drive/CREMA-D/1001_DFA_NEU_XX.wav\n",
              "...            ...    ...                                           ...\n",
              "7058    male_happy  CREMA  /gdrive/My Drive/CREMA-D/1087_IOM_HAP_XX.wav\n",
              "7059  male_neutral  CREMA  /gdrive/My Drive/CREMA-D/1087_IOM_NEU_XX.wav\n",
              "7060      male_sad  CREMA  /gdrive/My Drive/CREMA-D/1087_IOM_SAD_XX.wav\n",
              "7061    male_angry  CREMA  /gdrive/My Drive/CREMA-D/1087_ITH_ANG_XX.wav\n",
              "7062  male_disgust  CREMA  /gdrive/My Drive/CREMA-D/1087_ITH_DIS_XX.wav\n",
              "\n",
              "[7063 rows x 3 columns]"
            ]
          },
          "metadata": {
            "tags": []
          },
          "execution_count": 17
        }
      ]
    },
    {
      "cell_type": "code",
      "metadata": {
        "id": "2QDX8nbnhCq0",
        "colab_type": "code",
        "colab": {}
      },
      "source": [
        "c_data.to_csv(\"dataset_crema_2.csv\", mode='w')"
      ],
      "execution_count": null,
      "outputs": []
    },
    {
      "cell_type": "markdown",
      "metadata": {
        "id": "jfq1iYn9AH7X",
        "colab_type": "text"
      },
      "source": [
        "# ALL DATA"
      ]
    },
    {
      "cell_type": "code",
      "metadata": {
        "id": "P4spg1fW__9Y",
        "colab_type": "code",
        "colab": {
          "base_uri": "https://localhost:8080/",
          "height": 278
        },
        "outputId": "331a8a28-60fa-4575-85cc-31282a9b4bc0"
      },
      "source": [
        "df = pd.concat([SAVEE_df, RAVDESS_df, TESS_df, CREMA_df], axis = 0)\n",
        "print(df.labels.value_counts())\n",
        "df.head()\n",
        "df.to_csv(\"Data_path.csv\",index=False)"
      ],
      "execution_count": null,
      "outputs": [
        {
          "output_type": "stream",
          "text": [
            "female_happy       1069\n",
            "female_disgust     1068\n",
            "female_angry       1068\n",
            "female_sad         1068\n",
            "female_fear        1068\n",
            "female_neutral     1032\n",
            "male_disgust        776\n",
            "male_angry          776\n",
            "male_fear           774\n",
            "male_happy          760\n",
            "male_sad            760\n",
            "male_neutral        746\n",
            "female_surprise     496\n",
            "male_surprise       126\n",
            "Name: labels, dtype: int64\n"
          ],
          "name": "stdout"
        }
      ]
    },
    {
      "cell_type": "code",
      "metadata": {
        "id": "9bevHRq4AOKp",
        "colab_type": "code",
        "colab": {
          "base_uri": "https://localhost:8080/",
          "height": 424
        },
        "outputId": "9d60c986-a0b9-4955-db23-d042f1f41045"
      },
      "source": [
        "df"
      ],
      "execution_count": null,
      "outputs": [
        {
          "output_type": "execute_result",
          "data": {
            "text/html": [
              "<div>\n",
              "<style scoped>\n",
              "    .dataframe tbody tr th:only-of-type {\n",
              "        vertical-align: middle;\n",
              "    }\n",
              "\n",
              "    .dataframe tbody tr th {\n",
              "        vertical-align: top;\n",
              "    }\n",
              "\n",
              "    .dataframe thead th {\n",
              "        text-align: right;\n",
              "    }\n",
              "</style>\n",
              "<table border=\"1\" class=\"dataframe\">\n",
              "  <thead>\n",
              "    <tr style=\"text-align: right;\">\n",
              "      <th></th>\n",
              "      <th>labels</th>\n",
              "      <th>source</th>\n",
              "      <th>path</th>\n",
              "    </tr>\n",
              "  </thead>\n",
              "  <tbody>\n",
              "    <tr>\n",
              "      <th>0</th>\n",
              "      <td>male_neutral</td>\n",
              "      <td>SAVEE</td>\n",
              "      <td>/gdrive/My Drive/SAVEE/DC_n11.wav</td>\n",
              "    </tr>\n",
              "    <tr>\n",
              "      <th>1</th>\n",
              "      <td>male_angry</td>\n",
              "      <td>SAVEE</td>\n",
              "      <td>/gdrive/My Drive/SAVEE/DC_a12.wav</td>\n",
              "    </tr>\n",
              "    <tr>\n",
              "      <th>2</th>\n",
              "      <td>male_fear</td>\n",
              "      <td>SAVEE</td>\n",
              "      <td>/gdrive/My Drive/SAVEE/JE_f04.wav</td>\n",
              "    </tr>\n",
              "    <tr>\n",
              "      <th>3</th>\n",
              "      <td>male_disgust</td>\n",
              "      <td>SAVEE</td>\n",
              "      <td>/gdrive/My Drive/SAVEE/JK_d15.wav</td>\n",
              "    </tr>\n",
              "    <tr>\n",
              "      <th>4</th>\n",
              "      <td>male_happy</td>\n",
              "      <td>SAVEE</td>\n",
              "      <td>/gdrive/My Drive/SAVEE/DC_h14.wav</td>\n",
              "    </tr>\n",
              "    <tr>\n",
              "      <th>...</th>\n",
              "      <td>...</td>\n",
              "      <td>...</td>\n",
              "      <td>...</td>\n",
              "    </tr>\n",
              "    <tr>\n",
              "      <th>7058</th>\n",
              "      <td>male_happy</td>\n",
              "      <td>CREMA</td>\n",
              "      <td>/gdrive/My Drive/CREMA-D/1087_IOM_HAP_XX.wav</td>\n",
              "    </tr>\n",
              "    <tr>\n",
              "      <th>7059</th>\n",
              "      <td>male_neutral</td>\n",
              "      <td>CREMA</td>\n",
              "      <td>/gdrive/My Drive/CREMA-D/1087_IOM_NEU_XX.wav</td>\n",
              "    </tr>\n",
              "    <tr>\n",
              "      <th>7060</th>\n",
              "      <td>male_sad</td>\n",
              "      <td>CREMA</td>\n",
              "      <td>/gdrive/My Drive/CREMA-D/1087_IOM_SAD_XX.wav</td>\n",
              "    </tr>\n",
              "    <tr>\n",
              "      <th>7061</th>\n",
              "      <td>male_angry</td>\n",
              "      <td>CREMA</td>\n",
              "      <td>/gdrive/My Drive/CREMA-D/1087_ITH_ANG_XX.wav</td>\n",
              "    </tr>\n",
              "    <tr>\n",
              "      <th>7062</th>\n",
              "      <td>male_disgust</td>\n",
              "      <td>CREMA</td>\n",
              "      <td>/gdrive/My Drive/CREMA-D/1087_ITH_DIS_XX.wav</td>\n",
              "    </tr>\n",
              "  </tbody>\n",
              "</table>\n",
              "<p>11587 rows × 3 columns</p>\n",
              "</div>"
            ],
            "text/plain": [
              "            labels source                                          path\n",
              "0     male_neutral  SAVEE             /gdrive/My Drive/SAVEE/DC_n11.wav\n",
              "1       male_angry  SAVEE             /gdrive/My Drive/SAVEE/DC_a12.wav\n",
              "2        male_fear  SAVEE             /gdrive/My Drive/SAVEE/JE_f04.wav\n",
              "3     male_disgust  SAVEE             /gdrive/My Drive/SAVEE/JK_d15.wav\n",
              "4       male_happy  SAVEE             /gdrive/My Drive/SAVEE/DC_h14.wav\n",
              "...            ...    ...                                           ...\n",
              "7058    male_happy  CREMA  /gdrive/My Drive/CREMA-D/1087_IOM_HAP_XX.wav\n",
              "7059  male_neutral  CREMA  /gdrive/My Drive/CREMA-D/1087_IOM_NEU_XX.wav\n",
              "7060      male_sad  CREMA  /gdrive/My Drive/CREMA-D/1087_IOM_SAD_XX.wav\n",
              "7061    male_angry  CREMA  /gdrive/My Drive/CREMA-D/1087_ITH_ANG_XX.wav\n",
              "7062  male_disgust  CREMA  /gdrive/My Drive/CREMA-D/1087_ITH_DIS_XX.wav\n",
              "\n",
              "[11587 rows x 3 columns]"
            ]
          },
          "metadata": {
            "tags": []
          },
          "execution_count": 49
        }
      ]
    },
    {
      "cell_type": "markdown",
      "metadata": {
        "id": "1QEGYOwV6MJy",
        "colab_type": "text"
      },
      "source": [
        "# Separate"
      ]
    },
    {
      "cell_type": "code",
      "metadata": {
        "id": "istGf0fK6L5y",
        "colab_type": "code",
        "colab": {
          "base_uri": "https://localhost:8080/",
          "height": 122
        },
        "outputId": "fcc84577-f623-4c22-86e9-650457479bb8"
      },
      "source": [
        "from google.colab import drive\n",
        "drive.mount('/gdrive', force_remount=True)"
      ],
      "execution_count": null,
      "outputs": [
        {
          "output_type": "stream",
          "text": [
            "Go to this URL in a browser: https://accounts.google.com/o/oauth2/auth?client_id=947318989803-6bn6qk8qdgf4n4g3pfee6491hc0brc4i.apps.googleusercontent.com&redirect_uri=urn%3aietf%3awg%3aoauth%3a2.0%3aoob&response_type=code&scope=email%20https%3a%2f%2fwww.googleapis.com%2fauth%2fdocs.test%20https%3a%2f%2fwww.googleapis.com%2fauth%2fdrive%20https%3a%2f%2fwww.googleapis.com%2fauth%2fdrive.photos.readonly%20https%3a%2f%2fwww.googleapis.com%2fauth%2fpeopleapi.readonly\n",
            "\n",
            "Enter your authorization code:\n",
            "··········\n",
            "Mounted at /gdrive\n"
          ],
          "name": "stdout"
        }
      ]
    },
    {
      "cell_type": "code",
      "metadata": {
        "id": "tiLX82WfAwFz",
        "colab_type": "code",
        "colab": {}
      },
      "source": [
        "import pandas as pd\n",
        "ref = pd.read_csv(\"/gdrive/My Drive/Data_path.csv\")"
      ],
      "execution_count": null,
      "outputs": []
    },
    {
      "cell_type": "code",
      "metadata": {
        "id": "RJhDkFwm7YG1",
        "colab_type": "code",
        "colab": {
          "base_uri": "https://localhost:8080/",
          "height": 419
        },
        "outputId": "50d3400d-3883-4acf-b2c6-d03192ee4cfd"
      },
      "source": [
        "crema_idx = ref[ref['source']==\"CREMA\"].index\n",
        "\n",
        "data = ref(crema_idx)\n",
        "data"
      ],
      "execution_count": null,
      "outputs": [
        {
          "output_type": "execute_result",
          "data": {
            "text/html": [
              "<div>\n",
              "<style scoped>\n",
              "    .dataframe tbody tr th:only-of-type {\n",
              "        vertical-align: middle;\n",
              "    }\n",
              "\n",
              "    .dataframe tbody tr th {\n",
              "        vertical-align: top;\n",
              "    }\n",
              "\n",
              "    .dataframe thead th {\n",
              "        text-align: right;\n",
              "    }\n",
              "</style>\n",
              "<table border=\"1\" class=\"dataframe\">\n",
              "  <thead>\n",
              "    <tr style=\"text-align: right;\">\n",
              "      <th></th>\n",
              "      <th>labels</th>\n",
              "      <th>source</th>\n",
              "      <th>path</th>\n",
              "    </tr>\n",
              "  </thead>\n",
              "  <tbody>\n",
              "    <tr>\n",
              "      <th>0</th>\n",
              "      <td>male_neutral</td>\n",
              "      <td>SAVEE</td>\n",
              "      <td>/gdrive/My Drive/SAVEE/DC_n11.wav</td>\n",
              "    </tr>\n",
              "    <tr>\n",
              "      <th>1</th>\n",
              "      <td>male_angry</td>\n",
              "      <td>SAVEE</td>\n",
              "      <td>/gdrive/My Drive/SAVEE/DC_a12.wav</td>\n",
              "    </tr>\n",
              "    <tr>\n",
              "      <th>2</th>\n",
              "      <td>male_fear</td>\n",
              "      <td>SAVEE</td>\n",
              "      <td>/gdrive/My Drive/SAVEE/JE_f04.wav</td>\n",
              "    </tr>\n",
              "    <tr>\n",
              "      <th>3</th>\n",
              "      <td>male_disgust</td>\n",
              "      <td>SAVEE</td>\n",
              "      <td>/gdrive/My Drive/SAVEE/JK_d15.wav</td>\n",
              "    </tr>\n",
              "    <tr>\n",
              "      <th>4</th>\n",
              "      <td>male_happy</td>\n",
              "      <td>SAVEE</td>\n",
              "      <td>/gdrive/My Drive/SAVEE/DC_h14.wav</td>\n",
              "    </tr>\n",
              "    <tr>\n",
              "      <th>...</th>\n",
              "      <td>...</td>\n",
              "      <td>...</td>\n",
              "      <td>...</td>\n",
              "    </tr>\n",
              "    <tr>\n",
              "      <th>4519</th>\n",
              "      <td>female_sad</td>\n",
              "      <td>TESS</td>\n",
              "      <td>/gdrive/My Drive/TESS/TESS Toronto emotional s...</td>\n",
              "    </tr>\n",
              "    <tr>\n",
              "      <th>4520</th>\n",
              "      <td>female_sad</td>\n",
              "      <td>TESS</td>\n",
              "      <td>/gdrive/My Drive/TESS/TESS Toronto emotional s...</td>\n",
              "    </tr>\n",
              "    <tr>\n",
              "      <th>4521</th>\n",
              "      <td>female_sad</td>\n",
              "      <td>TESS</td>\n",
              "      <td>/gdrive/My Drive/TESS/TESS Toronto emotional s...</td>\n",
              "    </tr>\n",
              "    <tr>\n",
              "      <th>4522</th>\n",
              "      <td>female_sad</td>\n",
              "      <td>TESS</td>\n",
              "      <td>/gdrive/My Drive/TESS/TESS Toronto emotional s...</td>\n",
              "    </tr>\n",
              "    <tr>\n",
              "      <th>4523</th>\n",
              "      <td>female_sad</td>\n",
              "      <td>TESS</td>\n",
              "      <td>/gdrive/My Drive/TESS/TESS Toronto emotional s...</td>\n",
              "    </tr>\n",
              "  </tbody>\n",
              "</table>\n",
              "<p>4524 rows × 3 columns</p>\n",
              "</div>"
            ],
            "text/plain": [
              "            labels source                                               path\n",
              "0     male_neutral  SAVEE                  /gdrive/My Drive/SAVEE/DC_n11.wav\n",
              "1       male_angry  SAVEE                  /gdrive/My Drive/SAVEE/DC_a12.wav\n",
              "2        male_fear  SAVEE                  /gdrive/My Drive/SAVEE/JE_f04.wav\n",
              "3     male_disgust  SAVEE                  /gdrive/My Drive/SAVEE/JK_d15.wav\n",
              "4       male_happy  SAVEE                  /gdrive/My Drive/SAVEE/DC_h14.wav\n",
              "...            ...    ...                                                ...\n",
              "4519    female_sad   TESS  /gdrive/My Drive/TESS/TESS Toronto emotional s...\n",
              "4520    female_sad   TESS  /gdrive/My Drive/TESS/TESS Toronto emotional s...\n",
              "4521    female_sad   TESS  /gdrive/My Drive/TESS/TESS Toronto emotional s...\n",
              "4522    female_sad   TESS  /gdrive/My Drive/TESS/TESS Toronto emotional s...\n",
              "4523    female_sad   TESS  /gdrive/My Drive/TESS/TESS Toronto emotional s...\n",
              "\n",
              "[4524 rows x 3 columns]"
            ]
          },
          "metadata": {
            "tags": []
          },
          "execution_count": 16
        }
      ]
    },
    {
      "cell_type": "code",
      "metadata": {
        "id": "wS38NZXA8SHG",
        "colab_type": "code",
        "colab": {}
      },
      "source": [
        "data.to_csv(\"dataset_3.csv\", mode='w')"
      ],
      "execution_count": null,
      "outputs": []
    },
    {
      "cell_type": "code",
      "metadata": {
        "id": "SaTU2nzR81if",
        "colab_type": "code",
        "colab": {
          "base_uri": "https://localhost:8080/",
          "height": 419
        },
        "outputId": "7bc17880-feeb-48d5-b8b3-73118c06dac4"
      },
      "source": [
        "crema_idx = ref[ref['source']!=\"CREMA\"].index\n",
        "\n",
        "c_data = ref.drop(crema_idx)\n",
        "c_data"
      ],
      "execution_count": null,
      "outputs": [
        {
          "output_type": "execute_result",
          "data": {
            "text/html": [
              "<div>\n",
              "<style scoped>\n",
              "    .dataframe tbody tr th:only-of-type {\n",
              "        vertical-align: middle;\n",
              "    }\n",
              "\n",
              "    .dataframe tbody tr th {\n",
              "        vertical-align: top;\n",
              "    }\n",
              "\n",
              "    .dataframe thead th {\n",
              "        text-align: right;\n",
              "    }\n",
              "</style>\n",
              "<table border=\"1\" class=\"dataframe\">\n",
              "  <thead>\n",
              "    <tr style=\"text-align: right;\">\n",
              "      <th></th>\n",
              "      <th>labels</th>\n",
              "      <th>source</th>\n",
              "      <th>path</th>\n",
              "    </tr>\n",
              "  </thead>\n",
              "  <tbody>\n",
              "    <tr>\n",
              "      <th>4524</th>\n",
              "      <td>male_angry</td>\n",
              "      <td>CREMA</td>\n",
              "      <td>/gdrive/My Drive/CREMA-D/1001_DFA_ANG_XX.wav</td>\n",
              "    </tr>\n",
              "    <tr>\n",
              "      <th>4525</th>\n",
              "      <td>male_disgust</td>\n",
              "      <td>CREMA</td>\n",
              "      <td>/gdrive/My Drive/CREMA-D/1001_DFA_DIS_XX.wav</td>\n",
              "    </tr>\n",
              "    <tr>\n",
              "      <th>4526</th>\n",
              "      <td>male_fear</td>\n",
              "      <td>CREMA</td>\n",
              "      <td>/gdrive/My Drive/CREMA-D/1001_DFA_FEA_XX.wav</td>\n",
              "    </tr>\n",
              "    <tr>\n",
              "      <th>4527</th>\n",
              "      <td>male_happy</td>\n",
              "      <td>CREMA</td>\n",
              "      <td>/gdrive/My Drive/CREMA-D/1001_DFA_HAP_XX.wav</td>\n",
              "    </tr>\n",
              "    <tr>\n",
              "      <th>4528</th>\n",
              "      <td>male_neutral</td>\n",
              "      <td>CREMA</td>\n",
              "      <td>/gdrive/My Drive/CREMA-D/1001_DFA_NEU_XX.wav</td>\n",
              "    </tr>\n",
              "    <tr>\n",
              "      <th>...</th>\n",
              "      <td>...</td>\n",
              "      <td>...</td>\n",
              "      <td>...</td>\n",
              "    </tr>\n",
              "    <tr>\n",
              "      <th>11582</th>\n",
              "      <td>male_happy</td>\n",
              "      <td>CREMA</td>\n",
              "      <td>/gdrive/My Drive/CREMA-D/1087_IOM_HAP_XX.wav</td>\n",
              "    </tr>\n",
              "    <tr>\n",
              "      <th>11583</th>\n",
              "      <td>male_neutral</td>\n",
              "      <td>CREMA</td>\n",
              "      <td>/gdrive/My Drive/CREMA-D/1087_IOM_NEU_XX.wav</td>\n",
              "    </tr>\n",
              "    <tr>\n",
              "      <th>11584</th>\n",
              "      <td>male_sad</td>\n",
              "      <td>CREMA</td>\n",
              "      <td>/gdrive/My Drive/CREMA-D/1087_IOM_SAD_XX.wav</td>\n",
              "    </tr>\n",
              "    <tr>\n",
              "      <th>11585</th>\n",
              "      <td>male_angry</td>\n",
              "      <td>CREMA</td>\n",
              "      <td>/gdrive/My Drive/CREMA-D/1087_ITH_ANG_XX.wav</td>\n",
              "    </tr>\n",
              "    <tr>\n",
              "      <th>11586</th>\n",
              "      <td>male_disgust</td>\n",
              "      <td>CREMA</td>\n",
              "      <td>/gdrive/My Drive/CREMA-D/1087_ITH_DIS_XX.wav</td>\n",
              "    </tr>\n",
              "  </tbody>\n",
              "</table>\n",
              "<p>7063 rows × 3 columns</p>\n",
              "</div>"
            ],
            "text/plain": [
              "             labels source                                          path\n",
              "4524     male_angry  CREMA  /gdrive/My Drive/CREMA-D/1001_DFA_ANG_XX.wav\n",
              "4525   male_disgust  CREMA  /gdrive/My Drive/CREMA-D/1001_DFA_DIS_XX.wav\n",
              "4526      male_fear  CREMA  /gdrive/My Drive/CREMA-D/1001_DFA_FEA_XX.wav\n",
              "4527     male_happy  CREMA  /gdrive/My Drive/CREMA-D/1001_DFA_HAP_XX.wav\n",
              "4528   male_neutral  CREMA  /gdrive/My Drive/CREMA-D/1001_DFA_NEU_XX.wav\n",
              "...             ...    ...                                           ...\n",
              "11582    male_happy  CREMA  /gdrive/My Drive/CREMA-D/1087_IOM_HAP_XX.wav\n",
              "11583  male_neutral  CREMA  /gdrive/My Drive/CREMA-D/1087_IOM_NEU_XX.wav\n",
              "11584      male_sad  CREMA  /gdrive/My Drive/CREMA-D/1087_IOM_SAD_XX.wav\n",
              "11585    male_angry  CREMA  /gdrive/My Drive/CREMA-D/1087_ITH_ANG_XX.wav\n",
              "11586  male_disgust  CREMA  /gdrive/My Drive/CREMA-D/1087_ITH_DIS_XX.wav\n",
              "\n",
              "[7063 rows x 3 columns]"
            ]
          },
          "metadata": {
            "tags": []
          },
          "execution_count": 9
        }
      ]
    },
    {
      "cell_type": "code",
      "metadata": {
        "id": "i2HGOGGQGnrq",
        "colab_type": "code",
        "colab": {}
      },
      "source": [
        "c_data.to_csv(\"dataset_crema.csv\", mode='w')"
      ],
      "execution_count": null,
      "outputs": []
    },
    {
      "cell_type": "code",
      "metadata": {
        "id": "MYfAIB0bHC_J",
        "colab_type": "code",
        "colab": {}
      },
      "source": [
        ""
      ],
      "execution_count": null,
      "outputs": []
    }
  ]
}